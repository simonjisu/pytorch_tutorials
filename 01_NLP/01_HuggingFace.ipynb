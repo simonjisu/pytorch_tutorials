{
 "cells": [
  {
   "cell_type": "markdown",
   "metadata": {},
   "source": [
    "# HuggingFace Tutorial\n",
    "\n",
    "This is a tutorial for me to learn how to use transformer with huggingface.\n",
    "\n",
    "# Reference: \n",
    "- https://huggingface.co/\n",
    "- https://huggingface.co/transformers/\n",
    "- https://github.com/huggingface/datasets\n",
    "\n",
    "# Installation\n",
    "\n",
    "```bash\n",
    "$ pip install transformers\n",
    "```"
   ]
  },
  {
   "cell_type": "code",
   "execution_count": 149,
   "metadata": {},
   "outputs": [
    {
     "name": "stdout",
     "output_type": "stream",
     "text": [
      "PyTorch Version: 1.6.0\n",
      "TorchText Version: 0.8.0a0+c851c3e\n"
     ]
    }
   ],
   "source": [
    "import numpy as np\n",
    "\n",
    "import torch\n",
    "import torchtext\n",
    "\n",
    "print(f\"PyTorch Version: {torch.__version__}\")\n",
    "print(f\"TorchText Version: {torchtext.__version__}\")  "
   ]
  },
  {
   "cell_type": "markdown",
   "metadata": {},
   "source": [
    "# Datasets\n",
    "\n",
    "need to install sentencepiece\n",
    "\n",
    "```bash\n",
    "$ pip install sentencepiece\n",
    "$ pip install datasets\n",
    "```"
   ]
  },
  {
   "cell_type": "markdown",
   "metadata": {},
   "source": [
    "# How to use?\n",
    "\n",
    "## Pipeline\n",
    "\n",
    "- ConversationalPipeline\n",
    "- FeatureExtractionPipeline\n",
    "- FillMaskPipeline\n",
    "- QuestionAnsweringPipeline\n",
    "- SummarizationPipeline\n",
    "- TextClassificationPipeline\n",
    "- TextGenerationPipeline\n",
    "- TokenClassificationPipeline\n",
    "- TranslationPipeline\n",
    "- ZeroShotClassificationPipeline\n",
    "- Text2TextGenerationPipeline\n",
    "- TableQuestionAnsweringPipeline\n",
    "\n",
    "function: `pipeline`\n",
    "\n",
    "- \"feature-extraction\": will return a FeatureExtractionPipeline.\n",
    "- \"sentiment-analysis\": will return a TextClassificationPipeline.\n",
    "- \"ner\": will return a TokenClassificationPipeline.\n",
    "- \"question-answering\": will return a QuestionAnsweringPipeline.\n",
    "- \"fill-mask\": will return a FillMaskPipeline.\n",
    "- \"summarization\": will return a SummarizationPipeline.\n",
    "- \"translation_xx_to_yy\": will return a TranslationPipeline.\n",
    "- \"text2text-generation\": will return a Text2TextGenerationPipeline.\n",
    "- \"text-generation\": will return a TextGenerationPipeline.\n",
    "- \"zero-shot-classification:: will return a ZeroShotClassificationPipeline.\n",
    "- \"conversation\": will return a ConversationalPipeline.\n",
    "\n",
    "model will be automatically downloaded in `~/.cache/huggingface/`"
   ]
  },
  {
   "cell_type": "code",
   "execution_count": 2,
   "metadata": {},
   "outputs": [],
   "source": [
    "from transformers import pipeline\n",
    "classifier = pipeline(\"sentiment-analysis\", framework=\"pt\")"
   ]
  },
  {
   "cell_type": "code",
   "execution_count": 3,
   "metadata": {},
   "outputs": [],
   "source": [
    "sentences = [\n",
    "    \"We are very happy to show you the 🤗 Transformers library.\",\n",
    "    \"I'll go to Apple Store.\",\n",
    "    \"This model covers a lot area. But, I won't use it. Since it is too hard to use.\"\n",
    "]"
   ]
  },
  {
   "cell_type": "code",
   "execution_count": 4,
   "metadata": {},
   "outputs": [
    {
     "name": "stdout",
     "output_type": "stream",
     "text": [
      "label: POSITIVE, with score: 0.9998\n",
      "label: NEGATIVE, with score: 0.9812\n",
      "label: NEGATIVE, with score: 0.9983\n"
     ]
    }
   ],
   "source": [
    "results = classifier(sentences)\n",
    "for res in results:\n",
    "    print(f\"label: {res['label']}, with score: {round(res['score'], 4)}\")"
   ]
  },
  {
   "cell_type": "markdown",
   "metadata": {},
   "source": [
    "# Fine-Tuning with Custom Dataset\n",
    "\n",
    "https://huggingface.co/transformers/custom_datasets.html#qa-squad\n"
   ]
  },
  {
   "cell_type": "markdown",
   "metadata": {},
   "source": [
    "## Dataset\n",
    "\n",
    "\n",
    "- 제목(title)\n",
    "- 본문의 카테고리(source)\n",
    "- 본문(context)\n",
    "- 질문 번호(id)\n",
    "- 육하원칙(classtype)\n",
    "- 질문(question)\n",
    "- 정답의 시작위치(answer_start)\n",
    "- 정답(text)"
   ]
  },
  {
   "cell_type": "code",
   "execution_count": 2,
   "metadata": {},
   "outputs": [
    {
     "name": "stdout",
     "output_type": "stream",
     "text": [
      "/home/simonjisu/code/data/AIhub/QA/ko_nia_normal_squad_all.json\n",
      "/home/simonjisu/code/data/AIhub/QA/ko_nia_clue0529_squad_all.json\n",
      "/home/simonjisu/code/data/AIhub/QA/ko_nia_noanswer_squad_all.json\n"
     ]
    }
   ],
   "source": [
    "import json\n",
    "from tqdm import tqdm\n",
    "from pathlib import Path\n",
    "repo_path = Path().absolute().parent\n",
    "data_path = repo_path.parent / \"data\" / \"AIhub\" / \"QA\"\n",
    "for p in data_path.glob(\"ko*.json\"):\n",
    "    print(p)"
   ]
  },
  {
   "cell_type": "code",
   "execution_count": 3,
   "metadata": {},
   "outputs": [],
   "source": [
    "def read_squad(path):\n",
    "    path = Path(path)\n",
    "    with open(path, 'rb') as f:\n",
    "        squad_dict = json.load(f)\n",
    "\n",
    "    contexts = []\n",
    "    questions = []\n",
    "    answers = []\n",
    "    for group in tqdm(squad_dict[\"data\"], total=len(squad_dict[\"data\"]), desc=\"Reading Dataset\"):\n",
    "        for paragraph in group['paragraphs']:\n",
    "            context = paragraph['context']\n",
    "            for qa in paragraph['qas']:\n",
    "                question = qa['question']\n",
    "                for answer in qa['answers']:\n",
    "                    contexts.append(context)\n",
    "                    questions.append(question)\n",
    "                    answers.append(answer)\n",
    "\n",
    "    return contexts, questions, answers"
   ]
  },
  {
   "cell_type": "code",
   "execution_count": 5,
   "metadata": {},
   "outputs": [
    {
     "name": "stderr",
     "output_type": "stream",
     "text": [
      "Reading Dataset: 100%|██████████| 47314/47314 [00:00<00:00, 443209.57it/s]\n",
      "Reading Dataset: 100%|██████████| 34500/34500 [00:00<00:00, 554466.23it/s]\n"
     ]
    }
   ],
   "source": [
    "train_file = \"ko_nia_normal_squad_all.json\"\n",
    "train_path = data_path / train_file\n",
    "val_file = \"ko_nia_clue0529_squad_all.json\"\n",
    "val_path = data_path / val_file\n",
    "\n",
    "train_contexts, train_questions, train_answers = read_squad(train_path)\n",
    "val_contexts, val_questions, val_answers = read_squad(val_path)"
   ]
  },
  {
   "cell_type": "code",
   "execution_count": 6,
   "metadata": {},
   "outputs": [
    {
     "name": "stdout",
     "output_type": "stream",
     "text": [
      "243425 96663\n"
     ]
    }
   ],
   "source": [
    "print(len(train_contexts), len(val_contexts))"
   ]
  },
  {
   "cell_type": "markdown",
   "metadata": {},
   "source": [
    "Let's see some samples"
   ]
  },
  {
   "cell_type": "code",
   "execution_count": 7,
   "metadata": {},
   "outputs": [
    {
     "name": "stdout",
     "output_type": "stream",
     "text": [
      "\u001b[1mContext: \u001b[0m\n",
      "지난해 자산관리공사(캠코)가 매입해준 대형 저축은행 상당수에서 PF 부실이 추가로 발생하는 등 건전성이 크게 개선되지 못한 것으로 드러났다. 금융당국으로서는 '땜질식 처방으로 저축은행 부실을 키웠다'는 비판을 면키 어렵게 됐다. 금융당국은 하반기 저축은행에 대한 대대적인 경영진단을 통해 경영건전화를 추진하겠다고 밝혔지만 이번에도 미온적인 조치에 그치는 게 아니냐는 우려가 나온다. ▶관련기사 12면 5일 공적자금관리위원회가 공개한 '저축은행별 인수대상 PF대출 채권 현황'(법인채권)에 따르면 지난해 6월 캠코 인수 대상 PF대출이 1000억원을 넘는 저축은행이 16곳에 달했다. 이중 14곳은 자산 1조원 이상의 대형저축은행이었다. 솔로몬이 4879억원으로 가장 많았고, 같은 계열인 부산솔로몬이 2030억원으로 뒤를 이었다. 또 삼화(우리금융) 1913억원, 토마토 1870억원, 대전 1828억원, 현대스위스 1802억원에 달했다. 한국 1304억원, 경기 1093억원, 진흥 1004억원 등 한국계열 저축은행도 1000억원 이상 인수대상에 포함됐다. 당시 금융당국은 91개 저축은행 714개 PF사업장에 대해 사업성 평가를 실시하고 각 저축은행의 의사를 타진한 뒤 2조5277억원의 구조조정기금을 투입해 총 4조833억원의 PF부실 채권을 매입할 계획을 세웠다. 실제 매입과정에서 소송이나 경매에 들어간 채권을 제외하면서 매입규모는 3조7493억원으로 줄었지만 당초 계획에서는 크게 벗어나지 않았다. 이처럼 캠코가 지난해 대규모로 PF 부실채권을 인수해주었지만 저축은행의 사정은 나아지지 않았다. \u001b[1m\u001b[31m솔로몬의 경우 지난해 6월말 9258억원이었던 PF 잔액이 지난 3월말 6131억원으로 줄었지만 연체율은 12.9%에서 25.17%로 급등했다.\u001b[0m 부산솔로몬 역시 PF잔액은 절반 가량 줄었지만 연체율은 두배 가량 상승했다. 토마토, 현대스위스, HK, 프라임, 한국 등 대부분 저축은행이 PF잔액이 줄었는데도 고정이하여신과 연체율이 상승하는 모습을 보였다. 금융당국은 PF 부실에 선제적으로 대응하겠다고 했지만 시간만 끌면서 구조조정을 지연시키고 부실만 키운 셈이다. 결국 금융당국은 지난달 1조9000억원의 PF 부실채권을 추가로 인수해준 데 이어 4일에는 금융안정기금 투입 등을 내용으로 하는 경영건전화 방안을 발표했다. 이건호 KDI 교수는 \"그동안 저축은행에 대해 수차례 지원을 했지만 그때마다 추가부실이 발생하면서 이번 조치도 대충 하는 것 아니냐는 의구심이 들게 한다\"며 \"무엇보다 철저하고 엄격한 경영진단을 통해 살릴 곳과 버릴 곳을 정확히 구분해야 한다\"고 말했다.\n",
      "\u001b[1mQuestion: \u001b[0m\n",
      "캠코가 지난해 대규모로 PF 부실채권을 인수한 후 솔로몬은 어떻게 됐는가?\n",
      "\u001b[1mAnswer: \u001b[0m\n",
      "  Start: 787, End: 867\n",
      "\n",
      "\u001b[1mContext: \u001b[0m\n",
      "[IMG1] 정용화의 애절한 눈빛 연기가 시청자들의 눈길을 끌었다. 정용화는 지난 13일 방송된 MBC ‘넌 내게 반했어’(극본 이명숙, 연출 표민수)에서 소이현(정윤수 역)에게 그동안 품어온 마음을 고백했지만 거절당하고 말았다. 그는 “내가 원하는 건 어른남자, 너를 보고 한 번도 흔들린 적 없어”라는 소이현의 매몰 찬 말과 송창의(김석현 역)의 품에 안긴 그를 보고 결국 뜨거운 눈물을 흘렸다. 아울러 예고를 통해 아버지를 향한 그리움에 또 한 번 눈물 흘리는 감정연기를 선사하는 정용화의 모습이 흘러 시청자들의 기대를 높이고 있다. 이렇듯 이날 방송에서는 두 남녀의 이야기를 중심으로 정용화에게 마음을 빼앗겨 가슴앓이를 시작한 박신혜(이규원 역)와 가슴에 묻어둔 옛사랑 소이현에 대한 진심을 고백한 송창의까지 네 청춘남녀의 로맨스가 그려졌다. 특히 소이현에게 상처받은 정용화와 애써 밝은 척 그를 위로하던 박신혜의 충돌과 눈물이 극 전개에 긴장감을 더했다. 또 기타 스승과 제자로 인연을 이어가던 정용화와 그의 아버지 현수(서범석 분)의 비극적 결말이 펼쳐질 예정으로 시청자들의 궁금증을 높이고 있는 상황. 네 주인공의 각기 다른 사랑방식이 어떻게 그려질지, 얽힌 러브라인의 행보에 관심이 집중되는 가운데 정용화와 아버지의 에피소드는 \u001b[1m\u001b[31m14일 오후 9시55분\u001b[0m 방송된다. [이슈데일리 김하진기자]\n",
      "\u001b[1mQuestion: \u001b[0m\n",
      "‘넌 내게 반했어’에서 정용화와 아버지의 에피소드가 방송되는 건 언제야?\n",
      "\u001b[1mAnswer: \u001b[0m\n",
      "  Start: 639, End: 651\n",
      "\n"
     ]
    }
   ],
   "source": [
    "import termcolor\n",
    "\n",
    "for idx in np.random.randint(0, len(train_contexts), size=(2,)):\n",
    "    txt = train_answers[idx][\"text\"]\n",
    "    context = train_contexts[idx].split(txt)\n",
    "    context.insert(1, termcolor.colored(txt, \"red\", attrs=[\"bold\"]))\n",
    "    answer_end = train_answers[idx]['answer_start'] + len(train_answers[idx]['text'])  # not included like python range\n",
    "    print(termcolor.colored(\"Context: \", attrs=[\"bold\"]))\n",
    "    print(\"\".join(context))\n",
    "    print(termcolor.colored(\"Question: \", attrs=[\"bold\"]))\n",
    "    print(train_questions[idx])\n",
    "    print(termcolor.colored(\"Answer: \", attrs=[\"bold\"]))\n",
    "    print(f\"  Start: {train_answers[idx]['answer_start']}, End: {answer_end}\")\n",
    "    print()"
   ]
  },
  {
   "cell_type": "code",
   "execution_count": 13,
   "metadata": {},
   "outputs": [],
   "source": [
    "def add_end_idx(answers, contexts):\n",
    "    for idx, (answer, context) in enumerate(zip(answers, contexts)):\n",
    "        gold_text = answer['text']\n",
    "        start_idx = answer['answer_start']\n",
    "        end_idx = start_idx + len(gold_text)\n",
    "\n",
    "        # sometimes squad answers are off by a character or two – fix this\n",
    "        if context[start_idx:end_idx] == gold_text:\n",
    "            answer['answer_end'] = end_idx\n",
    "        elif context[start_idx-1:end_idx-1] == gold_text:\n",
    "            answer['answer_start'] = start_idx - 1\n",
    "            answer['answer_end'] = end_idx - 1     # When the gold label is off by one character\n",
    "            print(f\"type1: {idx}\")\n",
    "        elif context[start_idx-2:end_idx-2] == gold_text:\n",
    "            answer['answer_start'] = start_idx - 2\n",
    "            answer['answer_end'] = end_idx - 2     # When the gold label is off by two characters\n",
    "            print(f\"type2: {idx}\")"
   ]
  },
  {
   "cell_type": "code",
   "execution_count": 14,
   "metadata": {},
   "outputs": [],
   "source": [
    "add_end_idx(train_answers, train_contexts)\n",
    "add_end_idx(val_answers, val_contexts)"
   ]
  },
  {
   "cell_type": "code",
   "execution_count": 15,
   "metadata": {},
   "outputs": [],
   "source": [
    "from transformers import ElectraModel, ElectraTokenizer, ElectraTokenizerFast, ElectraForQuestionAnswering\n",
    "\n",
    "tokenizer = ElectraTokenizerFast.from_pretrained(\"monologg/koelectra-base-v3-discriminator\")  \n",
    "# Fast 를 써야 ._encodings 속성이 생긴다. \n",
    "# 안에는 Encoding class로 된 데이터가 list롤 있음\n",
    "# train_encodings._encodings[0]\n",
    "# Encoding(num_tokens=365, attributes=[ids, type_ids, tokens, offsets, attention_mask, special_tokens_mask, overflowing])"
   ]
  },
  {
   "cell_type": "code",
   "execution_count": 30,
   "metadata": {},
   "outputs": [],
   "source": [
    "sample_len = 5\n",
    "train_encodings = tokenizer(\n",
    "    train_contexts[:sample_len], train_questions[:sample_len], \n",
    "    max_length=512, truncation=True, padding=True\n",
    ")\n",
    "val_encodings = tokenizer(\n",
    "    val_contexts[:sample_len], val_questions[:sample_len], \n",
    "    max_length=512, truncation=True, padding=True)"
   ]
  },
  {
   "cell_type": "code",
   "execution_count": 44,
   "metadata": {},
   "outputs": [
    {
     "data": {
      "text/plain": [
       "dict_keys(['input_ids', 'token_type_ids', 'attention_mask', 'start_positions', 'end_positions'])"
      ]
     },
     "execution_count": 44,
     "metadata": {},
     "output_type": "execute_result"
    }
   ],
   "source": [
    "train_encodings.keys()"
   ]
  },
  {
   "cell_type": "code",
   "execution_count": 31,
   "metadata": {},
   "outputs": [],
   "source": [
    "def add_token_positions(encodings, answers):\n",
    "    start_positions = []\n",
    "    end_positions = []\n",
    "    for i in range(len(answers)):\n",
    "        start_positions.append(encodings.char_to_token(i, answers[i]['answer_start']))  # char_to_token: 문자가 몇 번째 토큰에 있는지 확인\n",
    "        end_positions.append(encodings.char_to_token(i, answers[i]['answer_end'] - 1))\n",
    "\n",
    "        # if start position is None, the answer passage has been truncated\n",
    "        if start_positions[-1] is None:\n",
    "            start_positions[-1] = tokenizer.model_max_length\n",
    "        if end_positions[-1] is None:\n",
    "            end_positions[-1] = tokenizer.model_max_length\n",
    "\n",
    "    encodings.update({'start_positions': start_positions, 'end_positions': end_positions})\n",
    "\n",
    "add_token_positions(train_encodings, train_answers[:sample_len])\n",
    "add_token_positions(val_encodings, val_answers[:sample_len])"
   ]
  },
  {
   "cell_type": "code",
   "execution_count": 32,
   "metadata": {},
   "outputs": [],
   "source": [
    "class SquadDataset(torch.utils.data.Dataset):\n",
    "    def __init__(self, encodings):\n",
    "        self.encodings = encodings\n",
    "\n",
    "    def __getitem__(self, idx):\n",
    "        return {key: torch.tensor(val[idx]) for key, val in self.encodings.items()}\n",
    "\n",
    "    def __len__(self):\n",
    "        return len(self.encodings.input_ids)\n",
    "\n",
    "train_dataset = SquadDataset(train_encodings)\n",
    "val_dataset = SquadDataset(val_encodings)"
   ]
  },
  {
   "cell_type": "code",
   "execution_count": 33,
   "metadata": {},
   "outputs": [],
   "source": [
    "from transformers import ElectraConfig\n",
    "\n",
    "config = {\n",
    "  \"task\": \"QA\",\n",
    "  \"data_dir\": \"data\",\n",
    "  \"ckpt_dir\": \"ckpt\",\n",
    "  \"train_file\": train_file,\n",
    "  \"predict_file\": val_file,\n",
    "  \"threads\": 4,\n",
    "  \"version_2_with_negative\": False,\n",
    "  \"null_score_diff_threshold\": 0.0,\n",
    "  \"max_seq_length\": 512,\n",
    "  \"doc_stride\": 128,\n",
    "  \"max_query_length\": 64,\n",
    "  \"max_answer_length\": 30,\n",
    "  \"n_best_size\": 20,\n",
    "  \"verbose_logging\": True,\n",
    "  \"overwrite_output_dir\": True,\n",
    "  \"evaluate_during_training\": True,\n",
    "  \"eval_all_checkpoints\": True,\n",
    "  \"save_optimizer\": False,\n",
    "  \"do_lower_case\": False,\n",
    "  \"do_train\": True,\n",
    "  \"do_eval\": True,\n",
    "  \"num_train_epochs\": 7,\n",
    "  \"weight_decay\": 0.0,\n",
    "  \"gradient_accumulation_steps\": 1,\n",
    "  \"adam_epsilon\": 1e-8,\n",
    "  \"warmup_proportion\": 0,\n",
    "  \"max_steps\": -1,\n",
    "  \"max_grad_norm\": 1.0,\n",
    "  \"no_cuda\": False,\n",
    "  \"model_type\": \"koelectra-base-v3\",\n",
    "  \"model_name_or_path\": \"monologg/koelectra-base-v3-discriminator\",\n",
    "  \"output_dir\": \"koelectra-base-v3-korquad-ckpt\",\n",
    "  \"seed\": 42,\n",
    "  \"train_batch_size\": 2,\n",
    "  \"eval_batch_size\": 2,\n",
    "  \"logging_steps\": 1000,\n",
    "  \"save_steps\": 1000,\n",
    "  \"learning_rate\": 5e-5,\n",
    "}\n",
    "cfg = ElectraConfig(**config)"
   ]
  },
  {
   "cell_type": "code",
   "execution_count": 34,
   "metadata": {},
   "outputs": [],
   "source": [
    "model = ElectraForQuestionAnswering(cfg).cpu()"
   ]
  },
  {
   "cell_type": "code",
   "execution_count": 23,
   "metadata": {
    "collapsed": true,
    "jupyter": {
     "outputs_hidden": true
    }
   },
   "outputs": [
    {
     "ename": "RuntimeError",
     "evalue": "CUDA error: device-side assert triggered",
     "output_type": "error",
     "traceback": [
      "\u001b[0;31m---------------------------------------------------------------------------\u001b[0m",
      "\u001b[0;31mRuntimeError\u001b[0m                              Traceback (most recent call last)",
      "\u001b[0;32m<ipython-input-23-3dcf77670a16>\u001b[0m in \u001b[0;36m<module>\u001b[0;34m\u001b[0m\n\u001b[1;32m     18\u001b[0m         \u001b[0mstart_positions\u001b[0m \u001b[0;34m=\u001b[0m \u001b[0mbatch\u001b[0m\u001b[0;34m[\u001b[0m\u001b[0;34m'start_positions'\u001b[0m\u001b[0;34m]\u001b[0m\u001b[0;34m.\u001b[0m\u001b[0mto\u001b[0m\u001b[0;34m(\u001b[0m\u001b[0mdevice\u001b[0m\u001b[0;34m)\u001b[0m\u001b[0;34m\u001b[0m\u001b[0;34m\u001b[0m\u001b[0m\n\u001b[1;32m     19\u001b[0m         \u001b[0mend_positions\u001b[0m \u001b[0;34m=\u001b[0m \u001b[0mbatch\u001b[0m\u001b[0;34m[\u001b[0m\u001b[0;34m'end_positions'\u001b[0m\u001b[0;34m]\u001b[0m\u001b[0;34m.\u001b[0m\u001b[0mto\u001b[0m\u001b[0;34m(\u001b[0m\u001b[0mdevice\u001b[0m\u001b[0;34m)\u001b[0m\u001b[0;34m\u001b[0m\u001b[0;34m\u001b[0m\u001b[0m\n\u001b[0;32m---> 20\u001b[0;31m         \u001b[0moutputs\u001b[0m \u001b[0;34m=\u001b[0m \u001b[0mmodel\u001b[0m\u001b[0;34m(\u001b[0m\u001b[0minput_ids\u001b[0m\u001b[0;34m,\u001b[0m \u001b[0mattention_mask\u001b[0m\u001b[0;34m=\u001b[0m\u001b[0mattention_mask\u001b[0m\u001b[0;34m,\u001b[0m \u001b[0mstart_positions\u001b[0m\u001b[0;34m=\u001b[0m\u001b[0mstart_positions\u001b[0m\u001b[0;34m,\u001b[0m \u001b[0mend_positions\u001b[0m\u001b[0;34m=\u001b[0m\u001b[0mend_positions\u001b[0m\u001b[0;34m)\u001b[0m\u001b[0;34m\u001b[0m\u001b[0;34m\u001b[0m\u001b[0m\n\u001b[0m\u001b[1;32m     21\u001b[0m         \u001b[0mloss\u001b[0m \u001b[0;34m=\u001b[0m \u001b[0moutputs\u001b[0m\u001b[0;34m[\u001b[0m\u001b[0;36m0\u001b[0m\u001b[0;34m]\u001b[0m\u001b[0;34m\u001b[0m\u001b[0;34m\u001b[0m\u001b[0m\n\u001b[1;32m     22\u001b[0m         \u001b[0mloss\u001b[0m\u001b[0;34m.\u001b[0m\u001b[0mbackward\u001b[0m\u001b[0;34m(\u001b[0m\u001b[0;34m)\u001b[0m\u001b[0;34m\u001b[0m\u001b[0;34m\u001b[0m\u001b[0m\n",
      "\u001b[0;32m~/miniconda3/lib/python3.7/site-packages/torch/nn/modules/module.py\u001b[0m in \u001b[0;36m_call_impl\u001b[0;34m(self, *input, **kwargs)\u001b[0m\n\u001b[1;32m    720\u001b[0m             \u001b[0mresult\u001b[0m \u001b[0;34m=\u001b[0m \u001b[0mself\u001b[0m\u001b[0;34m.\u001b[0m\u001b[0m_slow_forward\u001b[0m\u001b[0;34m(\u001b[0m\u001b[0;34m*\u001b[0m\u001b[0minput\u001b[0m\u001b[0;34m,\u001b[0m \u001b[0;34m**\u001b[0m\u001b[0mkwargs\u001b[0m\u001b[0;34m)\u001b[0m\u001b[0;34m\u001b[0m\u001b[0;34m\u001b[0m\u001b[0m\n\u001b[1;32m    721\u001b[0m         \u001b[0;32melse\u001b[0m\u001b[0;34m:\u001b[0m\u001b[0;34m\u001b[0m\u001b[0;34m\u001b[0m\u001b[0m\n\u001b[0;32m--> 722\u001b[0;31m             \u001b[0mresult\u001b[0m \u001b[0;34m=\u001b[0m \u001b[0mself\u001b[0m\u001b[0;34m.\u001b[0m\u001b[0mforward\u001b[0m\u001b[0;34m(\u001b[0m\u001b[0;34m*\u001b[0m\u001b[0minput\u001b[0m\u001b[0;34m,\u001b[0m \u001b[0;34m**\u001b[0m\u001b[0mkwargs\u001b[0m\u001b[0;34m)\u001b[0m\u001b[0;34m\u001b[0m\u001b[0;34m\u001b[0m\u001b[0m\n\u001b[0m\u001b[1;32m    723\u001b[0m         for hook in itertools.chain(\n\u001b[1;32m    724\u001b[0m                 \u001b[0m_global_forward_hooks\u001b[0m\u001b[0;34m.\u001b[0m\u001b[0mvalues\u001b[0m\u001b[0;34m(\u001b[0m\u001b[0;34m)\u001b[0m\u001b[0;34m,\u001b[0m\u001b[0;34m\u001b[0m\u001b[0;34m\u001b[0m\u001b[0m\n",
      "\u001b[0;32m~/miniconda3/lib/python3.7/site-packages/transformers/models/electra/modeling_electra.py\u001b[0m in \u001b[0;36mforward\u001b[0;34m(self, input_ids, attention_mask, token_type_ids, position_ids, head_mask, inputs_embeds, start_positions, end_positions, output_attentions, output_hidden_states, return_dict)\u001b[0m\n\u001b[1;32m   1293\u001b[0m             \u001b[0minputs_embeds\u001b[0m\u001b[0;34m=\u001b[0m\u001b[0minputs_embeds\u001b[0m\u001b[0;34m,\u001b[0m\u001b[0;34m\u001b[0m\u001b[0;34m\u001b[0m\u001b[0m\n\u001b[1;32m   1294\u001b[0m             \u001b[0moutput_attentions\u001b[0m\u001b[0;34m=\u001b[0m\u001b[0moutput_attentions\u001b[0m\u001b[0;34m,\u001b[0m\u001b[0;34m\u001b[0m\u001b[0;34m\u001b[0m\u001b[0m\n\u001b[0;32m-> 1295\u001b[0;31m             \u001b[0moutput_hidden_states\u001b[0m\u001b[0;34m=\u001b[0m\u001b[0moutput_hidden_states\u001b[0m\u001b[0;34m,\u001b[0m\u001b[0;34m\u001b[0m\u001b[0;34m\u001b[0m\u001b[0m\n\u001b[0m\u001b[1;32m   1296\u001b[0m         )\n\u001b[1;32m   1297\u001b[0m \u001b[0;34m\u001b[0m\u001b[0m\n",
      "\u001b[0;32m~/miniconda3/lib/python3.7/site-packages/torch/nn/modules/module.py\u001b[0m in \u001b[0;36m_call_impl\u001b[0;34m(self, *input, **kwargs)\u001b[0m\n\u001b[1;32m    720\u001b[0m             \u001b[0mresult\u001b[0m \u001b[0;34m=\u001b[0m \u001b[0mself\u001b[0m\u001b[0;34m.\u001b[0m\u001b[0m_slow_forward\u001b[0m\u001b[0;34m(\u001b[0m\u001b[0;34m*\u001b[0m\u001b[0minput\u001b[0m\u001b[0;34m,\u001b[0m \u001b[0;34m**\u001b[0m\u001b[0mkwargs\u001b[0m\u001b[0;34m)\u001b[0m\u001b[0;34m\u001b[0m\u001b[0;34m\u001b[0m\u001b[0m\n\u001b[1;32m    721\u001b[0m         \u001b[0;32melse\u001b[0m\u001b[0;34m:\u001b[0m\u001b[0;34m\u001b[0m\u001b[0;34m\u001b[0m\u001b[0m\n\u001b[0;32m--> 722\u001b[0;31m             \u001b[0mresult\u001b[0m \u001b[0;34m=\u001b[0m \u001b[0mself\u001b[0m\u001b[0;34m.\u001b[0m\u001b[0mforward\u001b[0m\u001b[0;34m(\u001b[0m\u001b[0;34m*\u001b[0m\u001b[0minput\u001b[0m\u001b[0;34m,\u001b[0m \u001b[0;34m**\u001b[0m\u001b[0mkwargs\u001b[0m\u001b[0;34m)\u001b[0m\u001b[0;34m\u001b[0m\u001b[0;34m\u001b[0m\u001b[0m\n\u001b[0m\u001b[1;32m    723\u001b[0m         for hook in itertools.chain(\n\u001b[1;32m    724\u001b[0m                 \u001b[0m_global_forward_hooks\u001b[0m\u001b[0;34m.\u001b[0m\u001b[0mvalues\u001b[0m\u001b[0;34m(\u001b[0m\u001b[0;34m)\u001b[0m\u001b[0;34m,\u001b[0m\u001b[0;34m\u001b[0m\u001b[0;34m\u001b[0m\u001b[0m\n",
      "\u001b[0;32m~/miniconda3/lib/python3.7/site-packages/transformers/models/electra/modeling_electra.py\u001b[0m in \u001b[0;36mforward\u001b[0;34m(self, input_ids, attention_mask, token_type_ids, position_ids, head_mask, inputs_embeds, output_attentions, output_hidden_states, return_dict)\u001b[0m\n\u001b[1;32m    851\u001b[0m \u001b[0;34m\u001b[0m\u001b[0m\n\u001b[1;32m    852\u001b[0m         hidden_states = self.embeddings(\n\u001b[0;32m--> 853\u001b[0;31m             \u001b[0minput_ids\u001b[0m\u001b[0;34m=\u001b[0m\u001b[0minput_ids\u001b[0m\u001b[0;34m,\u001b[0m \u001b[0mposition_ids\u001b[0m\u001b[0;34m=\u001b[0m\u001b[0mposition_ids\u001b[0m\u001b[0;34m,\u001b[0m \u001b[0mtoken_type_ids\u001b[0m\u001b[0;34m=\u001b[0m\u001b[0mtoken_type_ids\u001b[0m\u001b[0;34m,\u001b[0m \u001b[0minputs_embeds\u001b[0m\u001b[0;34m=\u001b[0m\u001b[0minputs_embeds\u001b[0m\u001b[0;34m\u001b[0m\u001b[0;34m\u001b[0m\u001b[0m\n\u001b[0m\u001b[1;32m    854\u001b[0m         )\n\u001b[1;32m    855\u001b[0m \u001b[0;34m\u001b[0m\u001b[0m\n",
      "\u001b[0;32m~/miniconda3/lib/python3.7/site-packages/torch/nn/modules/module.py\u001b[0m in \u001b[0;36m_call_impl\u001b[0;34m(self, *input, **kwargs)\u001b[0m\n\u001b[1;32m    720\u001b[0m             \u001b[0mresult\u001b[0m \u001b[0;34m=\u001b[0m \u001b[0mself\u001b[0m\u001b[0;34m.\u001b[0m\u001b[0m_slow_forward\u001b[0m\u001b[0;34m(\u001b[0m\u001b[0;34m*\u001b[0m\u001b[0minput\u001b[0m\u001b[0;34m,\u001b[0m \u001b[0;34m**\u001b[0m\u001b[0mkwargs\u001b[0m\u001b[0;34m)\u001b[0m\u001b[0;34m\u001b[0m\u001b[0;34m\u001b[0m\u001b[0m\n\u001b[1;32m    721\u001b[0m         \u001b[0;32melse\u001b[0m\u001b[0;34m:\u001b[0m\u001b[0;34m\u001b[0m\u001b[0;34m\u001b[0m\u001b[0m\n\u001b[0;32m--> 722\u001b[0;31m             \u001b[0mresult\u001b[0m \u001b[0;34m=\u001b[0m \u001b[0mself\u001b[0m\u001b[0;34m.\u001b[0m\u001b[0mforward\u001b[0m\u001b[0;34m(\u001b[0m\u001b[0;34m*\u001b[0m\u001b[0minput\u001b[0m\u001b[0;34m,\u001b[0m \u001b[0;34m**\u001b[0m\u001b[0mkwargs\u001b[0m\u001b[0;34m)\u001b[0m\u001b[0;34m\u001b[0m\u001b[0;34m\u001b[0m\u001b[0m\n\u001b[0m\u001b[1;32m    723\u001b[0m         for hook in itertools.chain(\n\u001b[1;32m    724\u001b[0m                 \u001b[0m_global_forward_hooks\u001b[0m\u001b[0;34m.\u001b[0m\u001b[0mvalues\u001b[0m\u001b[0;34m(\u001b[0m\u001b[0;34m)\u001b[0m\u001b[0;34m,\u001b[0m\u001b[0;34m\u001b[0m\u001b[0;34m\u001b[0m\u001b[0m\n",
      "\u001b[0;32m~/miniconda3/lib/python3.7/site-packages/transformers/models/electra/modeling_electra.py\u001b[0m in \u001b[0;36mforward\u001b[0;34m(self, input_ids, token_type_ids, position_ids, inputs_embeds, past_key_values_length)\u001b[0m\n\u001b[1;32m    195\u001b[0m             \u001b[0mposition_embeddings\u001b[0m \u001b[0;34m=\u001b[0m \u001b[0mself\u001b[0m\u001b[0;34m.\u001b[0m\u001b[0mposition_embeddings\u001b[0m\u001b[0;34m(\u001b[0m\u001b[0mposition_ids\u001b[0m\u001b[0;34m)\u001b[0m\u001b[0;34m\u001b[0m\u001b[0;34m\u001b[0m\u001b[0m\n\u001b[1;32m    196\u001b[0m             \u001b[0membeddings\u001b[0m \u001b[0;34m+=\u001b[0m \u001b[0mposition_embeddings\u001b[0m\u001b[0;34m\u001b[0m\u001b[0;34m\u001b[0m\u001b[0m\n\u001b[0;32m--> 197\u001b[0;31m         \u001b[0membeddings\u001b[0m \u001b[0;34m=\u001b[0m \u001b[0mself\u001b[0m\u001b[0;34m.\u001b[0m\u001b[0mLayerNorm\u001b[0m\u001b[0;34m(\u001b[0m\u001b[0membeddings\u001b[0m\u001b[0;34m)\u001b[0m\u001b[0;34m\u001b[0m\u001b[0;34m\u001b[0m\u001b[0m\n\u001b[0m\u001b[1;32m    198\u001b[0m         \u001b[0membeddings\u001b[0m \u001b[0;34m=\u001b[0m \u001b[0mself\u001b[0m\u001b[0;34m.\u001b[0m\u001b[0mdropout\u001b[0m\u001b[0;34m(\u001b[0m\u001b[0membeddings\u001b[0m\u001b[0;34m)\u001b[0m\u001b[0;34m\u001b[0m\u001b[0;34m\u001b[0m\u001b[0m\n\u001b[1;32m    199\u001b[0m         \u001b[0;32mreturn\u001b[0m \u001b[0membeddings\u001b[0m\u001b[0;34m\u001b[0m\u001b[0;34m\u001b[0m\u001b[0m\n",
      "\u001b[0;32m~/miniconda3/lib/python3.7/site-packages/torch/nn/modules/module.py\u001b[0m in \u001b[0;36m_call_impl\u001b[0;34m(self, *input, **kwargs)\u001b[0m\n\u001b[1;32m    720\u001b[0m             \u001b[0mresult\u001b[0m \u001b[0;34m=\u001b[0m \u001b[0mself\u001b[0m\u001b[0;34m.\u001b[0m\u001b[0m_slow_forward\u001b[0m\u001b[0;34m(\u001b[0m\u001b[0;34m*\u001b[0m\u001b[0minput\u001b[0m\u001b[0;34m,\u001b[0m \u001b[0;34m**\u001b[0m\u001b[0mkwargs\u001b[0m\u001b[0;34m)\u001b[0m\u001b[0;34m\u001b[0m\u001b[0;34m\u001b[0m\u001b[0m\n\u001b[1;32m    721\u001b[0m         \u001b[0;32melse\u001b[0m\u001b[0;34m:\u001b[0m\u001b[0;34m\u001b[0m\u001b[0;34m\u001b[0m\u001b[0m\n\u001b[0;32m--> 722\u001b[0;31m             \u001b[0mresult\u001b[0m \u001b[0;34m=\u001b[0m \u001b[0mself\u001b[0m\u001b[0;34m.\u001b[0m\u001b[0mforward\u001b[0m\u001b[0;34m(\u001b[0m\u001b[0;34m*\u001b[0m\u001b[0minput\u001b[0m\u001b[0;34m,\u001b[0m \u001b[0;34m**\u001b[0m\u001b[0mkwargs\u001b[0m\u001b[0;34m)\u001b[0m\u001b[0;34m\u001b[0m\u001b[0;34m\u001b[0m\u001b[0m\n\u001b[0m\u001b[1;32m    723\u001b[0m         for hook in itertools.chain(\n\u001b[1;32m    724\u001b[0m                 \u001b[0m_global_forward_hooks\u001b[0m\u001b[0;34m.\u001b[0m\u001b[0mvalues\u001b[0m\u001b[0;34m(\u001b[0m\u001b[0;34m)\u001b[0m\u001b[0;34m,\u001b[0m\u001b[0;34m\u001b[0m\u001b[0;34m\u001b[0m\u001b[0m\n",
      "\u001b[0;32m~/miniconda3/lib/python3.7/site-packages/torch/nn/modules/normalization.py\u001b[0m in \u001b[0;36mforward\u001b[0;34m(self, input)\u001b[0m\n\u001b[1;32m    168\u001b[0m     \u001b[0;32mdef\u001b[0m \u001b[0mforward\u001b[0m\u001b[0;34m(\u001b[0m\u001b[0mself\u001b[0m\u001b[0;34m,\u001b[0m \u001b[0minput\u001b[0m\u001b[0;34m:\u001b[0m \u001b[0mTensor\u001b[0m\u001b[0;34m)\u001b[0m \u001b[0;34m->\u001b[0m \u001b[0mTensor\u001b[0m\u001b[0;34m:\u001b[0m\u001b[0;34m\u001b[0m\u001b[0;34m\u001b[0m\u001b[0m\n\u001b[1;32m    169\u001b[0m         return F.layer_norm(\n\u001b[0;32m--> 170\u001b[0;31m             input, self.normalized_shape, self.weight, self.bias, self.eps)\n\u001b[0m\u001b[1;32m    171\u001b[0m \u001b[0;34m\u001b[0m\u001b[0m\n\u001b[1;32m    172\u001b[0m     \u001b[0;32mdef\u001b[0m \u001b[0mextra_repr\u001b[0m\u001b[0;34m(\u001b[0m\u001b[0mself\u001b[0m\u001b[0;34m)\u001b[0m \u001b[0;34m->\u001b[0m \u001b[0mTensor\u001b[0m\u001b[0;34m:\u001b[0m\u001b[0;34m\u001b[0m\u001b[0;34m\u001b[0m\u001b[0m\n",
      "\u001b[0;32m~/miniconda3/lib/python3.7/site-packages/torch/nn/functional.py\u001b[0m in \u001b[0;36mlayer_norm\u001b[0;34m(input, normalized_shape, weight, bias, eps)\u001b[0m\n\u001b[1;32m   2047\u001b[0m     \"\"\"\n\u001b[1;32m   2048\u001b[0m     return torch.layer_norm(input, normalized_shape, weight, bias, eps,\n\u001b[0;32m-> 2049\u001b[0;31m                             torch.backends.cudnn.enabled)\n\u001b[0m\u001b[1;32m   2050\u001b[0m \u001b[0;34m\u001b[0m\u001b[0m\n\u001b[1;32m   2051\u001b[0m \u001b[0;34m\u001b[0m\u001b[0m\n",
      "\u001b[0;31mRuntimeError\u001b[0m: CUDA error: device-side assert triggered"
     ]
    }
   ],
   "source": [
    "from torch.utils.data import DataLoader\n",
    "from transformers import AdamW\n",
    "\n",
    "device = 'cuda' if torch.cuda.is_available() else 'cpu'\n",
    "\n",
    "model.to(device)\n",
    "model.train()\n",
    "\n",
    "train_loader = DataLoader(train_dataset, batch_size=config[\"train_batch_size\"], shuffle=True)\n",
    "\n",
    "optim = AdamW(model.parameters(), lr=5e-5)\n",
    "\n",
    "for epoch in range(3):\n",
    "    for batch in train_loader:\n",
    "        optim.zero_grad()\n",
    "        input_ids = batch['input_ids'].to(device)\n",
    "        attention_mask = batch['attention_mask'].to(device)\n",
    "        start_positions = batch['start_positions'].to(device)\n",
    "        end_positions = batch['end_positions'].to(device)\n",
    "        outputs = model(input_ids, attention_mask=attention_mask, start_positions=start_positions, end_positions=end_positions)\n",
    "        loss = outputs[0]\n",
    "        loss.backward()\n",
    "        optim.step()\n",
    "\n",
    "model.eval()"
   ]
  },
  {
   "cell_type": "markdown",
   "metadata": {},
   "source": [
    "\n",
    "https://colab.research.google.com/drive/1IPkZo1Wd-DghIOK6gJpcb0Dv4_Gv2kXB?usp=sharing#scrollTo=ImupuGXDGq7b\n",
    "\n",
    "https://github.com/monologg/KoELECTRA\n",
    "\n",
    "https://github.com/monologg/KoELECTRA/blob/master/finetune/run_squad.py\n",
    "\n",
    "Korean Sentence Splitter: https://github.com/hyunwoongko/kss"
   ]
  },
  {
   "cell_type": "markdown",
   "metadata": {},
   "source": [
    "## Is there more Efficient way???..."
   ]
  },
  {
   "cell_type": "code",
   "execution_count": 3,
   "metadata": {},
   "outputs": [],
   "source": [
    "from transformers import squad_convert_examples_to_features\n",
    "from transformers.data.processors.squad import SquadResult, SquadV1Processor, SquadV2Processor"
   ]
  },
  {
   "cell_type": "code",
   "execution_count": 4,
   "metadata": {},
   "outputs": [
    {
     "name": "stderr",
     "output_type": "stream",
     "text": [
      "100%|██████████| 5/5 [00:00<00:00, 377.92it/s]\n"
     ]
    }
   ],
   "source": [
    "processor = SquadV2Processor()\n",
    "examples = processor.get_train_examples(data_dir=data_path, filename=\"test.json\")  # examples은 먼저 whitespace 기반으로 토크나이징함"
   ]
  },
  {
   "cell_type": "code",
   "execution_count": 5,
   "metadata": {},
   "outputs": [],
   "source": [
    "from transformers import ElectraTokenizer, ElectraForQuestionAnswering\n",
    "tokenizer = ElectraTokenizer.from_pretrained(\"monologg/koelectra-base-v3-discriminator\")"
   ]
  },
  {
   "cell_type": "code",
   "execution_count": 63,
   "metadata": {},
   "outputs": [
    {
     "name": "stderr",
     "output_type": "stream",
     "text": [
      "convert squad examples to features: 100%|██████████| 25/25 [00:00<00:00, 84.88it/s]\n",
      "add example index and unique id: 100%|██████████| 25/25 [00:00<00:00, 59041.44it/s]\n"
     ]
    }
   ],
   "source": [
    "features, train_dataset = squad_convert_examples_to_features(\n",
    "    examples=examples,\n",
    "    tokenizer=tokenizer,\n",
    "    max_seq_length=512,\n",
    "    doc_stride=128,\n",
    "    max_query_length=64,\n",
    "    is_training=True,\n",
    "    return_dataset=\"pt\",\n",
    "    threads=4,\n",
    ")"
   ]
  },
  {
   "cell_type": "code",
   "execution_count": 60,
   "metadata": {},
   "outputs": [],
   "source": [
    "a = features[1]"
   ]
  },
  {
   "cell_type": "code",
   "execution_count": 46,
   "metadata": {},
   "outputs": [
    {
     "data": {
      "text/plain": [
       "(21, 31)"
      ]
     },
     "execution_count": 46,
     "metadata": {},
     "output_type": "execute_result"
    }
   ],
   "source": [
    "a.start_position, a.end_position"
   ]
  },
  {
   "cell_type": "code",
   "execution_count": 47,
   "metadata": {},
   "outputs": [
    {
     "name": "stdout",
     "output_type": "stream",
     "text": [
      "0 [CLS]\n",
      "1 서울\n",
      "2 ##과\n",
      "3 충북\n",
      "4 괴산\n",
      "5 ##에\n",
      "6 ##서\n",
      "7 '\n",
      "8 국제\n",
      "9 ##청\n",
      "10 ##소년\n",
      "11 ##포\n",
      "12 ##럼\n",
      "13 '\n",
      "14 을\n",
      "15 여\n",
      "16 ##는\n",
      "17 곳\n",
      "18 ##은\n",
      "19 ?\n",
      "20 [SEP]\n",
      "21 한국\n",
      "22 ##청\n",
      "23 ##소년단\n",
      "24 ##체\n",
      "25 ##협\n",
      "26 ##의\n",
      "27 ##회\n",
      "28 ##와\n",
      "29 여성\n",
      "30 ##가족\n",
      "31 ##부\n",
      "32 ##는\n",
      "33 22\n",
      "34 ##일\n"
     ]
    }
   ],
   "source": [
    "for i, t in enumerate(a.tokens[:35]):\n",
    "    print(i, t)"
   ]
  },
  {
   "cell_type": "code",
   "execution_count": 7,
   "metadata": {},
   "outputs": [],
   "source": [
    "class ARGS:\n",
    "    def __init__(self, **kwargs):\n",
    "        self.__dict__.update(kwargs)\n",
    "        \n",
    "args_dict = {\n",
    "  \"task\": \"korquad\",\n",
    "  \"data_dir\": \"data\",\n",
    "  \"ckpt_dir\": \"ckpt\",\n",
    "  \"train_file\": \"KorQuAD_v1.0_train.json\",\n",
    "  \"predict_file\": \"KorQuAD_v1.0_dev.json\",\n",
    "  \"threads\": 4,\n",
    "  \"version_2_with_negative\": False,\n",
    "  \"null_score_diff_threshold\": 0.0,\n",
    "  \"max_seq_length\": 512,\n",
    "  \"doc_stride\": 128,\n",
    "  \"max_query_length\": 64,\n",
    "  \"max_answer_length\": 30,\n",
    "  \"n_best_size\": 20,\n",
    "  \"verbose_logging\": True,\n",
    "  \"overwrite_output_dir\": True,\n",
    "  \"evaluate_during_training\": True,\n",
    "  \"eval_all_checkpoints\": True,\n",
    "  \"save_optimizer\": False,\n",
    "  \"do_lower_case\": False,\n",
    "  \"do_train\": True,\n",
    "  \"do_eval\": True,\n",
    "  \"num_train_epochs\": 7,\n",
    "  \"weight_decay\": 0.0,\n",
    "  \"gradient_accumulation_steps\": 1,\n",
    "  \"adam_epsilon\": 1e-8,\n",
    "  \"warmup_proportion\": 0,\n",
    "  \"max_steps\": -1,\n",
    "  \"max_grad_norm\": 1.0,\n",
    "  \"no_cuda\": False,\n",
    "  \"model_type\": \"koelectra-base-v3\",\n",
    "  \"model_name_or_path\": \"monologg/koelectra-base-v3-discriminator\",\n",
    "  \"output_dir\": \"koelectra-base-v3-korquad-ckpt\",\n",
    "  \"seed\": 42,\n",
    "  \"train_batch_size\": 8,\n",
    "  \"eval_batch_size\": 32,\n",
    "  \"logging_steps\": 1000,\n",
    "  \"save_steps\": 1000,\n",
    "  \"learning_rate\": 5e-5\n",
    "}\n",
    "     \n",
    "args = ARGS(**args_dict)"
   ]
  },
  {
   "cell_type": "code",
   "execution_count": 8,
   "metadata": {},
   "outputs": [
    {
     "name": "stderr",
     "output_type": "stream",
     "text": [
      "Some weights of the model checkpoint at monologg/koelectra-base-v3-discriminator were not used when initializing ElectraForQuestionAnswering: ['discriminator_predictions.dense.weight', 'discriminator_predictions.dense.bias', 'discriminator_predictions.dense_prediction.weight', 'discriminator_predictions.dense_prediction.bias']\n",
      "- This IS expected if you are initializing ElectraForQuestionAnswering from the checkpoint of a model trained on another task or with another architecture (e.g. initializing a BertForSequenceClassification model from a BertForPreTraining model).\n",
      "- This IS NOT expected if you are initializing ElectraForQuestionAnswering from the checkpoint of a model that you expect to be exactly identical (initializing a BertForSequenceClassification model from a BertForSequenceClassification model).\n",
      "Some weights of ElectraForQuestionAnswering were not initialized from the model checkpoint at monologg/koelectra-base-v3-discriminator and are newly initialized: ['qa_outputs.weight', 'qa_outputs.bias']\n",
      "You should probably TRAIN this model on a down-stream task to be able to use it for predictions and inference.\n"
     ]
    }
   ],
   "source": [
    "from transformers import ElectraForQuestionAnswering, ElectraConfig\n",
    "config = ElectraConfig.from_pretrained(args.model_name_or_path)\n",
    "model = ElectraForQuestionAnswering.from_pretrained(args.model_name_or_path, config=config)"
   ]
  },
  {
   "cell_type": "code",
   "execution_count": 9,
   "metadata": {},
   "outputs": [],
   "source": [
    "# device = \"cuda\" if torch.cuda.is_available() else \"cpu\"\n",
    "device = \"cpu\""
   ]
  },
  {
   "cell_type": "code",
   "execution_count": 11,
   "metadata": {},
   "outputs": [],
   "source": [
    "from torch.utils.data import DataLoader, RandomSampler, SequentialSampler\n",
    "from transformers import AdamW, get_linear_schedule_with_warmup\n",
    "\n",
    "train_sampler = RandomSampler(train_dataset)\n",
    "train_dataloader = DataLoader(train_dataset, sampler=train_sampler, batch_size=args.train_batch_size)\n",
    "t_total = len(train_dataloader) // args.gradient_accumulation_steps * args.num_train_epochs\n",
    "no_decay = [\"bias\", \"LayerNorm.weight\"]\n",
    "optimizer_grouped_parameters = [\n",
    "    {\n",
    "        \"params\": [p for n, p in model.named_parameters() if not any(nd in n for nd in no_decay)],\n",
    "        \"weight_decay\": args.weight_decay,\n",
    "    },\n",
    "    {\"params\": [p for n, p in model.named_parameters() if any(nd in n for nd in no_decay)], \"weight_decay\": 0.0},\n",
    "]\n",
    "optimizer = AdamW(optimizer_grouped_parameters, lr=args.learning_rate, eps=args.adam_epsilon)\n",
    "scheduler = get_linear_schedule_with_warmup(\n",
    "    optimizer, num_warmup_steps=int(t_total * args.warmup_proportion), num_training_steps=t_total\n",
    ")\n",
    "\n",
    "global_step = 1\n",
    "epochs_trained = 0\n",
    "steps_trained_in_current_epoch = 0\n",
    "tr_loss, logging_loss = 0.0, 0.0\n",
    "model.zero_grad()"
   ]
  },
  {
   "cell_type": "code",
   "execution_count": 191,
   "metadata": {},
   "outputs": [],
   "source": [
    "model.to(device)\n",
    "model.train()\n",
    "for step, batch in enumerate(train_dataloader):\n",
    "    batch = tuple(t.to(device) for t in batch)\n",
    "\n",
    "    inputs = {\n",
    "        \"input_ids\": batch[0],\n",
    "        \"attention_mask\": batch[1],\n",
    "        \"token_type_ids\": batch[2],\n",
    "        \"start_positions\": batch[3],\n",
    "        \"end_positions\": batch[4],\n",
    "    }\n",
    "    break"
   ]
  },
  {
   "cell_type": "code",
   "execution_count": 13,
   "metadata": {},
   "outputs": [],
   "source": [
    "input_ids=inputs[\"input_ids\"]\n",
    "attention_mask=inputs[\"attention_mask\"]\n",
    "token_type_ids=inputs[\"token_type_ids\"]"
   ]
  },
  {
   "cell_type": "code",
   "execution_count": 14,
   "metadata": {},
   "outputs": [],
   "source": [
    "o = model.electra.forward(input_ids=input_ids, attention_mask=attention_mask, token_type_ids=token_type_ids)"
   ]
  },
  {
   "cell_type": "code",
   "execution_count": 15,
   "metadata": {},
   "outputs": [
    {
     "data": {
      "text/plain": [
       "torch.Size([8, 512, 768])"
      ]
     },
     "execution_count": 15,
     "metadata": {},
     "output_type": "execute_result"
    }
   ],
   "source": [
    "o.last_hidden_state.size()"
   ]
  },
  {
   "cell_type": "code",
   "execution_count": 16,
   "metadata": {},
   "outputs": [],
   "source": [
    "fin_o = model.qa_outputs(o.last_hidden_state)"
   ]
  },
  {
   "cell_type": "code",
   "execution_count": 17,
   "metadata": {},
   "outputs": [
    {
     "data": {
      "text/plain": [
       "torch.Size([8, 512, 2])"
      ]
     },
     "execution_count": 17,
     "metadata": {},
     "output_type": "execute_result"
    }
   ],
   "source": [
    "fin_o.size()"
   ]
  },
  {
   "cell_type": "code",
   "execution_count": 19,
   "metadata": {},
   "outputs": [],
   "source": [
    "outputs = model(**inputs)"
   ]
  },
  {
   "cell_type": "code",
   "execution_count": 20,
   "metadata": {},
   "outputs": [
    {
     "data": {
      "text/plain": [
       "tensor([411, 294,  38, 490, 491, 468, 468,  98])"
      ]
     },
     "execution_count": 20,
     "metadata": {},
     "output_type": "execute_result"
    }
   ],
   "source": [
    "outputs.start_logits.argmax(1)"
   ]
  },
  {
   "cell_type": "code",
   "execution_count": 21,
   "metadata": {},
   "outputs": [
    {
     "data": {
      "text/plain": [
       "tensor([460,  16, 123,  37,  89, 308, 105, 304])"
      ]
     },
     "execution_count": 21,
     "metadata": {},
     "output_type": "execute_result"
    }
   ],
   "source": [
    "inputs[\"start_positions\"]"
   ]
  },
  {
   "cell_type": "code",
   "execution_count": 22,
   "metadata": {},
   "outputs": [
    {
     "data": {
      "text/plain": [
       "tensor([471, 196, 274, 105,  51, 223, 221, 279])"
      ]
     },
     "execution_count": 22,
     "metadata": {},
     "output_type": "execute_result"
    }
   ],
   "source": [
    "outputs.end_logits.argmax(1)"
   ]
  },
  {
   "cell_type": "code",
   "execution_count": 23,
   "metadata": {},
   "outputs": [
    {
     "data": {
      "text/plain": [
       "tensor([481,  16, 160,  43,  94, 317, 106, 324])"
      ]
     },
     "execution_count": 23,
     "metadata": {},
     "output_type": "execute_result"
    }
   ],
   "source": [
    "inputs[\"end_positions\"]"
   ]
  },
  {
   "cell_type": "markdown",
   "metadata": {},
   "source": [
    "**eval phase**"
   ]
  },
  {
   "cell_type": "code",
   "execution_count": 286,
   "metadata": {},
   "outputs": [
    {
     "name": "stderr",
     "output_type": "stream",
     "text": [
      "\n",
      "100%|██████████| 5/5 [00:00<00:00, 671.76it/s]\n",
      "\n",
      "convert squad examples to features:   0%|          | 0/25 [00:00<?, ?it/s]\u001b[A\n",
      "convert squad examples to features: 100%|██████████| 25/25 [00:00<00:00, 83.48it/s][A\n",
      "\n",
      "add example index and unique id: 100%|██████████| 25/25 [00:00<00:00, 237234.39it/s]\n"
     ]
    }
   ],
   "source": [
    "eval_examples = processor.get_dev_examples(data_dir=data_path, filename=\"test.json\")  # examples은 먼저 whitespace 기반으로 토크나이징함\n",
    "eval_features, eval_dataset = squad_convert_examples_to_features(\n",
    "    examples=eval_examples,\n",
    "    tokenizer=tokenizer,\n",
    "    max_seq_length=512,\n",
    "    doc_stride=128,\n",
    "    max_query_length=64,\n",
    "    is_training=False,\n",
    "    return_dataset=\"pt\",\n",
    "    threads=4,\n",
    ")"
   ]
  },
  {
   "cell_type": "code",
   "execution_count": null,
   "metadata": {},
   "outputs": [],
   "source": [
    "for fea in eval_features:\n",
    "    fea.unique_id -= 1000000000\n",
    "eval_sampler = SequentialSampler(eval_dataset)\n",
    "eval_dataloader = DataLoader(eval_dataset, sampler=eval_sampler, batch_size=args.train_batch_size)"
   ]
  },
  {
   "cell_type": "code",
   "execution_count": 140,
   "metadata": {},
   "outputs": [],
   "source": [
    "all_results = []\n",
    "for batch in eval_dataloader:\n",
    "    model.eval()\n",
    "    batch = tuple(t.to(device) for t in batch)\n",
    "\n",
    "    with torch.no_grad():\n",
    "        inputs = {\n",
    "            \"input_ids\": batch[0],\n",
    "            \"attention_mask\": batch[1],\n",
    "            \"token_type_ids\": batch[2],\n",
    "        }\n",
    "        example_indices = batch[3]\n",
    "        outputs = model(**inputs)\n",
    "        \n",
    "    for i, example_index in enumerate(example_indices):\n",
    "        eval_feature = eval_features[example_index.item()]\n",
    "        unique_id = int(eval_feature.unique_id)\n",
    "        output = [to_list(o[i]) for o in outputs.values()]\n",
    "        start_logits, end_logits = output\n",
    "        result = SquadResult(unique_id, start_logits, end_logits)\n",
    "        all_results.append(result)"
   ]
  },
  {
   "cell_type": "code",
   "execution_count": 113,
   "metadata": {},
   "outputs": [],
   "source": [
    "def to_list(tensor):\n",
    "    return tensor.detach().cpu().tolist()"
   ]
  },
  {
   "cell_type": "code",
   "execution_count": 121,
   "metadata": {},
   "outputs": [],
   "source": [
    "from transformers.data.metrics.squad_metrics import (\n",
    "    compute_predictions_logits,\n",
    "    squad_evaluate\n",
    ")"
   ]
  },
  {
   "cell_type": "code",
   "execution_count": 147,
   "metadata": {},
   "outputs": [],
   "source": [
    "import os \n",
    "output_prediction_file = \"./predictions.json\"\n",
    "output_nbest_file = \"./nbest_predictions.json\"\n",
    "output_null_log_odds_file = \"./null_odds.json\""
   ]
  },
  {
   "cell_type": "code",
   "execution_count": 148,
   "metadata": {},
   "outputs": [],
   "source": [
    "predictions = compute_predictions_logits(\n",
    "    eval_examples,\n",
    "    eval_features,\n",
    "    all_results,\n",
    "    args.n_best_size,\n",
    "    args.max_answer_length,\n",
    "    args.do_lower_case,\n",
    "    output_prediction_file,\n",
    "    output_nbest_file,\n",
    "    output_null_log_odds_file,\n",
    "    args.verbose_logging,\n",
    "    args.version_2_with_negative,\n",
    "    args.null_score_diff_threshold,\n",
    "    tokenizer,\n",
    ")"
   ]
  },
  {
   "cell_type": "code",
   "execution_count": 181,
   "metadata": {},
   "outputs": [
    {
     "name": "stdout",
     "output_type": "stream",
     "text": [
      "c1_57059-1 한국청소년단체협의회와 여성가족부\n",
      "c1_57060-1 22일부터 28일\n",
      "c1_57061-1 '청소년과 뉴미디어'\n",
      "c1_57062-1 기조강연을 시작으로 국가별 주제관련 사례발표, 그룹 토론 및 전체총회, '청소년선언문' 작성 및 채택 등 다양한 프로그램을 운영한다.\n",
      "m5_306705-1 샐리\n",
      "c1_151305-1 보조 교통 경찰로 일하는 천중핑\n",
      "c1_151306-1 지난달 28일\n",
      "c1_151307-1 구이저우성 카일리시\n",
      "c1_151308-1 ‘중국의 좋은 이웃상’과 함께 상금 1만 위안(약 170만원)을 수여\n",
      "c1_151309-1 이틀 간의 코마 상태 이후 의식을 회복해 지난 2일부터 중환자실에서 치료를 받고 있습니다\n",
      "c1_151310-1 열쇠공이 문을 따는 소리에 겁을 먹고 창문 밖으로 도망을 치려다\n",
      "c1_151311-1 아이가 잠든 사이 돌보던 아이의 할머니가 쓰레기를 버리러 나갔다가 문이 잠기는 바람에 열쇠공을 불렀던 것\n",
      "c1_36509-1 조달청\n",
      "c1_36510-1 2012년\n",
      "c1_36511-1 소송 제재 자체에 문제가 있었다는 의미\n",
      "c1_36512-1 계약심사협의회에서 내부 심의를 거쳐 부정당업체로 등록을 하고 제재를 실시\n",
      "c1_36513-1 지방계약법이 개정되면서 지방자치단체의 부정당업자 제재권한이 조달청으로 이관된 것\n",
      "c1_81296-1 NASA\n",
      "c1_81297-1 2004년 1월\n",
      "c1_81298-1 화성\n",
      "c1_81299-1 운석으로 보이는 특이한 암석\n",
      "c1_81300-1 화성으로 하강할 때 사용된 열 차폐 방패(heat shield)에 접근하면서\n",
      "c1_81301-1 오퍼튜니티의 적외선 분광계인 Mini-TES의 분석에 따르면, 이 암석에서는 화성 암석에서 나오는 전형적인 열 적외선이 나오지 않았기 때문에\n",
      "c1_81302-1 이 암석 근처에 머물면서 이것이 운석인지를 확실하게 알아낼 것\n",
      "c1_81303-1 표면이 울퉁불퉁한 홈이 파여 있기 때문에\n"
     ]
    }
   ],
   "source": [
    "for i in eval_examples:\n",
    "    print(i.qas_id, i.answers[0][\"text\"])"
   ]
  },
  {
   "cell_type": "code",
   "execution_count": 173,
   "metadata": {},
   "outputs": [
    {
     "data": {
      "text/plain": [
       "OrderedDict([('c1_57059-1', \"'국제청소년포럼'을 연다고 21일 밝혔다. 한국 미국 캐나다 호주\"),\n",
       "             ('c1_57060-1', \"'국제청소년포럼'을 연다고 21일 밝혔다. 한국 미국 캐나다 호주\"),\n",
       "             ('c1_57061-1', \"'국제청소년포럼'을 연다고 21일 밝혔다. 한국 미국 캐나다 호주\"),\n",
       "             ('c1_57062-1', \"'국제청소년포럼'을 연다고 21일 밝혔다. 한국 미국 캐나다 호주\"),\n",
       "             ('m5_306705-1', '훌라후프로 무대를 꾸몄다. 그러나'),\n",
       "             ('c1_151305-1', '카일리시에 보조 교통 경찰로 일하는'),\n",
       "             ('c1_151306-1', '카일리시에 보조 교통 경찰로 일하는'),\n",
       "             ('c1_151307-1', '카일리시에 보조 교통 경찰로 일하는'),\n",
       "             ('c1_151308-1', '카일리시에 보조 교통 경찰로 일하는'),\n",
       "             ('c1_151309-1', '천중핑의 팔에'),\n",
       "             ('c1_151310-1', '카일리시에 보조 교통 경찰로 일하는'),\n",
       "             ('c1_151311-1', '카일리시에 보조 교통 경찰로 일하는'),\n",
       "             ('c1_36509-1',\n",
       "              '20건에 불과했던 가처분 소송은 지난해 116건으로 4년만에 5.8배 급증했다. 올해는'),\n",
       "             ('c1_36510-1',\n",
       "              '20건에 불과했던 가처분 소송은 지난해 116건으로 4년만에 5.8배 급증했다. 올해는'),\n",
       "             ('c1_36511-1',\n",
       "              '20건에 불과했던 가처분 소송은 지난해 116건으로 4년만에 5.8배 급증했다. 올해는'),\n",
       "             ('c1_36512-1', '부정당제재 건수는 2012년 233건이던에서 지난해 442건으로 증가했다. 올해엔'),\n",
       "             ('c1_36513-1', '부정당제재 건수는 2012년 233건이던에서 지난해 442건으로 증가했다. 올해엔'),\n",
       "             ('c1_81296-1',\n",
       "              '오퍼튜니티(Opportunity)가 화성 표면에서 운석으로 보이는 특이한 암석을 발견했다. 탐사 로버는 약 2주'),\n",
       "             ('c1_81297-1',\n",
       "              '오퍼튜니티(Opportunity)가 화성 표면에서 운석으로 보이는 특이한 암석을 발견했다. 탐사 로버는 약 2주'),\n",
       "             ('c1_81298-1',\n",
       "              '오퍼튜니티(Opportunity)가 화성 표면에서 운석으로 보이는 특이한 암석을 발견했다. 탐사 로버는 약 2주'),\n",
       "             ('c1_81299-1',\n",
       "              '오퍼튜니티(Opportunity)가 화성 표면에서 운석으로 보이는 특이한 암석을 발견했다. 탐사 로버는 약 2주'),\n",
       "             ('c1_81300-1',\n",
       "              '오퍼튜니티(Opportunity)가 화성 표면에서 운석으로 보이는 특이한 암석을 발견했다. 탐사 로버는 약 2주'),\n",
       "             ('c1_81301-1',\n",
       "              '오퍼튜니티(Opportunity)가 화성 표면에서 운석으로 보이는 특이한 암석을 발견했다. 탐사 로버는 약 2주'),\n",
       "             ('c1_81302-1',\n",
       "              '오퍼튜니티(Opportunity)가 화성 표면에서 운석으로 보이는 특이한 암석을 발견했다. 탐사 로버는 약 2주'),\n",
       "             ('c1_81303-1',\n",
       "              '오퍼튜니티(Opportunity)가 화성 표면에서 운석으로 보이는 특이한 암석을 발견했다. 탐사 로버는 약 2주')])"
      ]
     },
     "execution_count": 173,
     "metadata": {},
     "output_type": "execute_result"
    }
   ],
   "source": [
    "predictions"
   ]
  },
  {
   "cell_type": "code",
   "execution_count": 171,
   "metadata": {},
   "outputs": [],
   "source": [
    "results = squad_evaluate(eval_examples, predictions)"
   ]
  },
  {
   "cell_type": "code",
   "execution_count": 172,
   "metadata": {},
   "outputs": [
    {
     "data": {
      "text/plain": [
       "OrderedDict([('exact', 0.0),\n",
       "             ('f1', 5.591246684350133),\n",
       "             ('total', 25),\n",
       "             ('HasAns_exact', 0.0),\n",
       "             ('HasAns_f1', 5.591246684350133),\n",
       "             ('HasAns_total', 25),\n",
       "             ('best_exact', 0.0),\n",
       "             ('best_exact_thresh', 0.0),\n",
       "             ('best_f1', 5.591246684350133),\n",
       "             ('best_f1_thresh', 0.0)])"
      ]
     },
     "execution_count": 172,
     "metadata": {},
     "output_type": "execute_result"
    }
   ],
   "source": [
    "results"
   ]
  },
  {
   "cell_type": "markdown",
   "metadata": {},
   "source": [
    "Why there is 0 to predict?"
   ]
  },
  {
   "cell_type": "code",
   "execution_count": 65,
   "metadata": {},
   "outputs": [],
   "source": [
    "vocab_rev = {v: k for k, v in tokenizer.vocab.items()}\n",
    "tostring = lambda x: \" \".join(x).replace(\" ##\", \"\").replace(\"[PAD]\", \"\").strip()\n",
    "def show_original(idx, inputs):\n",
    "    tokens = [vocab_rev[i.item()] for i in inputs[\"input_ids\"][idx]]\n",
    "    s, e = inputs[\"start_positions\"][idx].item(), inputs[\"end_positions\"][idx].item()\n",
    "    print(s, e)\n",
    "    print(\"Answer: \", tostring(tokens[s:(e+1)]))\n",
    "    print(tostring(tokens))"
   ]
  },
  {
   "cell_type": "code",
   "execution_count": 66,
   "metadata": {
    "collapsed": true,
    "jupyter": {
     "outputs_hidden": true
    }
   },
   "outputs": [
    {
     "name": "stdout",
     "output_type": "stream",
     "text": [
      "---------------------------------------------------------------\n",
      "[Batch] 0\n",
      "---------------------------------------------------------------\n",
      "21 31\n",
      "Answer:  한국청소년단체협의회와 여성가족부\n",
      "[CLS] 서울과 충북 괴산에서 ' 국제청소년포럼 ' 을 여는 곳은 ? [SEP] 한국청소년단체협의회와 여성가족부는 22일부터 28일까지 서울과 충북 괴산에서 ' 국제청소년포럼 ' 을 연다고 21일 밝혔다 . 한국 미국 캐나다 호주 등 전 세계 32개국 75여명의 대학생 , 청소년들이 모여 전 세계적 현안문제에 대한 대안과 해결책을 모색하는 자리다 . 이번 포럼의 주제는 ' 청소년과 뉴미디어 ' 다 . 스마트폰 SNS 태블릿PC 등 새로운 커뮤니케이션 매체인 ' 뉴미디어 ' 에 대한 성찰과 문제점에 대해 토론한다 . 기조강연을 시작으로 국가별 주제관련 사례발표 , 그룹 토론 및 전체총회 , ' 청소년선언문 ' 작성 및 채택 등 다양한 프로그램을 운영한다 . 개회식은 22일 서울 방화동에 있는 국제청소년센터 국제회의장에서 한다 . 전 세계 32개국 대학생ㆍ청소년 참가자와 전국의 청소년기관단체장과 청소년지도자 여성가족부 주한외교사절 등 100여명이 참석할 예정이다 . 23일에는 유엔미래포럼 박영숙 대표가 ' 뉴미디어의 균형 있는 발전을 위한 청소년의 역할 ' 에 대해 기조강연을 한다 . 뉴미디어의 올바른 활용방안과 청소년문화의 형성에 대해 설명할 계획이다 . 27일 폐회식에서는 ' 청소년선언문 ' 을 채택한다 . 선언문에는 전 세계적으로 뉴미디어의 바람직한 발전을 촉구하며 각국 청년들이 함께 실천할 수 있는 내용 등이 담길 예정이다 . 한국청소년단체협의회는 포럼이 끝난 뒤 UN 등 국제기구와 참가자 각국 정부 등 국제사회에 선언문을 전달할 예정이다 . [SEP]\n",
      "\n",
      "26 30\n",
      "Answer:  22일부터 28일\n",
      "[CLS] ' 국제 청소년포럼 ' 이 열리는 때는 ? [SEP] 한국청소년단체협의회와 여성가족부는 22일부터 28일까지 서울과 충북 괴산에서 ' 국제청소년포럼 ' 을 연다고 21일 밝혔다 . 한국 미국 캐나다 호주 등 전 세계 32개국 75여명의 대학생 , 청소년들이 모여 전 세계적 현안문제에 대한 대안과 해결책을 모색하는 자리다 . 이번 포럼의 주제는 ' 청소년과 뉴미디어 ' 다 . 스마트폰 SNS 태블릿PC 등 새로운 커뮤니케이션 매체인 ' 뉴미디어 ' 에 대한 성찰과 문제점에 대해 토론한다 . 기조강연을 시작으로 국가별 주제관련 사례발표 , 그룹 토론 및 전체총회 , ' 청소년선언문 ' 작성 및 채택 등 다양한 프로그램을 운영한다 . 개회식은 22일 서울 방화동에 있는 국제청소년센터 국제회의장에서 한다 . 전 세계 32개국 대학생ㆍ청소년 참가자와 전국의 청소년기관단체장과 청소년지도자 여성가족부 주한외교사절 등 100여명이 참석할 예정이다 . 23일에는 유엔미래포럼 박영숙 대표가 ' 뉴미디어의 균형 있는 발전을 위한 청소년의 역할 ' 에 대해 기조강연을 한다 . 뉴미디어의 올바른 활용방안과 청소년문화의 형성에 대해 설명할 계획이다 . 27일 폐회식에서는 ' 청소년선언문 ' 을 채택한다 . 선언문에는 전 세계적으로 뉴미디어의 바람직한 발전을 촉구하며 각국 청년들이 함께 실천할 수 있는 내용 등이 담길 예정이다 . 한국청소년단체협의회는 포럼이 끝난 뒤 UN 등 국제기구와 참가자 각국 정부 등 국제사회에 선언문을 전달할 예정이다 . [SEP]\n",
      "\n",
      "89 94\n",
      "Answer:  ' 청소년과 뉴미디어 '\n",
      "[CLS] 이번 포럼의 주제는 ? [SEP] 한국청소년단체협의회와 여성가족부는 22일부터 28일까지 서울과 충북 괴산에서 ' 국제청소년포럼 ' 을 연다고 21일 밝혔다 . 한국 미국 캐나다 호주 등 전 세계 32개국 75여명의 대학생 , 청소년들이 모여 전 세계적 현안문제에 대한 대안과 해결책을 모색하는 자리다 . 이번 포럼의 주제는 ' 청소년과 뉴미디어 ' 다 . 스마트폰 SNS 태블릿PC 등 새로운 커뮤니케이션 매체인 ' 뉴미디어 ' 에 대한 성찰과 문제점에 대해 토론한다 . 기조강연을 시작으로 국가별 주제관련 사례발표 , 그룹 토론 및 전체총회 , ' 청소년선언문 ' 작성 및 채택 등 다양한 프로그램을 운영한다 . 개회식은 22일 서울 방화동에 있는 국제청소년센터 국제회의장에서 한다 . 전 세계 32개국 대학생ㆍ청소년 참가자와 전국의 청소년기관단체장과 청소년지도자 여성가족부 주한외교사절 등 100여명이 참석할 예정이다 . 23일에는 유엔미래포럼 박영숙 대표가 ' 뉴미디어의 균형 있는 발전을 위한 청소년의 역할 ' 에 대해 기조강연을 한다 . 뉴미디어의 올바른 활용방안과 청소년문화의 형성에 대해 설명할 계획이다 . 27일 폐회식에서는 ' 청소년선언문 ' 을 채택한다 . 선언문에는 전 세계적으로 뉴미디어의 바람직한 발전을 촉구하며 각국 청년들이 함께 실천할 수 있는 내용 등이 담길 예정이다 . 한국청소년단체협의회는 포럼이 끝난 뒤 UN 등 국제기구와 참가자 각국 정부 등 국제사회에 선언문을 전달할 예정이다 . [SEP]\n",
      "\n",
      "123 160\n",
      "Answer:  기조강연을 시작으로 국가별 주제관련 사례발표 , 그룹 토론 및 전체총회 , ' 청소년선언문 ' 작성 및 채택 등 다양한 프로그램을 운영한다 .\n",
      "[CLS] 포럼은 어떻게 진행되는가 ? [SEP] 한국청소년단체협의회와 여성가족부는 22일부터 28일까지 서울과 충북 괴산에서 ' 국제청소년포럼 ' 을 연다고 21일 밝혔다 . 한국 미국 캐나다 호주 등 전 세계 32개국 75여명의 대학생 , 청소년들이 모여 전 세계적 현안문제에 대한 대안과 해결책을 모색하는 자리다 . 이번 포럼의 주제는 ' 청소년과 뉴미디어 ' 다 . 스마트폰 SNS 태블릿PC 등 새로운 커뮤니케이션 매체인 ' 뉴미디어 ' 에 대한 성찰과 문제점에 대해 토론한다 . 기조강연을 시작으로 국가별 주제관련 사례발표 , 그룹 토론 및 전체총회 , ' 청소년선언문 ' 작성 및 채택 등 다양한 프로그램을 운영한다 . 개회식은 22일 서울 방화동에 있는 국제청소년센터 국제회의장에서 한다 . 전 세계 32개국 대학생ㆍ청소년 참가자와 전국의 청소년기관단체장과 청소년지도자 여성가족부 주한외교사절 등 100여명이 참석할 예정이다 . 23일에는 유엔미래포럼 박영숙 대표가 ' 뉴미디어의 균형 있는 발전을 위한 청소년의 역할 ' 에 대해 기조강연을 한다 . 뉴미디어의 올바른 활용방안과 청소년문화의 형성에 대해 설명할 계획이다 . 27일 폐회식에서는 ' 청소년선언문 ' 을 채택한다 . 선언문에는 전 세계적으로 뉴미디어의 바람직한 발전을 촉구하며 각국 청년들이 함께 실천할 수 있는 내용 등이 담길 예정이다 . 한국청소년단체협의회는 포럼이 끝난 뒤 UN 등 국제기구와 참가자 각국 정부 등 국제사회에 선언문을 전달할 예정이다 . [SEP]\n",
      "\n",
      "31 32\n",
      "Answer:  샐리\n",
      "[CLS] 아육대에서 리듬체조에 출전한 구구단의 멤버는 ? [SEP] [ 헤럴드POP = 고승아 기자 ] 그룹 구구단 샐리가 리듬체조에서 실수했다 . 15일 방송된 MBC ' 설특집 2018 아이돌스타 육상 볼링 양궁 리듬체조 에어로빅 선수권대회 ( 이하 아육대 ) ' 에서는 구구단 샐리가 리듬체조 종목에 출전한 모습이 그려졌다 . 이날 구구단 샐리는 리듬체조 종목에 처음 출전해 훌라후프로 무대를 꾸몄다 . 그러나 연기 도중 훌라후프를 받지 못하는 등 실수를 해 안타까움을 자아냈다 . 응원을 하던 구구단 멤버들도 열심히 연습했던 샐리를 생각해 눈물을 흘렸다 . popnews @ heraldcorp . com - Copyrights ⓒ 헤럴드POP & heraldpop . com , 무단 전재 및 재배포 금지 - [SEP]\n",
      "\n",
      "103 112\n",
      "Answer:  보조 교통 경찰로 일하는 천중핑\n",
      "[CLS] 중국에서 아파트에서 추락하던 3세 아이를 살리고 자신은 혼수상태에 빠진 사람은 누구야 ? [SEP] 중국의 한 여성 경찰이 아파트에서 추락하던 3세 아이를 살리고 자신은 혼수상태에 빠졌습니다 . 의인 ( 義 人 ) 의 소식이 알려지자 각박한 중국 사회에 큰 반향을 일으키고 있습니다 . 5일 귀주도시망 등 중국 현지 언론에 따르면 구이저우성 카일리시에 보조 교통 경찰로 일하는 천중핑 ( 49 ) 은 지난달 28일 한 아파트에서 비상 상황이 발생했다는 연락을 받고 현장으로 향했습니다 . 도착했을 때 아파트 4층 창문에서 여자 아이가 매달려 있었습니다 . 곧이어 아이는 손에 힘이 빠지면서 밑으로 추락했습니다 . 천중핑과 다른 세명의 이웃들이 달려갔습니다 . 그리고 아이는 바닥이 아니라 천중핑의 팔에 떨어졌습니다 . 중간 비막이 천막 때문에 속도가 줄기는 했지만 추락의 충격은 천중핑이 고스란히 감당해야 했습니다 . 아이는 즉시 병원으로 옮겨져 치료를 받았습니다 . 다리 골절로 그리 심각한 상황은 아니라고 합니다 . 하지만 생명의 은인이자 영웅은 커다란 댓가를 치러야 했다 . 뇌출혈로 인한 의식불명 상태에 빠진 것이다 . 다행히 이틀 간의 코마 상태 이후 의식을 회복해 지난 2일부터 중환자실에서 치료를 받고 있습니다 . 아이는 열쇠공이 문을 따는 소리에 겁을 먹고 창문 밖으로 도망을 치려다 사고를 당한 것으로 전해졌습니다 . 아이가 잠든 사이 돌보던 아이의 할머니가 쓰레기를 버리러 나갔다가 문이 잠기는 바람에 열쇠공을 불렀던 것입니다 . 아이의 엄마는 “ 천중핑의 도움이 없었다면 아이는 죽었을 것 ” 이라며 딸을 구해준 천중핑에게 감사의 뜻을 전했습다 . 카일리시 정부 대표와 공안부 관계자들도 천중핑이 입원한 병원을 찾아 위로하고 회복될때까지 도움을 아끼지 않겠다고 밝혔습니다 . 천중핑의 선행 사실을 접한 중국 기업 알리바바도 ‘ 중국의 좋은 이웃상 ’ 과 함께 상금 1만 위안 ( 약 170만원 ) 을 수여하기로 했습니다 . [ 아직 살만한 세상 ] 은 점점 각박해지는 세상 [SEP]\n",
      "\n",
      "0 0\n",
      "Answer:  [CLS]\n",
      "[CLS] 중국에서 아파트에서 추락하던 3세 아이를 살리고 자신은 혼수상태에 빠진 사람은 누구야 ? [SEP]니다 . 곧이어 아이는 손에 힘이 빠지면서 밑으로 추락했습니다 . 천중핑과 다른 세명의 이웃들이 달려갔습니다 . 그리고 아이는 바닥이 아니라 천중핑의 팔에 떨어졌습니다 . 중간 비막이 천막 때문에 속도가 줄기는 했지만 추락의 충격은 천중핑이 고스란히 감당해야 했습니다 . 아이는 즉시 병원으로 옮겨져 치료를 받았습니다 . 다리 골절로 그리 심각한 상황은 아니라고 합니다 . 하지만 생명의 은인이자 영웅은 커다란 댓가를 치러야 했다 . 뇌출혈로 인한 의식불명 상태에 빠진 것이다 . 다행히 이틀 간의 코마 상태 이후 의식을 회복해 지난 2일부터 중환자실에서 치료를 받고 있습니다 . 아이는 열쇠공이 문을 따는 소리에 겁을 먹고 창문 밖으로 도망을 치려다 사고를 당한 것으로 전해졌습니다 . 아이가 잠든 사이 돌보던 아이의 할머니가 쓰레기를 버리러 나갔다가 문이 잠기는 바람에 열쇠공을 불렀던 것입니다 . 아이의 엄마는 “ 천중핑의 도움이 없었다면 아이는 죽었을 것 ” 이라며 딸을 구해준 천중핑에게 감사의 뜻을 전했습다 . 카일리시 정부 대표와 공안부 관계자들도 천중핑이 입원한 병원을 찾아 위로하고 회복될때까지 도움을 아끼지 않겠다고 밝혔습니다 . 천중핑의 선행 사실을 접한 중국 기업 알리바바도 ‘ 중국의 좋은 이웃상 ’ 과 함께 상금 1만 위안 ( 약 170만원 ) 을 수여하기로 했습니다 . [ 아직 살만한 세상 ] 은 점점 각박해지는 세상에 희망과 믿음을 주는 이들의 이야기입니다 . 힘들고 지칠 때 아직 살만한 세상을 만들어가는 ‘ 아살세 ’ 사람들의 목소리를 들어보세요 . 따뜻한 세상을 꿈꾸는 독자 여러분의 제보를 기다립니다 . 맹경환 기자 khmaeng @ kmib . co . kr [SEP]\n",
      "\n",
      "114 116\n",
      "Answer:  지난달 28일\n",
      "[CLS] 천중핑씨가 추락하는 아이를 구하고 뇌출혈로 인한 의식불명 상태에 빠진건 언제야 ? [SEP] 중국의 한 여성 경찰이 아파트에서 추락하던 3세 아이를 살리고 자신은 혼수상태에 빠졌습니다 . 의인 ( 義 人 ) 의 소식이 알려지자 각박한 중국 사회에 큰 반향을 일으키고 있습니다 . 5일 귀주도시망 등 중국 현지 언론에 따르면 구이저우성 카일리시에 보조 교통 경찰로 일하는 천중핑 ( 49 ) 은 지난달 28일 한 아파트에서 비상 상황이 발생했다는 연락을 받고 현장으로 향했습니다 . 도착했을 때 아파트 4층 창문에서 여자 아이가 매달려 있었습니다 . 곧이어 아이는 손에 힘이 빠지면서 밑으로 추락했습니다 . 천중핑과 다른 세명의 이웃들이 달려갔습니다 . 그리고 아이는 바닥이 아니라 천중핑의 팔에 떨어졌습니다 . 중간 비막이 천막 때문에 속도가 줄기는 했지만 추락의 충격은 천중핑이 고스란히 감당해야 했습니다 . 아이는 즉시 병원으로 옮겨져 치료를 받았습니다 . 다리 골절로 그리 심각한 상황은 아니라고 합니다 . 하지만 생명의 은인이자 영웅은 커다란 댓가를 치러야 했다 . 뇌출혈로 인한 의식불명 상태에 빠진 것이다 . 다행히 이틀 간의 코마 상태 이후 의식을 회복해 지난 2일부터 중환자실에서 치료를 받고 있습니다 . 아이는 열쇠공이 문을 따는 소리에 겁을 먹고 창문 밖으로 도망을 치려다 사고를 당한 것으로 전해졌습니다 . 아이가 잠든 사이 돌보던 아이의 할머니가 쓰레기를 버리러 나갔다가 문이 잠기는 바람에 열쇠공을 불렀던 것입니다 . 아이의 엄마는 “ 천중핑의 도움이 없었다면 아이는 죽었을 것 ” 이라며 딸을 구해준 천중핑에게 감사의 뜻을 전했습다 . 카일리시 정부 대표와 공안부 관계자들도 천중핑이 입원한 병원을 찾아 위로하고 회복될때까지 도움을 아끼지 않겠다고 밝혔습니다 . 천중핑의 선행 사실을 접한 중국 기업 알리바바도 ‘ 중국의 좋은 이웃상 ’ 과 함께 상금 1만 위안 ( 약 170만원 ) 을 수여하기로 했습니다 . [ 아직 살만한 세상 ] 은 점점 각박해지는 세상에 희망과 [SEP]\n",
      "\n",
      "===============================================================\n",
      "---------------------------------------------------------------\n",
      "[Batch] 1\n",
      "---------------------------------------------------------------\n",
      "0 0\n",
      "Answer:  [CLS]\n",
      "[CLS] 천중핑씨가 추락하는 아이를 구하고 뇌출혈로 인한 의식불명 상태에 빠진건 언제야 ? [SEP]니다 . 곧이어 아이는 손에 힘이 빠지면서 밑으로 추락했습니다 . 천중핑과 다른 세명의 이웃들이 달려갔습니다 . 그리고 아이는 바닥이 아니라 천중핑의 팔에 떨어졌습니다 . 중간 비막이 천막 때문에 속도가 줄기는 했지만 추락의 충격은 천중핑이 고스란히 감당해야 했습니다 . 아이는 즉시 병원으로 옮겨져 치료를 받았습니다 . 다리 골절로 그리 심각한 상황은 아니라고 합니다 . 하지만 생명의 은인이자 영웅은 커다란 댓가를 치러야 했다 . 뇌출혈로 인한 의식불명 상태에 빠진 것이다 . 다행히 이틀 간의 코마 상태 이후 의식을 회복해 지난 2일부터 중환자실에서 치료를 받고 있습니다 . 아이는 열쇠공이 문을 따는 소리에 겁을 먹고 창문 밖으로 도망을 치려다 사고를 당한 것으로 전해졌습니다 . 아이가 잠든 사이 돌보던 아이의 할머니가 쓰레기를 버리러 나갔다가 문이 잠기는 바람에 열쇠공을 불렀던 것입니다 . 아이의 엄마는 “ 천중핑의 도움이 없었다면 아이는 죽었을 것 ” 이라며 딸을 구해준 천중핑에게 감사의 뜻을 전했습다 . 카일리시 정부 대표와 공안부 관계자들도 천중핑이 입원한 병원을 찾아 위로하고 회복될때까지 도움을 아끼지 않겠다고 밝혔습니다 . 천중핑의 선행 사실을 접한 중국 기업 알리바바도 ‘ 중국의 좋은 이웃상 ’ 과 함께 상금 1만 위안 ( 약 170만원 ) 을 수여하기로 했습니다 . [ 아직 살만한 세상 ] 은 점점 각박해지는 세상에 희망과 믿음을 주는 이들의 이야기입니다 . 힘들고 지칠 때 아직 살만한 세상을 만들어가는 ‘ 아살세 ’ 사람들의 목소리를 들어보세요 . 따뜻한 세상을 꿈꾸는 독자 여러분의 제보를 기다립니다 . 맹경환 기자 khmaeng @ kmib . co . kr [SEP]\n",
      "\n",
      "87 91\n",
      "Answer:  구이저우성 카일리시\n",
      "[CLS] 천중핑씨가 보조 교통 경찰로 일하는 곳은 어디야 ? [SEP] 중국의 한 여성 경찰이 아파트에서 추락하던 3세 아이를 살리고 자신은 혼수상태에 빠졌습니다 . 의인 ( 義 人 ) 의 소식이 알려지자 각박한 중국 사회에 큰 반향을 일으키고 있습니다 . 5일 귀주도시망 등 중국 현지 언론에 따르면 구이저우성 카일리시에 보조 교통 경찰로 일하는 천중핑 ( 49 ) 은 지난달 28일 한 아파트에서 비상 상황이 발생했다는 연락을 받고 현장으로 향했습니다 . 도착했을 때 아파트 4층 창문에서 여자 아이가 매달려 있었습니다 . 곧이어 아이는 손에 힘이 빠지면서 밑으로 추락했습니다 . 천중핑과 다른 세명의 이웃들이 달려갔습니다 . 그리고 아이는 바닥이 아니라 천중핑의 팔에 떨어졌습니다 . 중간 비막이 천막 때문에 속도가 줄기는 했지만 추락의 충격은 천중핑이 고스란히 감당해야 했습니다 . 아이는 즉시 병원으로 옮겨져 치료를 받았습니다 . 다리 골절로 그리 심각한 상황은 아니라고 합니다 . 하지만 생명의 은인이자 영웅은 커다란 댓가를 치러야 했다 . 뇌출혈로 인한 의식불명 상태에 빠진 것이다 . 다행히 이틀 간의 코마 상태 이후 의식을 회복해 지난 2일부터 중환자실에서 치료를 받고 있습니다 . 아이는 열쇠공이 문을 따는 소리에 겁을 먹고 창문 밖으로 도망을 치려다 사고를 당한 것으로 전해졌습니다 . 아이가 잠든 사이 돌보던 아이의 할머니가 쓰레기를 버리러 나갔다가 문이 잠기는 바람에 열쇠공을 불렀던 것입니다 . 아이의 엄마는 “ 천중핑의 도움이 없었다면 아이는 죽었을 것 ” 이라며 딸을 구해준 천중핑에게 감사의 뜻을 전했습다 . 카일리시 정부 대표와 공안부 관계자들도 천중핑이 입원한 병원을 찾아 위로하고 회복될때까지 도움을 아끼지 않겠다고 밝혔습니다 . 천중핑의 선행 사실을 접한 중국 기업 알리바바도 ‘ 중국의 좋은 이웃상 ’ 과 함께 상금 1만 위안 ( 약 170만원 ) 을 수여하기로 했습니다 . [ 아직 살만한 세상 ] 은 점점 각박해지는 세상에 희망과 믿음을 주는 이들의 이야기 [SEP]\n",
      "\n",
      "0 0\n",
      "Answer:  [CLS]\n",
      "[CLS] 천중핑씨가 보조 교통 경찰로 일하는 곳은 어디야 ? [SEP]니다 . 곧이어 아이는 손에 힘이 빠지면서 밑으로 추락했습니다 . 천중핑과 다른 세명의 이웃들이 달려갔습니다 . 그리고 아이는 바닥이 아니라 천중핑의 팔에 떨어졌습니다 . 중간 비막이 천막 때문에 속도가 줄기는 했지만 추락의 충격은 천중핑이 고스란히 감당해야 했습니다 . 아이는 즉시 병원으로 옮겨져 치료를 받았습니다 . 다리 골절로 그리 심각한 상황은 아니라고 합니다 . 하지만 생명의 은인이자 영웅은 커다란 댓가를 치러야 했다 . 뇌출혈로 인한 의식불명 상태에 빠진 것이다 . 다행히 이틀 간의 코마 상태 이후 의식을 회복해 지난 2일부터 중환자실에서 치료를 받고 있습니다 . 아이는 열쇠공이 문을 따는 소리에 겁을 먹고 창문 밖으로 도망을 치려다 사고를 당한 것으로 전해졌습니다 . 아이가 잠든 사이 돌보던 아이의 할머니가 쓰레기를 버리러 나갔다가 문이 잠기는 바람에 열쇠공을 불렀던 것입니다 . 아이의 엄마는 “ 천중핑의 도움이 없었다면 아이는 죽었을 것 ” 이라며 딸을 구해준 천중핑에게 감사의 뜻을 전했습다 . 카일리시 정부 대표와 공안부 관계자들도 천중핑이 입원한 병원을 찾아 위로하고 회복될때까지 도움을 아끼지 않겠다고 밝혔습니다 . 천중핑의 선행 사실을 접한 중국 기업 알리바바도 ‘ 중국의 좋은 이웃상 ’ 과 함께 상금 1만 위안 ( 약 170만원 ) 을 수여하기로 했습니다 . [ 아직 살만한 세상 ] 은 점점 각박해지는 세상에 희망과 믿음을 주는 이들의 이야기입니다 . 힘들고 지칠 때 아직 살만한 세상을 만들어가는 ‘ 아살세 ’ 사람들의 목소리를 들어보세요 . 따뜻한 세상을 꿈꾸는 독자 여러분의 제보를 기다립니다 . 맹경환 기자 khmaeng @ kmib . co . kr [SEP]\n",
      "\n",
      "460 481\n",
      "Answer:  ‘ 중국의 좋은 이웃상 ’ 과 함께 상금 1만 위안 ( 약 170만원 ) 을 수여\n",
      "[CLS] 천중핑의 선행 사실을 접한 중국 기업 알리바바는 무엇을 하기로 했어 ? [SEP] 중국의 한 여성 경찰이 아파트에서 추락하던 3세 아이를 살리고 자신은 혼수상태에 빠졌습니다 . 의인 ( 義 人 ) 의 소식이 알려지자 각박한 중국 사회에 큰 반향을 일으키고 있습니다 . 5일 귀주도시망 등 중국 현지 언론에 따르면 구이저우성 카일리시에 보조 교통 경찰로 일하는 천중핑 ( 49 ) 은 지난달 28일 한 아파트에서 비상 상황이 발생했다는 연락을 받고 현장으로 향했습니다 . 도착했을 때 아파트 4층 창문에서 여자 아이가 매달려 있었습니다 . 곧이어 아이는 손에 힘이 빠지면서 밑으로 추락했습니다 . 천중핑과 다른 세명의 이웃들이 달려갔습니다 . 그리고 아이는 바닥이 아니라 천중핑의 팔에 떨어졌습니다 . 중간 비막이 천막 때문에 속도가 줄기는 했지만 추락의 충격은 천중핑이 고스란히 감당해야 했습니다 . 아이는 즉시 병원으로 옮겨져 치료를 받았습니다 . 다리 골절로 그리 심각한 상황은 아니라고 합니다 . 하지만 생명의 은인이자 영웅은 커다란 댓가를 치러야 했다 . 뇌출혈로 인한 의식불명 상태에 빠진 것이다 . 다행히 이틀 간의 코마 상태 이후 의식을 회복해 지난 2일부터 중환자실에서 치료를 받고 있습니다 . 아이는 열쇠공이 문을 따는 소리에 겁을 먹고 창문 밖으로 도망을 치려다 사고를 당한 것으로 전해졌습니다 . 아이가 잠든 사이 돌보던 아이의 할머니가 쓰레기를 버리러 나갔다가 문이 잠기는 바람에 열쇠공을 불렀던 것입니다 . 아이의 엄마는 “ 천중핑의 도움이 없었다면 아이는 죽었을 것 ” 이라며 딸을 구해준 천중핑에게 감사의 뜻을 전했습다 . 카일리시 정부 대표와 공안부 관계자들도 천중핑이 입원한 병원을 찾아 위로하고 회복될때까지 도움을 아끼지 않겠다고 밝혔습니다 . 천중핑의 선행 사실을 접한 중국 기업 알리바바도 ‘ 중국의 좋은 이웃상 ’ 과 함께 상금 1만 위안 ( 약 170만원 ) 을 수여하기로 했습니다 . [ 아직 살만한 세상 ] 은 점점 각박해지는 세상에 희망과 믿음을 주는 [SEP]\n",
      "\n",
      "332 353\n",
      "Answer:  ‘ 중국의 좋은 이웃상 ’ 과 함께 상금 1만 위안 ( 약 170만원 ) 을 수여\n",
      "[CLS] 천중핑의 선행 사실을 접한 중국 기업 알리바바는 무엇을 하기로 했어 ? [SEP]니다 . 곧이어 아이는 손에 힘이 빠지면서 밑으로 추락했습니다 . 천중핑과 다른 세명의 이웃들이 달려갔습니다 . 그리고 아이는 바닥이 아니라 천중핑의 팔에 떨어졌습니다 . 중간 비막이 천막 때문에 속도가 줄기는 했지만 추락의 충격은 천중핑이 고스란히 감당해야 했습니다 . 아이는 즉시 병원으로 옮겨져 치료를 받았습니다 . 다리 골절로 그리 심각한 상황은 아니라고 합니다 . 하지만 생명의 은인이자 영웅은 커다란 댓가를 치러야 했다 . 뇌출혈로 인한 의식불명 상태에 빠진 것이다 . 다행히 이틀 간의 코마 상태 이후 의식을 회복해 지난 2일부터 중환자실에서 치료를 받고 있습니다 . 아이는 열쇠공이 문을 따는 소리에 겁을 먹고 창문 밖으로 도망을 치려다 사고를 당한 것으로 전해졌습니다 . 아이가 잠든 사이 돌보던 아이의 할머니가 쓰레기를 버리러 나갔다가 문이 잠기는 바람에 열쇠공을 불렀던 것입니다 . 아이의 엄마는 “ 천중핑의 도움이 없었다면 아이는 죽었을 것 ” 이라며 딸을 구해준 천중핑에게 감사의 뜻을 전했습다 . 카일리시 정부 대표와 공안부 관계자들도 천중핑이 입원한 병원을 찾아 위로하고 회복될때까지 도움을 아끼지 않겠다고 밝혔습니다 . 천중핑의 선행 사실을 접한 중국 기업 알리바바도 ‘ 중국의 좋은 이웃상 ’ 과 함께 상금 1만 위안 ( 약 170만원 ) 을 수여하기로 했습니다 . [ 아직 살만한 세상 ] 은 점점 각박해지는 세상에 희망과 믿음을 주는 이들의 이야기입니다 . 힘들고 지칠 때 아직 살만한 세상을 만들어가는 ‘ 아살세 ’ 사람들의 목소리를 들어보세요 . 따뜻한 세상을 꿈꾸는 독자 여러분의 제보를 기다립니다 . 맹경환 기자 khmaeng @ kmib . co . kr [SEP]\n",
      "\n",
      "273 295\n",
      "Answer:  이틀 간의 코마 상태 이후 의식을 회복해 지난 2일부터 중환자실에서 치료를 받고 있습니다\n",
      "[CLS] 천중핑씨의 상태는 어때 ? [SEP] 중국의 한 여성 경찰이 아파트에서 추락하던 3세 아이를 살리고 자신은 혼수상태에 빠졌습니다 . 의인 ( 義 人 ) 의 소식이 알려지자 각박한 중국 사회에 큰 반향을 일으키고 있습니다 . 5일 귀주도시망 등 중국 현지 언론에 따르면 구이저우성 카일리시에 보조 교통 경찰로 일하는 천중핑 ( 49 ) 은 지난달 28일 한 아파트에서 비상 상황이 발생했다는 연락을 받고 현장으로 향했습니다 . 도착했을 때 아파트 4층 창문에서 여자 아이가 매달려 있었습니다 . 곧이어 아이는 손에 힘이 빠지면서 밑으로 추락했습니다 . 천중핑과 다른 세명의 이웃들이 달려갔습니다 . 그리고 아이는 바닥이 아니라 천중핑의 팔에 떨어졌습니다 . 중간 비막이 천막 때문에 속도가 줄기는 했지만 추락의 충격은 천중핑이 고스란히 감당해야 했습니다 . 아이는 즉시 병원으로 옮겨져 치료를 받았습니다 . 다리 골절로 그리 심각한 상황은 아니라고 합니다 . 하지만 생명의 은인이자 영웅은 커다란 댓가를 치러야 했다 . 뇌출혈로 인한 의식불명 상태에 빠진 것이다 . 다행히 이틀 간의 코마 상태 이후 의식을 회복해 지난 2일부터 중환자실에서 치료를 받고 있습니다 . 아이는 열쇠공이 문을 따는 소리에 겁을 먹고 창문 밖으로 도망을 치려다 사고를 당한 것으로 전해졌습니다 . 아이가 잠든 사이 돌보던 아이의 할머니가 쓰레기를 버리러 나갔다가 문이 잠기는 바람에 열쇠공을 불렀던 것입니다 . 아이의 엄마는 “ 천중핑의 도움이 없었다면 아이는 죽었을 것 ” 이라며 딸을 구해준 천중핑에게 감사의 뜻을 전했습다 . 카일리시 정부 대표와 공안부 관계자들도 천중핑이 입원한 병원을 찾아 위로하고 회복될때까지 도움을 아끼지 않겠다고 밝혔습니다 . 천중핑의 선행 사실을 접한 중국 기업 알리바바도 ‘ 중국의 좋은 이웃상 ’ 과 함께 상금 1만 위안 ( 약 170만원 ) 을 수여하기로 했습니다 . [ 아직 살만한 세상 ] 은 점점 각박해지는 세상에 희망과 믿음을 주는 이들의 이야기입니다 . 힘들고 지칠 때 아직 살 [SEP]\n",
      "\n",
      "145 167\n",
      "Answer:  이틀 간의 코마 상태 이후 의식을 회복해 지난 2일부터 중환자실에서 치료를 받고 있습니다\n",
      "[CLS] 천중핑씨의 상태는 어때 ? [SEP]니다 . 곧이어 아이는 손에 힘이 빠지면서 밑으로 추락했습니다 . 천중핑과 다른 세명의 이웃들이 달려갔습니다 . 그리고 아이는 바닥이 아니라 천중핑의 팔에 떨어졌습니다 . 중간 비막이 천막 때문에 속도가 줄기는 했지만 추락의 충격은 천중핑이 고스란히 감당해야 했습니다 . 아이는 즉시 병원으로 옮겨져 치료를 받았습니다 . 다리 골절로 그리 심각한 상황은 아니라고 합니다 . 하지만 생명의 은인이자 영웅은 커다란 댓가를 치러야 했다 . 뇌출혈로 인한 의식불명 상태에 빠진 것이다 . 다행히 이틀 간의 코마 상태 이후 의식을 회복해 지난 2일부터 중환자실에서 치료를 받고 있습니다 . 아이는 열쇠공이 문을 따는 소리에 겁을 먹고 창문 밖으로 도망을 치려다 사고를 당한 것으로 전해졌습니다 . 아이가 잠든 사이 돌보던 아이의 할머니가 쓰레기를 버리러 나갔다가 문이 잠기는 바람에 열쇠공을 불렀던 것입니다 . 아이의 엄마는 “ 천중핑의 도움이 없었다면 아이는 죽었을 것 ” 이라며 딸을 구해준 천중핑에게 감사의 뜻을 전했습다 . 카일리시 정부 대표와 공안부 관계자들도 천중핑이 입원한 병원을 찾아 위로하고 회복될때까지 도움을 아끼지 않겠다고 밝혔습니다 . 천중핑의 선행 사실을 접한 중국 기업 알리바바도 ‘ 중국의 좋은 이웃상 ’ 과 함께 상금 1만 위안 ( 약 170만원 ) 을 수여하기로 했습니다 . [ 아직 살만한 세상 ] 은 점점 각박해지는 세상에 희망과 믿음을 주는 이들의 이야기입니다 . 힘들고 지칠 때 아직 살만한 세상을 만들어가는 ‘ 아살세 ’ 사람들의 목소리를 들어보세요 . 따뜻한 세상을 꿈꾸는 독자 여러분의 제보를 기다립니다 . 맹경환 기자 khmaeng @ kmib . co . kr [SEP]\n",
      "\n",
      "304 324\n",
      "Answer:  열쇠공이 문을 따는 소리에 겁을 먹고 창문 밖으로 도망을 치려다\n",
      "[CLS] 3세 아이는 왜 4층 창문에 매달려 있었어 ? [SEP] 중국의 한 여성 경찰이 아파트에서 추락하던 3세 아이를 살리고 자신은 혼수상태에 빠졌습니다 . 의인 ( 義 人 ) 의 소식이 알려지자 각박한 중국 사회에 큰 반향을 일으키고 있습니다 . 5일 귀주도시망 등 중국 현지 언론에 따르면 구이저우성 카일리시에 보조 교통 경찰로 일하는 천중핑 ( 49 ) 은 지난달 28일 한 아파트에서 비상 상황이 발생했다는 연락을 받고 현장으로 향했습니다 . 도착했을 때 아파트 4층 창문에서 여자 아이가 매달려 있었습니다 . 곧이어 아이는 손에 힘이 빠지면서 밑으로 추락했습니다 . 천중핑과 다른 세명의 이웃들이 달려갔습니다 . 그리고 아이는 바닥이 아니라 천중핑의 팔에 떨어졌습니다 . 중간 비막이 천막 때문에 속도가 줄기는 했지만 추락의 충격은 천중핑이 고스란히 감당해야 했습니다 . 아이는 즉시 병원으로 옮겨져 치료를 받았습니다 . 다리 골절로 그리 심각한 상황은 아니라고 합니다 . 하지만 생명의 은인이자 영웅은 커다란 댓가를 치러야 했다 . 뇌출혈로 인한 의식불명 상태에 빠진 것이다 . 다행히 이틀 간의 코마 상태 이후 의식을 회복해 지난 2일부터 중환자실에서 치료를 받고 있습니다 . 아이는 열쇠공이 문을 따는 소리에 겁을 먹고 창문 밖으로 도망을 치려다 사고를 당한 것으로 전해졌습니다 . 아이가 잠든 사이 돌보던 아이의 할머니가 쓰레기를 버리러 나갔다가 문이 잠기는 바람에 열쇠공을 불렀던 것입니다 . 아이의 엄마는 “ 천중핑의 도움이 없었다면 아이는 죽었을 것 ” 이라며 딸을 구해준 천중핑에게 감사의 뜻을 전했습다 . 카일리시 정부 대표와 공안부 관계자들도 천중핑이 입원한 병원을 찾아 위로하고 회복될때까지 도움을 아끼지 않겠다고 밝혔습니다 . 천중핑의 선행 사실을 접한 중국 기업 알리바바도 ‘ 중국의 좋은 이웃상 ’ 과 함께 상금 1만 위안 ( 약 170만원 ) 을 수여하기로 했습니다 . [ 아직 살만한 세상 ] 은 점점 각박해지는 세상에 희망과 믿음을 주는 이들의 이야기입니다 . 힘들 [SEP]\n",
      "\n",
      "===============================================================\n",
      "---------------------------------------------------------------\n",
      "[Batch] 2\n",
      "---------------------------------------------------------------\n",
      "176 196\n",
      "Answer:  열쇠공이 문을 따는 소리에 겁을 먹고 창문 밖으로 도망을 치려다\n",
      "[CLS] 3세 아이는 왜 4층 창문에 매달려 있었어 ? [SEP]니다 . 곧이어 아이는 손에 힘이 빠지면서 밑으로 추락했습니다 . 천중핑과 다른 세명의 이웃들이 달려갔습니다 . 그리고 아이는 바닥이 아니라 천중핑의 팔에 떨어졌습니다 . 중간 비막이 천막 때문에 속도가 줄기는 했지만 추락의 충격은 천중핑이 고스란히 감당해야 했습니다 . 아이는 즉시 병원으로 옮겨져 치료를 받았습니다 . 다리 골절로 그리 심각한 상황은 아니라고 합니다 . 하지만 생명의 은인이자 영웅은 커다란 댓가를 치러야 했다 . 뇌출혈로 인한 의식불명 상태에 빠진 것이다 . 다행히 이틀 간의 코마 상태 이후 의식을 회복해 지난 2일부터 중환자실에서 치료를 받고 있습니다 . 아이는 열쇠공이 문을 따는 소리에 겁을 먹고 창문 밖으로 도망을 치려다 사고를 당한 것으로 전해졌습니다 . 아이가 잠든 사이 돌보던 아이의 할머니가 쓰레기를 버리러 나갔다가 문이 잠기는 바람에 열쇠공을 불렀던 것입니다 . 아이의 엄마는 “ 천중핑의 도움이 없었다면 아이는 죽었을 것 ” 이라며 딸을 구해준 천중핑에게 감사의 뜻을 전했습다 . 카일리시 정부 대표와 공안부 관계자들도 천중핑이 입원한 병원을 찾아 위로하고 회복될때까지 도움을 아끼지 않겠다고 밝혔습니다 . 천중핑의 선행 사실을 접한 중국 기업 알리바바도 ‘ 중국의 좋은 이웃상 ’ 과 함께 상금 1만 위안 ( 약 170만원 ) 을 수여하기로 했습니다 . [ 아직 살만한 세상 ] 은 점점 각박해지는 세상에 희망과 믿음을 주는 이들의 이야기입니다 . 힘들고 지칠 때 아직 살만한 세상을 만들어가는 ‘ 아살세 ’ 사람들의 목소리를 들어보세요 . 따뜻한 세상을 꿈꾸는 독자 여러분의 제보를 기다립니다 . 맹경환 기자 khmaeng @ kmib . co . kr [SEP]\n",
      "\n",
      "333 360\n",
      "Answer:  아이가 잠든 사이 돌보던 아이의 할머니가 쓰레기를 버리러 나갔다가 문이 잠기는 바람에 열쇠공을 불렀던 것\n",
      "[CLS] 열쇠공은 왜 잠긴 문을 따려고 한거야 ? [SEP] 중국의 한 여성 경찰이 아파트에서 추락하던 3세 아이를 살리고 자신은 혼수상태에 빠졌습니다 . 의인 ( 義 人 ) 의 소식이 알려지자 각박한 중국 사회에 큰 반향을 일으키고 있습니다 . 5일 귀주도시망 등 중국 현지 언론에 따르면 구이저우성 카일리시에 보조 교통 경찰로 일하는 천중핑 ( 49 ) 은 지난달 28일 한 아파트에서 비상 상황이 발생했다는 연락을 받고 현장으로 향했습니다 . 도착했을 때 아파트 4층 창문에서 여자 아이가 매달려 있었습니다 . 곧이어 아이는 손에 힘이 빠지면서 밑으로 추락했습니다 . 천중핑과 다른 세명의 이웃들이 달려갔습니다 . 그리고 아이는 바닥이 아니라 천중핑의 팔에 떨어졌습니다 . 중간 비막이 천막 때문에 속도가 줄기는 했지만 추락의 충격은 천중핑이 고스란히 감당해야 했습니다 . 아이는 즉시 병원으로 옮겨져 치료를 받았습니다 . 다리 골절로 그리 심각한 상황은 아니라고 합니다 . 하지만 생명의 은인이자 영웅은 커다란 댓가를 치러야 했다 . 뇌출혈로 인한 의식불명 상태에 빠진 것이다 . 다행히 이틀 간의 코마 상태 이후 의식을 회복해 지난 2일부터 중환자실에서 치료를 받고 있습니다 . 아이는 열쇠공이 문을 따는 소리에 겁을 먹고 창문 밖으로 도망을 치려다 사고를 당한 것으로 전해졌습니다 . 아이가 잠든 사이 돌보던 아이의 할머니가 쓰레기를 버리러 나갔다가 문이 잠기는 바람에 열쇠공을 불렀던 것입니다 . 아이의 엄마는 “ 천중핑의 도움이 없었다면 아이는 죽었을 것 ” 이라며 딸을 구해준 천중핑에게 감사의 뜻을 전했습다 . 카일리시 정부 대표와 공안부 관계자들도 천중핑이 입원한 병원을 찾아 위로하고 회복될때까지 도움을 아끼지 않겠다고 밝혔습니다 . 천중핑의 선행 사실을 접한 중국 기업 알리바바도 ‘ 중국의 좋은 이웃상 ’ 과 함께 상금 1만 위안 ( 약 170만원 ) 을 수여하기로 했습니다 . [ 아직 살만한 세상 ] 은 점점 각박해지는 세상에 희망과 믿음을 주는 이들의 이야기입니다 . 힘들고 [SEP]\n",
      "\n",
      "205 232\n",
      "Answer:  아이가 잠든 사이 돌보던 아이의 할머니가 쓰레기를 버리러 나갔다가 문이 잠기는 바람에 열쇠공을 불렀던 것\n",
      "[CLS] 열쇠공은 왜 잠긴 문을 따려고 한거야 ? [SEP]니다 . 곧이어 아이는 손에 힘이 빠지면서 밑으로 추락했습니다 . 천중핑과 다른 세명의 이웃들이 달려갔습니다 . 그리고 아이는 바닥이 아니라 천중핑의 팔에 떨어졌습니다 . 중간 비막이 천막 때문에 속도가 줄기는 했지만 추락의 충격은 천중핑이 고스란히 감당해야 했습니다 . 아이는 즉시 병원으로 옮겨져 치료를 받았습니다 . 다리 골절로 그리 심각한 상황은 아니라고 합니다 . 하지만 생명의 은인이자 영웅은 커다란 댓가를 치러야 했다 . 뇌출혈로 인한 의식불명 상태에 빠진 것이다 . 다행히 이틀 간의 코마 상태 이후 의식을 회복해 지난 2일부터 중환자실에서 치료를 받고 있습니다 . 아이는 열쇠공이 문을 따는 소리에 겁을 먹고 창문 밖으로 도망을 치려다 사고를 당한 것으로 전해졌습니다 . 아이가 잠든 사이 돌보던 아이의 할머니가 쓰레기를 버리러 나갔다가 문이 잠기는 바람에 열쇠공을 불렀던 것입니다 . 아이의 엄마는 “ 천중핑의 도움이 없었다면 아이는 죽었을 것 ” 이라며 딸을 구해준 천중핑에게 감사의 뜻을 전했습다 . 카일리시 정부 대표와 공안부 관계자들도 천중핑이 입원한 병원을 찾아 위로하고 회복될때까지 도움을 아끼지 않겠다고 밝혔습니다 . 천중핑의 선행 사실을 접한 중국 기업 알리바바도 ‘ 중국의 좋은 이웃상 ’ 과 함께 상금 1만 위안 ( 약 170만원 ) 을 수여하기로 했습니다 . [ 아직 살만한 세상 ] 은 점점 각박해지는 세상에 희망과 믿음을 주는 이들의 이야기입니다 . 힘들고 지칠 때 아직 살만한 세상을 만들어가는 ‘ 아살세 ’ 사람들의 목소리를 들어보세요 . 따뜻한 세상을 꿈꾸는 독자 여러분의 제보를 기다립니다 . 맹경환 기자 khmaeng @ kmib . co . kr [SEP]\n",
      "\n",
      "43 43\n",
      "Answer:  조달청\n",
      "[CLS] 부정당업자를 제재하는 ' 부정당제재 ' 를 행하는 정부 기관은 ? [SEP] [ [ the300 ] 기업들 행정가처분 소송도 증가 , 조달청 패소율 86 % ] 조달청이 부정당업자를 제재하는 ' 부정당제재 ' 건수가 최근 4년 새 2배 가까이 증가한 것으로 확인됐다 . 28일 국회 기획재정위원회 소속 엄용수 | 자유한국당 | 의원실이 조달청에서 입수한 자료에 따르면 부정당제재 건수는 2012년 233건이던에서 지난해 442건으로 증가했다 . 올해엔 7월까지 324건으로 나타났다 . 조달청은 불공정 조달행위가 생길 경우 계약심사협의회에서 내부 심의를 거쳐 부정당업체로 등록을 하고 제재를 실시하고 있다 . 조달청의 행정 처분에 대한 피제재기업의 행정가처분 소송 건수 증가세는 더 가파랐다 . 2012년 20건에 불과했던 가처분 소송은 지난해 116건으로 4년만에 5 . 8배 급증했다 . 올해는 7월까지 총 59건 접수됐다 . 소송 결과 인용률 ( 조달청 패소율 ) 은 평균 86 % 에 달한다 . 부정당제제 행정처분의 원인이 되는 본안 소송도 해마다 늘고 있다 . 지난해 본안 소송 건수는 107건에 달했다 . 인용률은 28 % 까지 치솟았다 . 본안 소송에서 조달청이 패소했다는 건 소송 제재 자체에 문제가 있었다는 의미다 . 엄 의원은 \" 조달청이 정확한 행정 집행을 통해 업무를 마무리하는 것이 아니라 기업의 소송액 등 부담을 가중시키는 소송을 유발하고 있다 \" 며 \" 관련 제도 정비 등 조달행정 선진화를 통해 기업 부담을 가중시키는 소송이 남발하지 않도록 특단의 조치가 필요하다 \" 고 강조했다 . 조달청 관계자는 \" 지방계약법이 개정되면서 지방자치단체의 부정당업자 제재권한이 조달청으로 이관된 것이 조달청 제재건수가 증가한 가장 큰 이유 \" 라고 해명했다 . 김평화 기자 peace @ mt . co . kr [SEP]\n",
      "\n",
      "105 106\n",
      "Answer:  2012년\n",
      "[CLS] 부정당제재 건수가 233건이던 해는 언제인가 ? [SEP] [ [ the300 ] 기업들 행정가처분 소송도 증가 , 조달청 패소율 86 % ] 조달청이 부정당업자를 제재하는 ' 부정당제재 ' 건수가 최근 4년 새 2배 가까이 증가한 것으로 확인됐다 . 28일 국회 기획재정위원회 소속 엄용수 | 자유한국당 | 의원실이 조달청에서 입수한 자료에 따르면 부정당제재 건수는 2012년 233건이던에서 지난해 442건으로 증가했다 . 올해엔 7월까지 324건으로 나타났다 . 조달청은 불공정 조달행위가 생길 경우 계약심사협의회에서 내부 심의를 거쳐 부정당업체로 등록을 하고 제재를 실시하고 있다 . 조달청의 행정 처분에 대한 피제재기업의 행정가처분 소송 건수 증가세는 더 가파랐다 . 2012년 20건에 불과했던 가처분 소송은 지난해 116건으로 4년만에 5 . 8배 급증했다 . 올해는 7월까지 총 59건 접수됐다 . 소송 결과 인용률 ( 조달청 패소율 ) 은 평균 86 % 에 달한다 . 부정당제제 행정처분의 원인이 되는 본안 소송도 해마다 늘고 있다 . 지난해 본안 소송 건수는 107건에 달했다 . 인용률은 28 % 까지 치솟았다 . 본안 소송에서 조달청이 패소했다는 건 소송 제재 자체에 문제가 있었다는 의미다 . 엄 의원은 \" 조달청이 정확한 행정 집행을 통해 업무를 마무리하는 것이 아니라 기업의 소송액 등 부담을 가중시키는 소송을 유발하고 있다 \" 며 \" 관련 제도 정비 등 조달행정 선진화를 통해 기업 부담을 가중시키는 소송이 남발하지 않도록 특단의 조치가 필요하다 \" 고 강조했다 . 조달청 관계자는 \" 지방계약법이 개정되면서 지방자치단체의 부정당업자 제재권한이 조달청으로 이관된 것이 조달청 제재건수가 증가한 가장 큰 이유 \" 라고 해명했다 . 김평화 기자 peace @ mt . co . kr [SEP]\n",
      "\n",
      "308 317\n",
      "Answer:  소송 제재 자체에 문제가 있었다는 의미\n",
      "[CLS] 본안 소송에서 조달청이 패소했다는 건 무엇을 의미하는가 ? [SEP] [ [ the300 ] 기업들 행정가처분 소송도 증가 , 조달청 패소율 86 % ] 조달청이 부정당업자를 제재하는 ' 부정당제재 ' 건수가 최근 4년 새 2배 가까이 증가한 것으로 확인됐다 . 28일 국회 기획재정위원회 소속 엄용수 | 자유한국당 | 의원실이 조달청에서 입수한 자료에 따르면 부정당제재 건수는 2012년 233건이던에서 지난해 442건으로 증가했다 . 올해엔 7월까지 324건으로 나타났다 . 조달청은 불공정 조달행위가 생길 경우 계약심사협의회에서 내부 심의를 거쳐 부정당업체로 등록을 하고 제재를 실시하고 있다 . 조달청의 행정 처분에 대한 피제재기업의 행정가처분 소송 건수 증가세는 더 가파랐다 . 2012년 20건에 불과했던 가처분 소송은 지난해 116건으로 4년만에 5 . 8배 급증했다 . 올해는 7월까지 총 59건 접수됐다 . 소송 결과 인용률 ( 조달청 패소율 ) 은 평균 86 % 에 달한다 . 부정당제제 행정처분의 원인이 되는 본안 소송도 해마다 늘고 있다 . 지난해 본안 소송 건수는 107건에 달했다 . 인용률은 28 % 까지 치솟았다 . 본안 소송에서 조달청이 패소했다는 건 소송 제재 자체에 문제가 있었다는 의미다 . 엄 의원은 \" 조달청이 정확한 행정 집행을 통해 업무를 마무리하는 것이 아니라 기업의 소송액 등 부담을 가중시키는 소송을 유발하고 있다 \" 며 \" 관련 제도 정비 등 조달행정 선진화를 통해 기업 부담을 가중시키는 소송이 남발하지 않도록 특단의 조치가 필요하다 \" 고 강조했다 . 조달청 관계자는 \" 지방계약법이 개정되면서 지방자치단체의 부정당업자 제재권한이 조달청으로 이관된 것이 조달청 제재건수가 증가한 가장 큰 이유 \" 라고 해명했다 . 김평화 기자 peace @ mt . co . kr [SEP]\n",
      "\n",
      "141 162\n",
      "Answer:  계약심사협의회에서 내부 심의를 거쳐 부정당업체로 등록을 하고 제재를 실시\n",
      "[CLS] 조달청은 불공정 조달행위가 생길 경우 어떻게 하고 있는가 ? [SEP] [ [ the300 ] 기업들 행정가처분 소송도 증가 , 조달청 패소율 86 % ] 조달청이 부정당업자를 제재하는 ' 부정당제재 ' 건수가 최근 4년 새 2배 가까이 증가한 것으로 확인됐다 . 28일 국회 기획재정위원회 소속 엄용수 | 자유한국당 | 의원실이 조달청에서 입수한 자료에 따르면 부정당제재 건수는 2012년 233건이던에서 지난해 442건으로 증가했다 . 올해엔 7월까지 324건으로 나타났다 . 조달청은 불공정 조달행위가 생길 경우 계약심사협의회에서 내부 심의를 거쳐 부정당업체로 등록을 하고 제재를 실시하고 있다 . 조달청의 행정 처분에 대한 피제재기업의 행정가처분 소송 건수 증가세는 더 가파랐다 . 2012년 20건에 불과했던 가처분 소송은 지난해 116건으로 4년만에 5 . 8배 급증했다 . 올해는 7월까지 총 59건 접수됐다 . 소송 결과 인용률 ( 조달청 패소율 ) 은 평균 86 % 에 달한다 . 부정당제제 행정처분의 원인이 되는 본안 소송도 해마다 늘고 있다 . 지난해 본안 소송 건수는 107건에 달했다 . 인용률은 28 % 까지 치솟았다 . 본안 소송에서 조달청이 패소했다는 건 소송 제재 자체에 문제가 있었다는 의미다 . 엄 의원은 \" 조달청이 정확한 행정 집행을 통해 업무를 마무리하는 것이 아니라 기업의 소송액 등 부담을 가중시키는 소송을 유발하고 있다 \" 며 \" 관련 제도 정비 등 조달행정 선진화를 통해 기업 부담을 가중시키는 소송이 남발하지 않도록 특단의 조치가 필요하다 \" 고 강조했다 . 조달청 관계자는 \" 지방계약법이 개정되면서 지방자치단체의 부정당업자 제재권한이 조달청으로 이관된 것이 조달청 제재건수가 증가한 가장 큰 이유 \" 라고 해명했다 . 김평화 기자 peace @ mt . co . kr [SEP]\n",
      "\n",
      "401 423\n",
      "Answer:  지방계약법이 개정되면서 지방자치단체의 부정당업자 제재권한이 조달청으로 이관된 것\n",
      "[CLS] 조달청 관계자가 밝힌 조달청 제재건수가 증가한 가장 큰 이유는 ? [SEP] [ [ the300 ] 기업들 행정가처분 소송도 증가 , 조달청 패소율 86 % ] 조달청이 부정당업자를 제재하는 ' 부정당제재 ' 건수가 최근 4년 새 2배 가까이 증가한 것으로 확인됐다 . 28일 국회 기획재정위원회 소속 엄용수 | 자유한국당 | 의원실이 조달청에서 입수한 자료에 따르면 부정당제재 건수는 2012년 233건이던에서 지난해 442건으로 증가했다 . 올해엔 7월까지 324건으로 나타났다 . 조달청은 불공정 조달행위가 생길 경우 계약심사협의회에서 내부 심의를 거쳐 부정당업체로 등록을 하고 제재를 실시하고 있다 . 조달청의 행정 처분에 대한 피제재기업의 행정가처분 소송 건수 증가세는 더 가파랐다 . 2012년 20건에 불과했던 가처분 소송은 지난해 116건으로 4년만에 5 . 8배 급증했다 . 올해는 7월까지 총 59건 접수됐다 . 소송 결과 인용률 ( 조달청 패소율 ) 은 평균 86 % 에 달한다 . 부정당제제 행정처분의 원인이 되는 본안 소송도 해마다 늘고 있다 . 지난해 본안 소송 건수는 107건에 달했다 . 인용률은 28 % 까지 치솟았다 . 본안 소송에서 조달청이 패소했다는 건 소송 제재 자체에 문제가 있었다는 의미다 . 엄 의원은 \" 조달청이 정확한 행정 집행을 통해 업무를 마무리하는 것이 아니라 기업의 소송액 등 부담을 가중시키는 소송을 유발하고 있다 \" 며 \" 관련 제도 정비 등 조달행정 선진화를 통해 기업 부담을 가중시키는 소송이 남발하지 않도록 특단의 조치가 필요하다 \" 고 강조했다 . 조달청 관계자는 \" 지방계약법이 개정되면서 지방자치단체의 부정당업자 제재권한이 조달청으로 이관된 것이 조달청 제재건수가 증가한 가장 큰 이유 \" 라고 해명했다 . 김평화 기자 peace @ mt . co . kr [SEP]\n",
      "\n",
      "===============================================================\n",
      "---------------------------------------------------------------\n",
      "[Batch] 3\n",
      "---------------------------------------------------------------\n",
      "16 16\n",
      "Answer:  NASA\n",
      "[CLS] 화성 탐사 로버인 오퍼튜니티는 누가 만든거야 ? [SEP] ◈ NASA의 화성 탐사 로버인 오퍼튜니티 ( Opportunity ) 가 화성 표면에서 운석으로 보이는 특이한 암석을 발견했다 . 탐사 로버는 약 2주 전 , 지난 2004년 1월에 화성으로 하강할 때 사용된 열 차폐 방패 ( heat shield ) 에 접근하면서 이 암석을 처음 발견했다 . 약 감자 하나만한 크기의 이 암석은 표면이 울퉁불퉁한 홈이 파여 있기 때문에 지상 관제소 사람들의 관심을 받았다 . 오퍼튜니티의 적외선 분광계인 Mini - TES의 분석에 따르면 , 이 암석에서는 화성 암석에서 나오는 전형적인 열 적외선이 나오지 않았기 때문에 , 과학자들은 이것이 금속 성분이 많이 포함된 운석인 것으로 생각하고 있다 . 오퍼튜니티호는 주말 동안 이 암석 근처에 머물면서 이것이 운석인지를 확실하게 알아낼 것이다 . [SEP]\n",
      "\n",
      "55 58\n",
      "Answer:  2004년 1월\n",
      "[CLS] 오퍼튜니티는 언제 화성으로 하강했어 ? [SEP] ◈ NASA의 화성 탐사 로버인 오퍼튜니티 ( Opportunity ) 가 화성 표면에서 운석으로 보이는 특이한 암석을 발견했다 . 탐사 로버는 약 2주 전 , 지난 2004년 1월에 화성으로 하강할 때 사용된 열 차폐 방패 ( heat shield ) 에 접근하면서 이 암석을 처음 발견했다 . 약 감자 하나만한 크기의 이 암석은 표면이 울퉁불퉁한 홈이 파여 있기 때문에 지상 관제소 사람들의 관심을 받았다 . 오퍼튜니티의 적외선 분광계인 Mini - TES의 분석에 따르면 , 이 암석에서는 화성 암석에서 나오는 전형적인 열 적외선이 나오지 않았기 때문에 , 과학자들은 이것이 금속 성분이 많이 포함된 운석인 것으로 생각하고 있다 . 오퍼튜니티호는 주말 동안 이 암석 근처에 머물면서 이것이 운석인지를 확실하게 알아낼 것이다 . [SEP]\n",
      "\n",
      "18 18\n",
      "Answer:  화성\n",
      "[CLS] 탐사 로버 오퍼튜니티는 어디서 탐사중이야 ? [SEP] ◈ NASA의 화성 탐사 로버인 오퍼튜니티 ( Opportunity ) 가 화성 표면에서 운석으로 보이는 특이한 암석을 발견했다 . 탐사 로버는 약 2주 전 , 지난 2004년 1월에 화성으로 하강할 때 사용된 열 차폐 방패 ( heat shield ) 에 접근하면서 이 암석을 처음 발견했다 . 약 감자 하나만한 크기의 이 암석은 표면이 울퉁불퉁한 홈이 파여 있기 때문에 지상 관제소 사람들의 관심을 받았다 . 오퍼튜니티의 적외선 분광계인 Mini - TES의 분석에 따르면 , 이 암석에서는 화성 암석에서 나오는 전형적인 열 적외선이 나오지 않았기 때문에 , 과학자들은 이것이 금속 성분이 많이 포함된 운석인 것으로 생각하고 있다 . 오퍼튜니티호는 주말 동안 이 암석 근처에 머물면서 이것이 운석인지를 확실하게 알아낼 것이다 . [SEP]\n",
      "\n",
      "37 43\n",
      "Answer:  운석으로 보이는 특이한 암석\n",
      "[CLS] 오퍼튜니티가 화성 표면에서 발견한건 뭐야 ? [SEP] ◈ NASA의 화성 탐사 로버인 오퍼튜니티 ( Opportunity ) 가 화성 표면에서 운석으로 보이는 특이한 암석을 발견했다 . 탐사 로버는 약 2주 전 , 지난 2004년 1월에 화성으로 하강할 때 사용된 열 차폐 방패 ( heat shield ) 에 접근하면서 이 암석을 처음 발견했다 . 약 감자 하나만한 크기의 이 암석은 표면이 울퉁불퉁한 홈이 파여 있기 때문에 지상 관제소 사람들의 관심을 받았다 . 오퍼튜니티의 적외선 분광계인 Mini - TES의 분석에 따르면 , 이 암석에서는 화성 암석에서 나오는 전형적인 열 적외선이 나오지 않았기 때문에 , 과학자들은 이것이 금속 성분이 많이 포함된 운석인 것으로 생각하고 있다 . 오퍼튜니티호는 주말 동안 이 암석 근처에 머물면서 이것이 운석인지를 확실하게 알아낼 것이다 . [SEP]\n",
      "\n",
      "64 84\n",
      "Answer:  화성으로 하강할 때 사용된 열 차폐 방패 ( heat shield ) 에 접근하면서\n",
      "[CLS] 탐사 로버는 어떻게 화성 표면에서 암석을 처음 발견했어 ? [SEP] ◈ NASA의 화성 탐사 로버인 오퍼튜니티 ( Opportunity ) 가 화성 표면에서 운석으로 보이는 특이한 암석을 발견했다 . 탐사 로버는 약 2주 전 , 지난 2004년 1월에 화성으로 하강할 때 사용된 열 차폐 방패 ( heat shield ) 에 접근하면서 이 암석을 처음 발견했다 . 약 감자 하나만한 크기의 이 암석은 표면이 울퉁불퉁한 홈이 파여 있기 때문에 지상 관제소 사람들의 관심을 받았다 . 오퍼튜니티의 적외선 분광계인 Mini - TES의 분석에 따르면 , 이 암석에서는 화성 암석에서 나오는 전형적인 열 적외선이 나오지 않았기 때문에 , 과학자들은 이것이 금속 성분이 많이 포함된 운석인 것으로 생각하고 있다 . 오퍼튜니티호는 주말 동안 이 암석 근처에 머물면서 이것이 운석인지를 확실하게 알아낼 것이다 . [SEP]\n",
      "\n",
      "137 179\n",
      "Answer:  오퍼튜니티의 적외선 분광계인 Mini - TES의 분석에 따르면 , 이 암석에서는 화성 암석에서 나오는 전형적인 열 적외선이 나오지 않았기 때문에\n",
      "[CLS] 과학자들이 오퍼튜니티가 발견한 암석이 금속 성분이 많이 포함된 운석인 것으로 생각하는 이유는 ? [SEP] ◈ NASA의 화성 탐사 로버인 오퍼튜니티 ( Opportunity ) 가 화성 표면에서 운석으로 보이는 특이한 암석을 발견했다 . 탐사 로버는 약 2주 전 , 지난 2004년 1월에 화성으로 하강할 때 사용된 열 차폐 방패 ( heat shield ) 에 접근하면서 이 암석을 처음 발견했다 . 약 감자 하나만한 크기의 이 암석은 표면이 울퉁불퉁한 홈이 파여 있기 때문에 지상 관제소 사람들의 관심을 받았다 . 오퍼튜니티의 적외선 분광계인 Mini - TES의 분석에 따르면 , 이 암석에서는 화성 암석에서 나오는 전형적인 열 적외선이 나오지 않았기 때문에 , 과학자들은 이것이 금속 성분이 많이 포함된 운석인 것으로 생각하고 있다 . 오퍼튜니티호는 주말 동안 이 암석 근처에 머물면서 이것이 운석인지를 확실하게 알아낼 것이다 . [SEP]\n",
      "\n",
      "196 213\n",
      "Answer:  이 암석 근처에 머물면서 이것이 운석인지를 확실하게 알아낼 것\n",
      "[CLS] 오퍼튜니티호는 주말동안 무엇을 할거야 ? [SEP] ◈ NASA의 화성 탐사 로버인 오퍼튜니티 ( Opportunity ) 가 화성 표면에서 운석으로 보이는 특이한 암석을 발견했다 . 탐사 로버는 약 2주 전 , 지난 2004년 1월에 화성으로 하강할 때 사용된 열 차폐 방패 ( heat shield ) 에 접근하면서 이 암석을 처음 발견했다 . 약 감자 하나만한 크기의 이 암석은 표면이 울퉁불퉁한 홈이 파여 있기 때문에 지상 관제소 사람들의 관심을 받았다 . 오퍼튜니티의 적외선 분광계인 Mini - TES의 분석에 따르면 , 이 암석에서는 화성 암석에서 나오는 전형적인 열 적외선이 나오지 않았기 때문에 , 과학자들은 이것이 금속 성분이 많이 포함된 운석인 것으로 생각하고 있다 . 오퍼튜니티호는 주말 동안 이 암석 근처에 머물면서 이것이 운석인지를 확실하게 알아낼 것이다 . [SEP]\n",
      "\n",
      "108 119\n",
      "Answer:  표면이 울퉁불퉁한 홈이 파여 있기 때문에\n",
      "[CLS] 오퍼튜니티가 발견한 암석이 지상 관제소 사람들의 관심을 받은 이유는 ? [SEP] ◈ NASA의 화성 탐사 로버인 오퍼튜니티 ( Opportunity ) 가 화성 표면에서 운석으로 보이는 특이한 암석을 발견했다 . 탐사 로버는 약 2주 전 , 지난 2004년 1월에 화성으로 하강할 때 사용된 열 차폐 방패 ( heat shield ) 에 접근하면서 이 암석을 처음 발견했다 . 약 감자 하나만한 크기의 이 암석은 표면이 울퉁불퉁한 홈이 파여 있기 때문에 지상 관제소 사람들의 관심을 받았다 . 오퍼튜니티의 적외선 분광계인 Mini - TES의 분석에 따르면 , 이 암석에서는 화성 암석에서 나오는 전형적인 열 적외선이 나오지 않았기 때문에 , 과학자들은 이것이 금속 성분이 많이 포함된 운석인 것으로 생각하고 있다 . 오퍼튜니티호는 주말 동안 이 암석 근처에 머물면서 이것이 운석인지를 확실하게 알아낼 것이다 . [SEP]\n",
      "\n",
      "===============================================================\n"
     ]
    }
   ],
   "source": [
    "dataloader = DataLoader(train_dataset, batch_size=args.train_batch_size, shuffle=False)\n",
    "\n",
    "for step, batch in enumerate(dataloader):\n",
    "    batch = tuple(t.to(device) for t in batch)\n",
    "\n",
    "    inputs = {\n",
    "        \"input_ids\": batch[0],\n",
    "        \"attention_mask\": batch[1],\n",
    "        \"token_type_ids\": batch[2],\n",
    "        \"start_positions\": batch[3],\n",
    "        \"end_positions\": batch[4],\n",
    "    }\n",
    "    print(\"---------------------\"*3)\n",
    "    print(f\"[Batch] {step}\")\n",
    "    print(\"---------------------\"*3)\n",
    "    for i in range(len(batch)):\n",
    "        show_original(i, inputs)\n",
    "        print()\n",
    "    print(\"=====================\"*3)"
   ]
  },
  {
   "cell_type": "code",
   "execution_count": 1,
   "metadata": {},
   "outputs": [],
   "source": [
    "from pathlib import Path\n",
    "import torch\n",
    "from torch.utils.data import DataLoader\n",
    "import pytorch_lightning as pl\n",
    "import torchmetrics\n",
    "\n",
    "from transformers import (\n",
    "    ElectraForQuestionAnswering, \n",
    "    ElectraConfig, \n",
    "    ElectraTokenizer,\n",
    "    AdamW,\n",
    "    squad_convert_examples_to_features,\n",
    "    get_linear_schedule_with_warmup\n",
    ")\n",
    "\n",
    "from transformers.data.processors.squad import SquadResult, SquadV2Processor\n",
    "from transformers.data.metrics.squad_metrics import (\n",
    "    compute_predictions_logits,\n",
    "    squad_evaluate\n",
    ")\n",
    "# from sklearn.metrics import accuracy_score, precision_score, recall_score, f1_score"
   ]
  },
  {
   "cell_type": "code",
   "execution_count": 2,
   "metadata": {},
   "outputs": [],
   "source": [
    "train_file = \"ko_nia_normal_squad_all.json\"\n",
    "val_file = \"ko_nia_clue0529_squad_all.json\"\n",
    "\n",
    "repo_path = Path().absolute().parent\n",
    "data_path = repo_path.parent / \"data\" / \"AIhub\" / \"QA\"\n",
    "ckpt_path = repo_path.parent / \"ckpt\"\n",
    "if not ckpt_path.exists():\n",
    "    ckpt_path.mkdir()\n",
    "else:\n",
    "    for x in ckpt_path.glob(\"*\"):\n",
    "        x.unlink()\n",
    "    ckpt_path.rmdir()\n",
    "    ckpt_path.mkdir()"
   ]
  },
  {
   "cell_type": "code",
   "execution_count": 3,
   "metadata": {},
   "outputs": [],
   "source": [
    "train_file = \"test.json\"\n",
    "val_file = \"test.json\"\n",
    "args_dict = {\n",
    "  \"task\": \"AIHub_QA\",\n",
    "  \"data_path\": data_path,\n",
    "  \"ckpt_path\": ckpt_path,\n",
    "  \"train_file\": train_file,\n",
    "  \"val_file\": val_file,\n",
    "  \"cache_file\": \"{}_cache\",\n",
    "  \"random_seed\": 77,\n",
    "  \"threads\": 4,\n",
    "  \"version_2_with_negative\": False,\n",
    "  \"null_score_diff_threshold\": 0.0,\n",
    "  \"max_seq_length\": 512,\n",
    "  \"doc_stride\": 128,\n",
    "  \"max_query_length\": 64,\n",
    "  \"max_answer_length\": 30,\n",
    "  \"n_best_size\": 20,\n",
    "  \"verbose_logging\": True,\n",
    "  \"do_lower_case\": False,\n",
    "  \"num_train_epochs\": 7,\n",
    "  \"weight_decay\": 0.0,\n",
    "  \"adam_epsilon\": 1e-8,\n",
    "  \"warmup_proportion\": 0,\n",
    "  \"model_type\": \"koelectra-base-v3\",\n",
    "  \"model_name_or_path\": \"monologg/koelectra-base-v3-discriminator\",\n",
    "  \"output_dir\": \"koelectra-base-v3-korquad-ckpt\",\n",
    "  \"seed\": 42,\n",
    "  \"train_batch_size\": 8,\n",
    "  \"eval_batch_size\": 8,\n",
    "#   \"logging_steps\": 1000,\n",
    "#   \"save_steps\": 1000,\n",
    "  \"learning_rate\": 5e-5,\n",
    "  \"output_prediction_file\": \"predictions_{}.json\",\n",
    "  \"output_nbest_file\": \"nbest_predictions_{}.json\",\n",
    "  \"output_null_log_odds_file\": \"null_odds_{}.json\",\n",
    "}"
   ]
  },
  {
   "cell_type": "code",
   "execution_count": 33,
   "metadata": {},
   "outputs": [],
   "source": [
    "class Model(pl.LightningModule):\n",
    "    def __init__(self, **kwargs):\n",
    "        super().__init__()\n",
    "        self.save_hyperparameters() \n",
    "        self.config = ElectraConfig.from_pretrained(self.hparams.model_name_or_path)\n",
    "        self.model = ElectraForQuestionAnswering.from_pretrained(\n",
    "            self.hparams.model_name_or_path, \n",
    "            config=self.config\n",
    "        )\n",
    "        self.tokenizer = ElectraTokenizer.from_pretrained(self.hparams.model_name_or_path)\n",
    "        # create dataset and cache it\n",
    "        self.create_dataset(state=\"train\")\n",
    "        self.create_dataset(state=\"val\")\n",
    "        self.eval_examples, self.eval_features = self.load_cache(state=\"val\", return_dataset=False)\n",
    "        # function\n",
    "        self.tolist = lambda x: x.detach().cpu().tolist()\n",
    "        \n",
    "    def create_dataset(self, state:str=\"train\"):\n",
    "        r\"\"\"\n",
    "        Args:\n",
    "            state: train or val\n",
    "        \"\"\"\n",
    "        processor = SquadV2Processor()\n",
    "        if state == \"train\":\n",
    "            filename = self.hparams.train_file\n",
    "            is_training = True\n",
    "        elif state == \"val\":\n",
    "            filename = self.hparams.val_file\n",
    "            is_training = False\n",
    "        else:\n",
    "            raise ValueError(\"state should be train or val\")\n",
    "            \n",
    "        examples = processor.get_train_examples(\n",
    "            data_dir=self.hparams.data_path, \n",
    "            filename=filename\n",
    "        )\n",
    "        features, dataset = squad_convert_examples_to_features(\n",
    "            examples=examples,\n",
    "            tokenizer=self.tokenizer,\n",
    "            max_seq_length=self.hparams.max_seq_length,\n",
    "            doc_stride=self.hparams.doc_stride,\n",
    "            max_query_length=self.hparams.max_query_length,\n",
    "            is_training=is_training,\n",
    "            return_dataset=\"pt\",\n",
    "            threads=self.hparams.threads,\n",
    "        )\n",
    "        # TODO: Need to figure out why the unique id is statr from 1000000000\n",
    "        # https://huggingface.co/transformers/_modules/transformers/data/processors/squad.html\n",
    "#         if state == \"val\":\n",
    "#             for fea in features:\n",
    "#                 fea.unique_id -= 1000000000\n",
    "\n",
    "        cache = dict(dataset=dataset, examples=examples, features=features)\n",
    "        torch.save(cache, self.hparams.ckpt_path / self.hparams.cache_file.format(state))        \n",
    "\n",
    "    def load_cache(self, state:str=\"train\", return_dataset=True):\n",
    "        cache = torch.load(self.hparams.ckpt_path / self.hparams.cache_file.format(state))\n",
    "        dataset, examples, features = cache[\"dataset\"], cache[\"examples\"], cache[\"features\"]\n",
    "\n",
    "        if return_dataset:\n",
    "            return dataset\n",
    "        else:\n",
    "            return examples, features\n",
    "\n",
    "    def forward(self, **kwargs):\n",
    "        return self.model(**kwargs)\n",
    "\n",
    "    def training_step(self, batch, batch_idx):\n",
    "        inputs_ids, attention_mask, token_type_ids, start_positions, end_positions, *_ = batch\n",
    "\n",
    "        outputs = self(\n",
    "            input_ids=inputs_ids, \n",
    "            attention_mask=attention_mask,\n",
    "            token_type_ids=token_type_ids,\n",
    "            start_positions=start_positions,\n",
    "            end_positions=end_positions\n",
    "        )\n",
    "\n",
    "        loss = outputs.loss\n",
    "        return  {'loss': loss}\n",
    "\n",
    "    def validation_step(self, batch, batch_idx):\n",
    "        inputs_ids, attention_mask, token_type_ids, example_indices, *_ = batch\n",
    "        \n",
    "        outputs = self(\n",
    "            input_ids=inputs_ids, \n",
    "            attention_mask=attention_mask,\n",
    "            token_type_ids=token_type_ids,\n",
    "            start_positions=None,\n",
    "            end_positions=None\n",
    "        )\n",
    "        \n",
    "        batch_results = []\n",
    "        \n",
    "        for i, example_index in enumerate(example_indices):\n",
    "            eval_feature = self.eval_features[example_index.item()]\n",
    "            unique_id = int(eval_feature.unique_id)\n",
    "            output = [self.tolist(o[i]) for o in outputs.values()]\n",
    "            start_logits, end_logits = output\n",
    "            result = SquadResult(unique_id, start_logits, end_logits)\n",
    "            batch_results.append(result)\n",
    "            \n",
    "        return batch_results\n",
    "    \n",
    "    def train_epoch_end(self, outputs):\n",
    "        loss = torch.tensor(0, dtype=torch.float)\n",
    "        for out in outputs:\n",
    "            loss += out[\"loss\"].detach().cpu()\n",
    "        loss = loss / len(outputs)\n",
    "\n",
    "        return {'loss': loss}\n",
    "\n",
    "    def validation_epoch_end(self, outputs):\n",
    "        all_results = []\n",
    "        for res in outputs:\n",
    "            all_results += res\n",
    "\n",
    "        predictions = compute_predictions_logits(\n",
    "            self.eval_examples,\n",
    "            self.eval_features,\n",
    "            all_results,\n",
    "            self.hparams.n_best_size,\n",
    "            self.hparams.max_answer_length,\n",
    "            self.hparams.do_lower_case,\n",
    "            self.hparams.ckpt_path / self.hparams.output_prediction_file.format(self.global_step),\n",
    "            self.hparams.ckpt_path / self.hparams.output_nbest_file.format(self.global_step),\n",
    "            self.hparams.ckpt_path / self.hparams.output_null_log_odds_file.format(self.global_step),\n",
    "            self.hparams.verbose_logging,\n",
    "            self.hparams.version_2_with_negative,\n",
    "            self.hparams.null_score_diff_threshold,\n",
    "            self.tokenizer,\n",
    "        )\n",
    "        results = squad_evaluate(self.eval_examples, predictions)\n",
    "        print(results)\n",
    "        accuracy = results[\"exact\"]\n",
    "        f1 = results[\"f1\"]\n",
    "        self.log(\"accuracy\", accuracy, on_epoch=True, prog_bar=True)\n",
    "        self.log(\"f1\", f1, on_epoch=True, prog_bar=True)\n",
    "\n",
    "    def configure_optimizers(self):\n",
    "        t_total = self.total_steps()\n",
    "        \n",
    "        no_decay = [\"bias\", \"LayerNorm.weight\"]\n",
    "        optimizer_grouped_parameters = [\n",
    "            {\n",
    "                \"params\": [p for n, p in self.model.named_parameters() if not any(nd in n for nd in no_decay)],\n",
    "                \"weight_decay\": self.hparams.weight_decay,\n",
    "            },\n",
    "            {\n",
    "                \"params\": [p for n, p in self.model.named_parameters() if any(nd in n for nd in no_decay)], \n",
    "                \"weight_decay\": 0.0\n",
    "            },\n",
    "        ]\n",
    "        optimizer = AdamW(\n",
    "            params=optimizer_grouped_parameters, \n",
    "            lr=self.hparams.learning_rate, \n",
    "            eps=self.hparams.adam_epsilon\n",
    "        )\n",
    "        scheduler = get_linear_schedule_with_warmup(\n",
    "            optimizer=optimizer, \n",
    "            num_warmup_steps=int(t_total * self.hparams.warmup_proportion), \n",
    "            num_training_steps=t_total\n",
    "        )\n",
    "        \n",
    "        return {\n",
    "            'optimizer': optimizer,\n",
    "            'scheduler': scheduler,\n",
    "        }\n",
    "\n",
    "    def create_dataloader(self, state:str=\"train\"):\n",
    "        r\"\"\"\n",
    "        Args:\n",
    "            state: train or val\n",
    "        \"\"\"\n",
    "        if state == \"train\":\n",
    "            shuffle = True\n",
    "            batch_size = self.hparams.train_batch_size\n",
    "        elif state == \"val\":\n",
    "            shuffle = False\n",
    "            batch_size = self.hparams.eval_batch_size\n",
    "        else:\n",
    "            raise ValueError(\"state should be train or val\")\n",
    "        dataset = self.load_cache(state, return_dataset=True)\n",
    "        dataloader = DataLoader(\n",
    "            dataset=dataset,\n",
    "            batch_size=batch_size,\n",
    "            shuffle=shuffle,\n",
    "            num_workers=self.hparams.threads\n",
    "        )\n",
    "        return dataloader\n",
    "\n",
    "    def train_dataloader(self):\n",
    "        return self.create_dataloader(state=\"train\")\n",
    "\n",
    "    def val_dataloader(self):\n",
    "        return self.create_dataloader(state=\"val\")\n",
    "    \n",
    "    def total_steps(self):\n",
    "        r\"\"\"\n",
    "        source: https://github.com/PyTorchLightning/pytorch-lightning/issues/1038\n",
    "        \"\"\"\n",
    "        return len(self.train_dataloader()) * self.hparams.num_train_epochs\n"
   ]
  },
  {
   "cell_type": "code",
   "execution_count": 34,
   "metadata": {},
   "outputs": [],
   "source": [
    "def main(args_dict):\n",
    "    print(\"[INFO] Using PyTorch Ver\", torch.__version__)\n",
    "    print(\"[INFO] Seed:\", args_dict[\"random_seed\"])\n",
    "    checkpoint_callback = pl.callbacks.ModelCheckpoint(\n",
    "        filename=\"epoch{epoch}-f1{f1:.4f}\",\n",
    "        monitor=\"f1\",\n",
    "        save_top_k=3,\n",
    "        mode=\"max\",\n",
    "    )\n",
    "    pl.seed_everything(args_dict[\"random_seed\"])\n",
    "    model = Model(**args_dict)\n",
    "    \n",
    "    print(\"[INFO] Start FineTuning\")\n",
    "    trainer = pl.Trainer(\n",
    "        callbacks=[checkpoint_callback],\n",
    "        max_epochs=args_dict[\"num_train_epochs\"],\n",
    "        deterministic=torch.cuda.is_available(),\n",
    "        gpus=-1 if torch.cuda.is_available() else None,\n",
    "    )\n",
    "    trainer.fit(model)"
   ]
  },
  {
   "cell_type": "code",
   "execution_count": 35,
   "metadata": {},
   "outputs": [
    {
     "name": "stderr",
     "output_type": "stream",
     "text": [
      "Global seed set to 77\n"
     ]
    },
    {
     "name": "stdout",
     "output_type": "stream",
     "text": [
      "[INFO] Using PyTorch Ver 1.6.0\n",
      "[INFO] Seed: 77\n"
     ]
    },
    {
     "name": "stderr",
     "output_type": "stream",
     "text": [
      "Some weights of the model checkpoint at monologg/koelectra-base-v3-discriminator were not used when initializing ElectraForQuestionAnswering: ['discriminator_predictions.dense.weight', 'discriminator_predictions.dense.bias', 'discriminator_predictions.dense_prediction.weight', 'discriminator_predictions.dense_prediction.bias']\n",
      "- This IS expected if you are initializing ElectraForQuestionAnswering from the checkpoint of a model trained on another task or with another architecture (e.g. initializing a BertForSequenceClassification model from a BertForPreTraining model).\n",
      "- This IS NOT expected if you are initializing ElectraForQuestionAnswering from the checkpoint of a model that you expect to be exactly identical (initializing a BertForSequenceClassification model from a BertForSequenceClassification model).\n",
      "Some weights of ElectraForQuestionAnswering were not initialized from the model checkpoint at monologg/koelectra-base-v3-discriminator and are newly initialized: ['qa_outputs.weight', 'qa_outputs.bias']\n",
      "You should probably TRAIN this model on a down-stream task to be able to use it for predictions and inference.\n",
      "\n",
      "100%|██████████| 5/5 [00:00<00:00, 662.29it/s]\n",
      "\n",
      "convert squad examples to features:   0%|          | 0/25 [00:00<?, ?it/s]\u001b[A\n",
      "convert squad examples to features: 100%|██████████| 25/25 [00:00<00:00, 85.43it/s][A\n",
      "\n",
      "add example index and unique id: 100%|██████████| 25/25 [00:00<00:00, 225016.31it/s]\n",
      "\n",
      "100%|██████████| 5/5 [00:00<00:00, 675.87it/s]\n",
      "\n",
      "convert squad examples to features:   0%|          | 0/25 [00:00<?, ?it/s]\u001b[A\n",
      "convert squad examples to features: 100%|██████████| 25/25 [00:00<00:00, 84.75it/s][A\n",
      "\n",
      "add example index and unique id: 100%|██████████| 25/25 [00:00<00:00, 297047.03it/s]\n",
      "GPU available: True, used: True\n",
      "TPU available: None, using: 0 TPU cores\n",
      "\n",
      "  | Name  | Type                        | Params\n",
      "------------------------------------------------------\n",
      "0 | model | ElectraForQuestionAnswering | 112 M \n",
      "------------------------------------------------------\n",
      "112 M     Trainable params\n",
      "0         Non-trainable params\n",
      "112 M     Total params\n",
      "449.329   Total estimated model params size (MB)\n"
     ]
    },
    {
     "name": "stdout",
     "output_type": "stream",
     "text": [
      "[INFO] Start FineTuning\n"
     ]
    },
    {
     "data": {
      "application/vnd.jupyter.widget-view+json": {
       "model_id": "83177bceb1c642e98ebe29704e699538",
       "version_major": 2,
       "version_minor": 0
      },
      "text/plain": [
       "HBox(children=(FloatProgress(value=1.0, bar_style='info', description='Validation sanity check', layout=Layout…"
      ]
     },
     "metadata": {},
     "output_type": "display_data"
    },
    {
     "ename": "KeyError",
     "evalue": "1000000016",
     "output_type": "error",
     "traceback": [
      "\u001b[0;31m---------------------------------------------------------------------------\u001b[0m",
      "\u001b[0;31mKeyError\u001b[0m                                  Traceback (most recent call last)",
      "\u001b[0;32m<ipython-input-35-f9c55576f8c7>\u001b[0m in \u001b[0;36m<module>\u001b[0;34m\u001b[0m\n\u001b[1;32m     17\u001b[0m     \u001b[0mgpus\u001b[0m\u001b[0;34m=\u001b[0m\u001b[0;34m-\u001b[0m\u001b[0;36m1\u001b[0m \u001b[0;32mif\u001b[0m \u001b[0mtorch\u001b[0m\u001b[0;34m.\u001b[0m\u001b[0mcuda\u001b[0m\u001b[0;34m.\u001b[0m\u001b[0mis_available\u001b[0m\u001b[0;34m(\u001b[0m\u001b[0;34m)\u001b[0m \u001b[0;32melse\u001b[0m \u001b[0;32mNone\u001b[0m\u001b[0;34m,\u001b[0m\u001b[0;34m\u001b[0m\u001b[0;34m\u001b[0m\u001b[0m\n\u001b[1;32m     18\u001b[0m )\n\u001b[0;32m---> 19\u001b[0;31m \u001b[0mtrainer\u001b[0m\u001b[0;34m.\u001b[0m\u001b[0mfit\u001b[0m\u001b[0;34m(\u001b[0m\u001b[0mmodel\u001b[0m\u001b[0;34m)\u001b[0m\u001b[0;34m\u001b[0m\u001b[0;34m\u001b[0m\u001b[0m\n\u001b[0m",
      "\u001b[0;32m~/miniconda3/lib/python3.7/site-packages/pytorch_lightning/trainer/trainer.py\u001b[0m in \u001b[0;36mfit\u001b[0;34m(self, model, train_dataloader, val_dataloaders, datamodule)\u001b[0m\n\u001b[1;32m    496\u001b[0m \u001b[0;34m\u001b[0m\u001b[0m\n\u001b[1;32m    497\u001b[0m         \u001b[0;31m# dispath `start_training` or `start_testing` or `start_predicting`\u001b[0m\u001b[0;34m\u001b[0m\u001b[0;34m\u001b[0m\u001b[0;34m\u001b[0m\u001b[0m\n\u001b[0;32m--> 498\u001b[0;31m         \u001b[0mself\u001b[0m\u001b[0;34m.\u001b[0m\u001b[0mdispatch\u001b[0m\u001b[0;34m(\u001b[0m\u001b[0;34m)\u001b[0m\u001b[0;34m\u001b[0m\u001b[0;34m\u001b[0m\u001b[0m\n\u001b[0m\u001b[1;32m    499\u001b[0m \u001b[0;34m\u001b[0m\u001b[0m\n\u001b[1;32m    500\u001b[0m         \u001b[0;31m# plugin will finalized fitting (e.g. ddp_spawn will load trained model)\u001b[0m\u001b[0;34m\u001b[0m\u001b[0;34m\u001b[0m\u001b[0;34m\u001b[0m\u001b[0m\n",
      "\u001b[0;32m~/miniconda3/lib/python3.7/site-packages/pytorch_lightning/trainer/trainer.py\u001b[0m in \u001b[0;36mdispatch\u001b[0;34m(self)\u001b[0m\n\u001b[1;32m    543\u001b[0m \u001b[0;34m\u001b[0m\u001b[0m\n\u001b[1;32m    544\u001b[0m         \u001b[0;32melse\u001b[0m\u001b[0;34m:\u001b[0m\u001b[0;34m\u001b[0m\u001b[0;34m\u001b[0m\u001b[0m\n\u001b[0;32m--> 545\u001b[0;31m             \u001b[0mself\u001b[0m\u001b[0;34m.\u001b[0m\u001b[0maccelerator\u001b[0m\u001b[0;34m.\u001b[0m\u001b[0mstart_training\u001b[0m\u001b[0;34m(\u001b[0m\u001b[0mself\u001b[0m\u001b[0;34m)\u001b[0m\u001b[0;34m\u001b[0m\u001b[0;34m\u001b[0m\u001b[0m\n\u001b[0m\u001b[1;32m    546\u001b[0m \u001b[0;34m\u001b[0m\u001b[0m\n\u001b[1;32m    547\u001b[0m     \u001b[0;32mdef\u001b[0m \u001b[0mtrain_or_test_or_predict\u001b[0m\u001b[0;34m(\u001b[0m\u001b[0mself\u001b[0m\u001b[0;34m)\u001b[0m\u001b[0;34m:\u001b[0m\u001b[0;34m\u001b[0m\u001b[0;34m\u001b[0m\u001b[0m\n",
      "\u001b[0;32m~/miniconda3/lib/python3.7/site-packages/pytorch_lightning/accelerators/accelerator.py\u001b[0m in \u001b[0;36mstart_training\u001b[0;34m(self, trainer)\u001b[0m\n\u001b[1;32m     71\u001b[0m \u001b[0;34m\u001b[0m\u001b[0m\n\u001b[1;32m     72\u001b[0m     \u001b[0;32mdef\u001b[0m \u001b[0mstart_training\u001b[0m\u001b[0;34m(\u001b[0m\u001b[0mself\u001b[0m\u001b[0;34m,\u001b[0m \u001b[0mtrainer\u001b[0m\u001b[0;34m)\u001b[0m\u001b[0;34m:\u001b[0m\u001b[0;34m\u001b[0m\u001b[0;34m\u001b[0m\u001b[0m\n\u001b[0;32m---> 73\u001b[0;31m         \u001b[0mself\u001b[0m\u001b[0;34m.\u001b[0m\u001b[0mtraining_type_plugin\u001b[0m\u001b[0;34m.\u001b[0m\u001b[0mstart_training\u001b[0m\u001b[0;34m(\u001b[0m\u001b[0mtrainer\u001b[0m\u001b[0;34m)\u001b[0m\u001b[0;34m\u001b[0m\u001b[0;34m\u001b[0m\u001b[0m\n\u001b[0m\u001b[1;32m     74\u001b[0m \u001b[0;34m\u001b[0m\u001b[0m\n\u001b[1;32m     75\u001b[0m     \u001b[0;32mdef\u001b[0m \u001b[0mstart_testing\u001b[0m\u001b[0;34m(\u001b[0m\u001b[0mself\u001b[0m\u001b[0;34m,\u001b[0m \u001b[0mtrainer\u001b[0m\u001b[0;34m)\u001b[0m\u001b[0;34m:\u001b[0m\u001b[0;34m\u001b[0m\u001b[0;34m\u001b[0m\u001b[0m\n",
      "\u001b[0;32m~/miniconda3/lib/python3.7/site-packages/pytorch_lightning/plugins/training_type/training_type_plugin.py\u001b[0m in \u001b[0;36mstart_training\u001b[0;34m(self, trainer)\u001b[0m\n\u001b[1;32m    112\u001b[0m     \u001b[0;32mdef\u001b[0m \u001b[0mstart_training\u001b[0m\u001b[0;34m(\u001b[0m\u001b[0mself\u001b[0m\u001b[0;34m,\u001b[0m \u001b[0mtrainer\u001b[0m\u001b[0;34m:\u001b[0m \u001b[0;34m'Trainer'\u001b[0m\u001b[0;34m)\u001b[0m \u001b[0;34m->\u001b[0m \u001b[0;32mNone\u001b[0m\u001b[0;34m:\u001b[0m\u001b[0;34m\u001b[0m\u001b[0;34m\u001b[0m\u001b[0m\n\u001b[1;32m    113\u001b[0m         \u001b[0;31m# double dispatch to initiate the training loop\u001b[0m\u001b[0;34m\u001b[0m\u001b[0;34m\u001b[0m\u001b[0;34m\u001b[0m\u001b[0m\n\u001b[0;32m--> 114\u001b[0;31m         \u001b[0mself\u001b[0m\u001b[0;34m.\u001b[0m\u001b[0m_results\u001b[0m \u001b[0;34m=\u001b[0m \u001b[0mtrainer\u001b[0m\u001b[0;34m.\u001b[0m\u001b[0mrun_train\u001b[0m\u001b[0;34m(\u001b[0m\u001b[0;34m)\u001b[0m\u001b[0;34m\u001b[0m\u001b[0;34m\u001b[0m\u001b[0m\n\u001b[0m\u001b[1;32m    115\u001b[0m \u001b[0;34m\u001b[0m\u001b[0m\n\u001b[1;32m    116\u001b[0m     \u001b[0;32mdef\u001b[0m \u001b[0mstart_testing\u001b[0m\u001b[0;34m(\u001b[0m\u001b[0mself\u001b[0m\u001b[0;34m,\u001b[0m \u001b[0mtrainer\u001b[0m\u001b[0;34m:\u001b[0m \u001b[0;34m'Trainer'\u001b[0m\u001b[0;34m)\u001b[0m \u001b[0;34m->\u001b[0m \u001b[0;32mNone\u001b[0m\u001b[0;34m:\u001b[0m\u001b[0;34m\u001b[0m\u001b[0;34m\u001b[0m\u001b[0m\n",
      "\u001b[0;32m~/miniconda3/lib/python3.7/site-packages/pytorch_lightning/trainer/trainer.py\u001b[0m in \u001b[0;36mrun_train\u001b[0;34m(self)\u001b[0m\n\u001b[1;32m    604\u001b[0m             \u001b[0mself\u001b[0m\u001b[0;34m.\u001b[0m\u001b[0mprogress_bar_callback\u001b[0m\u001b[0;34m.\u001b[0m\u001b[0mdisable\u001b[0m\u001b[0;34m(\u001b[0m\u001b[0;34m)\u001b[0m\u001b[0;34m\u001b[0m\u001b[0;34m\u001b[0m\u001b[0m\n\u001b[1;32m    605\u001b[0m \u001b[0;34m\u001b[0m\u001b[0m\n\u001b[0;32m--> 606\u001b[0;31m         \u001b[0mself\u001b[0m\u001b[0;34m.\u001b[0m\u001b[0mrun_sanity_check\u001b[0m\u001b[0;34m(\u001b[0m\u001b[0mself\u001b[0m\u001b[0;34m.\u001b[0m\u001b[0mlightning_module\u001b[0m\u001b[0;34m)\u001b[0m\u001b[0;34m\u001b[0m\u001b[0;34m\u001b[0m\u001b[0m\n\u001b[0m\u001b[1;32m    607\u001b[0m \u001b[0;34m\u001b[0m\u001b[0m\n\u001b[1;32m    608\u001b[0m         \u001b[0;31m# set stage for logging\u001b[0m\u001b[0;34m\u001b[0m\u001b[0;34m\u001b[0m\u001b[0;34m\u001b[0m\u001b[0m\n",
      "\u001b[0;32m~/miniconda3/lib/python3.7/site-packages/pytorch_lightning/trainer/trainer.py\u001b[0m in \u001b[0;36mrun_sanity_check\u001b[0;34m(self, ref_model)\u001b[0m\n\u001b[1;32m    853\u001b[0m \u001b[0;34m\u001b[0m\u001b[0m\n\u001b[1;32m    854\u001b[0m             \u001b[0;31m# run eval step\u001b[0m\u001b[0;34m\u001b[0m\u001b[0;34m\u001b[0m\u001b[0;34m\u001b[0m\u001b[0m\n\u001b[0;32m--> 855\u001b[0;31m             \u001b[0m_\u001b[0m\u001b[0;34m,\u001b[0m \u001b[0meval_results\u001b[0m \u001b[0;34m=\u001b[0m \u001b[0mself\u001b[0m\u001b[0;34m.\u001b[0m\u001b[0mrun_evaluation\u001b[0m\u001b[0;34m(\u001b[0m\u001b[0mmax_batches\u001b[0m\u001b[0;34m=\u001b[0m\u001b[0mself\u001b[0m\u001b[0;34m.\u001b[0m\u001b[0mnum_sanity_val_batches\u001b[0m\u001b[0;34m)\u001b[0m\u001b[0;34m\u001b[0m\u001b[0;34m\u001b[0m\u001b[0m\n\u001b[0m\u001b[1;32m    856\u001b[0m \u001b[0;34m\u001b[0m\u001b[0m\n\u001b[1;32m    857\u001b[0m             \u001b[0;31m# allow no returns from eval\u001b[0m\u001b[0;34m\u001b[0m\u001b[0;34m\u001b[0m\u001b[0;34m\u001b[0m\u001b[0m\n",
      "\u001b[0;32m~/miniconda3/lib/python3.7/site-packages/pytorch_lightning/trainer/trainer.py\u001b[0m in \u001b[0;36mrun_evaluation\u001b[0;34m(self, max_batches, on_epoch)\u001b[0m\n\u001b[1;32m    738\u001b[0m \u001b[0;34m\u001b[0m\u001b[0m\n\u001b[1;32m    739\u001b[0m         \u001b[0;31m# lightning module method\u001b[0m\u001b[0;34m\u001b[0m\u001b[0;34m\u001b[0m\u001b[0;34m\u001b[0m\u001b[0m\n\u001b[0;32m--> 740\u001b[0;31m         \u001b[0mdeprecated_eval_results\u001b[0m \u001b[0;34m=\u001b[0m \u001b[0mself\u001b[0m\u001b[0;34m.\u001b[0m\u001b[0mevaluation_loop\u001b[0m\u001b[0;34m.\u001b[0m\u001b[0mevaluation_epoch_end\u001b[0m\u001b[0;34m(\u001b[0m\u001b[0;34m)\u001b[0m\u001b[0;34m\u001b[0m\u001b[0;34m\u001b[0m\u001b[0m\n\u001b[0m\u001b[1;32m    741\u001b[0m \u001b[0;34m\u001b[0m\u001b[0m\n\u001b[1;32m    742\u001b[0m         \u001b[0;31m# hook\u001b[0m\u001b[0;34m\u001b[0m\u001b[0;34m\u001b[0m\u001b[0;34m\u001b[0m\u001b[0m\n",
      "\u001b[0;32m~/miniconda3/lib/python3.7/site-packages/pytorch_lightning/trainer/evaluation_loop.py\u001b[0m in \u001b[0;36mevaluation_epoch_end\u001b[0;34m(self)\u001b[0m\n\u001b[1;32m    185\u001b[0m \u001b[0;34m\u001b[0m\u001b[0m\n\u001b[1;32m    186\u001b[0m         \u001b[0;31m# call the model epoch end\u001b[0m\u001b[0;34m\u001b[0m\u001b[0;34m\u001b[0m\u001b[0;34m\u001b[0m\u001b[0m\n\u001b[0;32m--> 187\u001b[0;31m         \u001b[0mdeprecated_results\u001b[0m \u001b[0;34m=\u001b[0m \u001b[0mself\u001b[0m\u001b[0;34m.\u001b[0m\u001b[0m__run_eval_epoch_end\u001b[0m\u001b[0;34m(\u001b[0m\u001b[0mself\u001b[0m\u001b[0;34m.\u001b[0m\u001b[0mnum_dataloaders\u001b[0m\u001b[0;34m)\u001b[0m\u001b[0;34m\u001b[0m\u001b[0;34m\u001b[0m\u001b[0m\n\u001b[0m\u001b[1;32m    188\u001b[0m \u001b[0;34m\u001b[0m\u001b[0m\n\u001b[1;32m    189\u001b[0m         \u001b[0;31m# enable returning anything\u001b[0m\u001b[0;34m\u001b[0m\u001b[0;34m\u001b[0m\u001b[0;34m\u001b[0m\u001b[0m\n",
      "\u001b[0;32m~/miniconda3/lib/python3.7/site-packages/pytorch_lightning/trainer/evaluation_loop.py\u001b[0m in \u001b[0;36m__run_eval_epoch_end\u001b[0;34m(self, num_dataloaders)\u001b[0m\n\u001b[1;32m    223\u001b[0m             \u001b[0;32mif\u001b[0m \u001b[0mis_overridden\u001b[0m\u001b[0;34m(\u001b[0m\u001b[0;34m'validation_epoch_end'\u001b[0m\u001b[0;34m,\u001b[0m \u001b[0mmodel\u001b[0m\u001b[0;34m=\u001b[0m\u001b[0mmodel\u001b[0m\u001b[0;34m)\u001b[0m\u001b[0;34m:\u001b[0m\u001b[0;34m\u001b[0m\u001b[0;34m\u001b[0m\u001b[0m\n\u001b[1;32m    224\u001b[0m                 \u001b[0mmodel\u001b[0m\u001b[0;34m.\u001b[0m\u001b[0m_current_fx_name\u001b[0m \u001b[0;34m=\u001b[0m \u001b[0;34m'validation_epoch_end'\u001b[0m\u001b[0;34m\u001b[0m\u001b[0;34m\u001b[0m\u001b[0m\n\u001b[0;32m--> 225\u001b[0;31m                 \u001b[0meval_results\u001b[0m \u001b[0;34m=\u001b[0m \u001b[0mmodel\u001b[0m\u001b[0;34m.\u001b[0m\u001b[0mvalidation_epoch_end\u001b[0m\u001b[0;34m(\u001b[0m\u001b[0meval_results\u001b[0m\u001b[0;34m)\u001b[0m\u001b[0;34m\u001b[0m\u001b[0;34m\u001b[0m\u001b[0m\n\u001b[0m\u001b[1;32m    226\u001b[0m                 \u001b[0muser_reduced\u001b[0m \u001b[0;34m=\u001b[0m \u001b[0;32mTrue\u001b[0m\u001b[0;34m\u001b[0m\u001b[0;34m\u001b[0m\u001b[0m\n\u001b[1;32m    227\u001b[0m \u001b[0;34m\u001b[0m\u001b[0m\n",
      "\u001b[0;32m<ipython-input-33-087087098fd1>\u001b[0m in \u001b[0;36mvalidation_epoch_end\u001b[0;34m(self, outputs)\u001b[0m\n\u001b[1;32m    129\u001b[0m             \u001b[0mself\u001b[0m\u001b[0;34m.\u001b[0m\u001b[0mhparams\u001b[0m\u001b[0;34m.\u001b[0m\u001b[0mversion_2_with_negative\u001b[0m\u001b[0;34m,\u001b[0m\u001b[0;34m\u001b[0m\u001b[0;34m\u001b[0m\u001b[0m\n\u001b[1;32m    130\u001b[0m             \u001b[0mself\u001b[0m\u001b[0;34m.\u001b[0m\u001b[0mhparams\u001b[0m\u001b[0;34m.\u001b[0m\u001b[0mnull_score_diff_threshold\u001b[0m\u001b[0;34m,\u001b[0m\u001b[0;34m\u001b[0m\u001b[0;34m\u001b[0m\u001b[0m\n\u001b[0;32m--> 131\u001b[0;31m             \u001b[0mself\u001b[0m\u001b[0;34m.\u001b[0m\u001b[0mtokenizer\u001b[0m\u001b[0;34m,\u001b[0m\u001b[0;34m\u001b[0m\u001b[0;34m\u001b[0m\u001b[0m\n\u001b[0m\u001b[1;32m    132\u001b[0m         )\n\u001b[1;32m    133\u001b[0m         \u001b[0mresults\u001b[0m \u001b[0;34m=\u001b[0m \u001b[0msquad_evaluate\u001b[0m\u001b[0;34m(\u001b[0m\u001b[0mself\u001b[0m\u001b[0;34m.\u001b[0m\u001b[0meval_examples\u001b[0m\u001b[0;34m,\u001b[0m \u001b[0mpredictions\u001b[0m\u001b[0;34m)\u001b[0m\u001b[0;34m\u001b[0m\u001b[0;34m\u001b[0m\u001b[0m\n",
      "\u001b[0;32m~/miniconda3/lib/python3.7/site-packages/transformers/data/metrics/squad_metrics.py\u001b[0m in \u001b[0;36mcompute_predictions_logits\u001b[0;34m(all_examples, all_features, all_results, n_best_size, max_answer_length, do_lower_case, output_prediction_file, output_nbest_file, output_null_log_odds_file, verbose_logging, version_2_with_negative, null_score_diff_threshold, tokenizer)\u001b[0m\n\u001b[1;32m    431\u001b[0m         \u001b[0mnull_end_logit\u001b[0m \u001b[0;34m=\u001b[0m \u001b[0;36m0\u001b[0m  \u001b[0;31m# the end logit at the slice with min null score\u001b[0m\u001b[0;34m\u001b[0m\u001b[0;34m\u001b[0m\u001b[0m\n\u001b[1;32m    432\u001b[0m         \u001b[0;32mfor\u001b[0m \u001b[0;34m(\u001b[0m\u001b[0mfeature_index\u001b[0m\u001b[0;34m,\u001b[0m \u001b[0mfeature\u001b[0m\u001b[0;34m)\u001b[0m \u001b[0;32min\u001b[0m \u001b[0menumerate\u001b[0m\u001b[0;34m(\u001b[0m\u001b[0mfeatures\u001b[0m\u001b[0;34m)\u001b[0m\u001b[0;34m:\u001b[0m\u001b[0;34m\u001b[0m\u001b[0;34m\u001b[0m\u001b[0m\n\u001b[0;32m--> 433\u001b[0;31m             \u001b[0mresult\u001b[0m \u001b[0;34m=\u001b[0m \u001b[0munique_id_to_result\u001b[0m\u001b[0;34m[\u001b[0m\u001b[0mfeature\u001b[0m\u001b[0;34m.\u001b[0m\u001b[0munique_id\u001b[0m\u001b[0;34m]\u001b[0m\u001b[0;34m\u001b[0m\u001b[0;34m\u001b[0m\u001b[0m\n\u001b[0m\u001b[1;32m    434\u001b[0m             \u001b[0mstart_indexes\u001b[0m \u001b[0;34m=\u001b[0m \u001b[0m_get_best_indexes\u001b[0m\u001b[0;34m(\u001b[0m\u001b[0mresult\u001b[0m\u001b[0;34m.\u001b[0m\u001b[0mstart_logits\u001b[0m\u001b[0;34m,\u001b[0m \u001b[0mn_best_size\u001b[0m\u001b[0;34m)\u001b[0m\u001b[0;34m\u001b[0m\u001b[0;34m\u001b[0m\u001b[0m\n\u001b[1;32m    435\u001b[0m             \u001b[0mend_indexes\u001b[0m \u001b[0;34m=\u001b[0m \u001b[0m_get_best_indexes\u001b[0m\u001b[0;34m(\u001b[0m\u001b[0mresult\u001b[0m\u001b[0;34m.\u001b[0m\u001b[0mend_logits\u001b[0m\u001b[0;34m,\u001b[0m \u001b[0mn_best_size\u001b[0m\u001b[0;34m)\u001b[0m\u001b[0;34m\u001b[0m\u001b[0;34m\u001b[0m\u001b[0m\n",
      "\u001b[0;31mKeyError\u001b[0m: 1000000016"
     ]
    }
   ],
   "source": [
    "print(\"[INFO] Using PyTorch Ver\", torch.__version__)\n",
    "print(\"[INFO] Seed:\", args_dict[\"random_seed\"])\n",
    "checkpoint_callback = pl.callbacks.ModelCheckpoint(\n",
    "    filename=\"epoch{epoch}-f1{f1:.4f}\",\n",
    "    monitor=\"f1\",\n",
    "    save_top_k=3,\n",
    "    mode=\"max\",\n",
    ")\n",
    "pl.seed_everything(args_dict[\"random_seed\"])\n",
    "model = Model(**args_dict)\n",
    "\n",
    "print(\"[INFO] Start FineTuning\")\n",
    "trainer = pl.Trainer(\n",
    "    callbacks=[checkpoint_callback],\n",
    "    max_epochs=args_dict[\"num_train_epochs\"],\n",
    "    deterministic=torch.cuda.is_available(),\n",
    "    gpus=-1 if torch.cuda.is_available() else None,\n",
    ")\n",
    "trainer.fit(model)"
   ]
  },
  {
   "cell_type": "markdown",
   "metadata": {},
   "source": [
    "main(args_dict)"
   ]
  },
  {
   "cell_type": "code",
   "execution_count": 59,
   "metadata": {},
   "outputs": [],
   "source": [
    "all_results = []\n",
    "for batch_idx, batch in enumerate(model.val_dataloader()):\n",
    "    outputs = model.validation_step([b.to(\"cuda\") for b in batch], batch_idx)\n",
    "    all_results += outputs"
   ]
  },
  {
   "cell_type": "code",
   "execution_count": 60,
   "metadata": {
    "collapsed": true,
    "jupyter": {
     "outputs_hidden": true
    }
   },
   "outputs": [
    {
     "data": {
      "text/plain": [
       "[<transformers.data.processors.squad.SquadResult at 0x7f4c407876d0>,\n",
       " <transformers.data.processors.squad.SquadResult at 0x7f4c40755210>,\n",
       " <transformers.data.processors.squad.SquadResult at 0x7f4c40755290>,\n",
       " <transformers.data.processors.squad.SquadResult at 0x7f4c40755050>,\n",
       " <transformers.data.processors.squad.SquadResult at 0x7f4c407555d0>,\n",
       " <transformers.data.processors.squad.SquadResult at 0x7f4c42a66650>,\n",
       " <transformers.data.processors.squad.SquadResult at 0x7f4c42a66f90>,\n",
       " <transformers.data.processors.squad.SquadResult at 0x7f4c42a66b90>,\n",
       " <transformers.data.processors.squad.SquadResult at 0x7f4c40787f50>,\n",
       " <transformers.data.processors.squad.SquadResult at 0x7f4c42a664d0>,\n",
       " <transformers.data.processors.squad.SquadResult at 0x7f4c42a66d50>,\n",
       " <transformers.data.processors.squad.SquadResult at 0x7f4c42a660d0>,\n",
       " <transformers.data.processors.squad.SquadResult at 0x7f4c42a66f50>,\n",
       " <transformers.data.processors.squad.SquadResult at 0x7f4c406e8050>,\n",
       " <transformers.data.processors.squad.SquadResult at 0x7f4c406e8810>,\n",
       " <transformers.data.processors.squad.SquadResult at 0x7f4c4078a590>,\n",
       " <transformers.data.processors.squad.SquadResult at 0x7f4c406da7d0>,\n",
       " <transformers.data.processors.squad.SquadResult at 0x7f4c406df150>,\n",
       " <transformers.data.processors.squad.SquadResult at 0x7f4c4078c650>,\n",
       " <transformers.data.processors.squad.SquadResult at 0x7f4c4078cd10>,\n",
       " <transformers.data.processors.squad.SquadResult at 0x7f4c4078c050>,\n",
       " <transformers.data.processors.squad.SquadResult at 0x7f4c407869d0>,\n",
       " <transformers.data.processors.squad.SquadResult at 0x7f4c40786ad0>,\n",
       " <transformers.data.processors.squad.SquadResult at 0x7f4c40786e50>,\n",
       " <transformers.data.processors.squad.SquadResult at 0x7f4c4078cf90>,\n",
       " <transformers.data.processors.squad.SquadResult at 0x7f4c40755fd0>,\n",
       " <transformers.data.processors.squad.SquadResult at 0x7f4c406d8810>,\n",
       " <transformers.data.processors.squad.SquadResult at 0x7f4c40784310>,\n",
       " <transformers.data.processors.squad.SquadResult at 0x7f4c40784690>,\n",
       " <transformers.data.processors.squad.SquadResult at 0x7f4c40784090>,\n",
       " <transformers.data.processors.squad.SquadResult at 0x7f4c40784a10>,\n",
       " <transformers.data.processors.squad.SquadResult at 0x7f4c40784b90>]"
      ]
     },
     "execution_count": 60,
     "metadata": {},
     "output_type": "execute_result"
    }
   ],
   "source": [
    "all_results."
   ]
  },
  {
   "cell_type": "code",
   "execution_count": 61,
   "metadata": {},
   "outputs": [],
   "source": [
    "import collections\n",
    "all_features = model.eval_features\n",
    "all_examples = model.eval_examples\n",
    "example_index_to_features = collections.defaultdict(list)\n",
    "for feature in all_features:\n",
    "    example_index_to_features[feature.example_index].append(feature)\n"
   ]
  },
  {
   "cell_type": "code",
   "execution_count": 64,
   "metadata": {},
   "outputs": [],
   "source": [
    "unique_id_to_result = {}\n",
    "for result in all_results:\n",
    "    unique_id_to_result[result.unique_id] = result"
   ]
  },
  {
   "cell_type": "code",
   "execution_count": 66,
   "metadata": {},
   "outputs": [],
   "source": [
    "all_predictions = collections.OrderedDict()\n",
    "all_nbest_json = collections.OrderedDict()\n",
    "scores_diff_json = collections.OrderedDict()\n",
    "\n",
    "for (example_index, example) in enumerate(all_examples):\n",
    "    features = example_index_to_features[example_index]"
   ]
  },
  {
   "cell_type": "code",
   "execution_count": 67,
   "metadata": {},
   "outputs": [
    {
     "data": {
      "text/plain": [
       "{1000000000: <transformers.data.processors.squad.SquadResult at 0x7f4c407876d0>,\n",
       " 1000000001: <transformers.data.processors.squad.SquadResult at 0x7f4c40755210>,\n",
       " 1000000002: <transformers.data.processors.squad.SquadResult at 0x7f4c40755290>,\n",
       " 1000000003: <transformers.data.processors.squad.SquadResult at 0x7f4c40755050>,\n",
       " 1000000004: <transformers.data.processors.squad.SquadResult at 0x7f4c407555d0>,\n",
       " 1000000005: <transformers.data.processors.squad.SquadResult at 0x7f4c42a66650>,\n",
       " 1000000006: <transformers.data.processors.squad.SquadResult at 0x7f4c42a66f90>,\n",
       " 1000000007: <transformers.data.processors.squad.SquadResult at 0x7f4c42a66b90>,\n",
       " 1000000008: <transformers.data.processors.squad.SquadResult at 0x7f4c40787f50>,\n",
       " 1000000009: <transformers.data.processors.squad.SquadResult at 0x7f4c42a664d0>,\n",
       " 1000000010: <transformers.data.processors.squad.SquadResult at 0x7f4c42a66d50>,\n",
       " 1000000011: <transformers.data.processors.squad.SquadResult at 0x7f4c42a660d0>,\n",
       " 1000000012: <transformers.data.processors.squad.SquadResult at 0x7f4c42a66f50>,\n",
       " 1000000013: <transformers.data.processors.squad.SquadResult at 0x7f4c406e8050>,\n",
       " 1000000014: <transformers.data.processors.squad.SquadResult at 0x7f4c406e8810>,\n",
       " 1000000015: <transformers.data.processors.squad.SquadResult at 0x7f4c4078a590>,\n",
       " 1000000016: <transformers.data.processors.squad.SquadResult at 0x7f4c406da7d0>,\n",
       " 1000000017: <transformers.data.processors.squad.SquadResult at 0x7f4c406df150>,\n",
       " 1000000018: <transformers.data.processors.squad.SquadResult at 0x7f4c4078c650>,\n",
       " 1000000019: <transformers.data.processors.squad.SquadResult at 0x7f4c4078cd10>,\n",
       " 1000000020: <transformers.data.processors.squad.SquadResult at 0x7f4c4078c050>,\n",
       " 1000000021: <transformers.data.processors.squad.SquadResult at 0x7f4c407869d0>,\n",
       " 1000000022: <transformers.data.processors.squad.SquadResult at 0x7f4c40786ad0>,\n",
       " 1000000023: <transformers.data.processors.squad.SquadResult at 0x7f4c40786e50>,\n",
       " 1000000024: <transformers.data.processors.squad.SquadResult at 0x7f4c4078cf90>,\n",
       " 1000000025: <transformers.data.processors.squad.SquadResult at 0x7f4c40755fd0>,\n",
       " 1000000026: <transformers.data.processors.squad.SquadResult at 0x7f4c406d8810>,\n",
       " 1000000027: <transformers.data.processors.squad.SquadResult at 0x7f4c40784310>,\n",
       " 1000000028: <transformers.data.processors.squad.SquadResult at 0x7f4c40784690>,\n",
       " 1000000029: <transformers.data.processors.squad.SquadResult at 0x7f4c40784090>,\n",
       " 1000000030: <transformers.data.processors.squad.SquadResult at 0x7f4c40784a10>,\n",
       " 1000000031: <transformers.data.processors.squad.SquadResult at 0x7f4c40784b90>}"
      ]
     },
     "execution_count": 67,
     "metadata": {},
     "output_type": "execute_result"
    }
   ],
   "source": [
    "unique_id_to_result"
   ]
  },
  {
   "cell_type": "code",
   "execution_count": 74,
   "metadata": {},
   "outputs": [
    {
     "name": "stdout",
     "output_type": "stream",
     "text": [
      "1000000000\n",
      "1000000000\n",
      "1000000001\n",
      "1000000001\n",
      "1000000002\n",
      "1000000002\n",
      "1000000003\n",
      "1000000003\n",
      "1000000004\n",
      "1000000004\n",
      "1000000005\n",
      "1000000005\n",
      "1000000006\n",
      "1000000006\n",
      "1000000007\n",
      "1000000007\n",
      "1000000008\n",
      "1000000008\n",
      "1000000009\n",
      "1000000009\n",
      "1000000010\n",
      "1000000010\n",
      "1000000011\n",
      "1000000011\n",
      "1000000012\n",
      "1000000012\n",
      "1000000013\n",
      "1000000013\n",
      "1000000014\n",
      "1000000014\n",
      "1000000015\n",
      "1000000015\n",
      "1000000016\n",
      "1000000016\n",
      "1000000017\n",
      "1000000017\n",
      "1000000018\n",
      "1000000018\n",
      "1000000019\n",
      "1000000019\n",
      "1000000020\n",
      "1000000020\n",
      "1000000021\n",
      "1000000021\n",
      "1000000022\n",
      "1000000022\n",
      "1000000023\n",
      "1000000023\n",
      "1000000024\n",
      "1000000024\n",
      "1000000025\n",
      "1000000025\n",
      "1000000026\n",
      "1000000026\n",
      "1000000027\n",
      "1000000027\n",
      "1000000028\n",
      "1000000028\n",
      "1000000029\n",
      "1000000029\n",
      "1000000030\n",
      "1000000030\n",
      "1000000031\n",
      "1000000031\n"
     ]
    }
   ],
   "source": [
    "for (example_index, example) in enumerate(all_examples):\n",
    "    features = example_index_to_features[example_index]\n",
    "    for (feature_index, feature) in enumerate(features):\n",
    "        print(feature.unique_id)\n",
    "        result = unique_id_to_result[feature.unique_id]\n",
    "        print(result.unique_id)"
   ]
  },
  {
   "cell_type": "code",
   "execution_count": null,
   "metadata": {},
   "outputs": [],
   "source": []
  }
 ],
 "metadata": {
  "kernelspec": {
   "display_name": "Python 3",
   "language": "python",
   "name": "python3"
  },
  "language_info": {
   "codemirror_mode": {
    "name": "ipython",
    "version": 3
   },
   "file_extension": ".py",
   "mimetype": "text/x-python",
   "name": "python",
   "nbconvert_exporter": "python",
   "pygments_lexer": "ipython3",
   "version": "3.7.9"
  }
 },
 "nbformat": 4,
 "nbformat_minor": 4
}
