{
 "cells": [
  {
   "cell_type": "markdown",
   "metadata": {},
   "source": [
    "# HuggingFace Tutorial\n",
    "\n",
    "This is a tutorial for me to learn how to use transformer with huggingface.\n",
    "\n",
    "# Reference: \n",
    "- https://huggingface.co/\n",
    "- https://huggingface.co/transformers/\n",
    "- https://github.com/huggingface/datasets\n",
    "- https://colab.research.google.com/drive/1IPkZo1Wd-DghIOK6gJpcb0Dv4_Gv2kXB?usp=sharing#scrollTo=ImupuGXDGq7b\n",
    "- https://github.com/monologg/KoELECTRA\n",
    "- https://github.com/monologg/KoELECTRA/blob/master/finetune/run_squad.py\n",
    "- Korean Sentence Splitter: https://github.com/hyunwoongko/kss\n",
    "\n",
    "# Installation\n",
    "\n",
    "```bash\n",
    "$ pip install transformers\n",
    "```"
   ]
  },
  {
   "cell_type": "code",
   "execution_count": 8,
   "metadata": {},
   "outputs": [
    {
     "name": "stdout",
     "output_type": "stream",
     "text": [
      "PyTorch Version: 1.6.0\n",
      "TorchText Version: 0.8.0a0+c851c3e\n"
     ]
    }
   ],
   "source": [
    "import numpy as np\n",
    "\n",
    "import torch\n",
    "import torchtext\n",
    "\n",
    "print(f\"PyTorch Version: {torch.__version__}\")\n",
    "print(f\"TorchText Version: {torchtext.__version__}\")  "
   ]
  },
  {
   "cell_type": "markdown",
   "metadata": {},
   "source": [
    "# Datasets\n",
    "\n",
    "need to install sentencepiece\n",
    "\n",
    "```bash\n",
    "$ pip install sentencepiece\n",
    "$ pip install datasets\n",
    "```"
   ]
  },
  {
   "cell_type": "markdown",
   "metadata": {},
   "source": [
    "# How to use?\n",
    "\n",
    "## Pipeline\n",
    "\n",
    "- ConversationalPipeline\n",
    "- FeatureExtractionPipeline\n",
    "- FillMaskPipeline\n",
    "- QuestionAnsweringPipeline\n",
    "- SummarizationPipeline\n",
    "- TextClassificationPipeline\n",
    "- TextGenerationPipeline\n",
    "- TokenClassificationPipeline\n",
    "- TranslationPipeline\n",
    "- ZeroShotClassificationPipeline\n",
    "- Text2TextGenerationPipeline\n",
    "- TableQuestionAnsweringPipeline\n",
    "\n",
    "function: `pipeline`\n",
    "\n",
    "- \"feature-extraction\": will return a FeatureExtractionPipeline.\n",
    "- \"sentiment-analysis\": will return a TextClassificationPipeline.\n",
    "- \"ner\": will return a TokenClassificationPipeline.\n",
    "- \"question-answering\": will return a QuestionAnsweringPipeline.\n",
    "- \"fill-mask\": will return a FillMaskPipeline.\n",
    "- \"summarization\": will return a SummarizationPipeline.\n",
    "- \"translation_xx_to_yy\": will return a TranslationPipeline.\n",
    "- \"text2text-generation\": will return a Text2TextGenerationPipeline.\n",
    "- \"text-generation\": will return a TextGenerationPipeline.\n",
    "- \"zero-shot-classification:: will return a ZeroShotClassificationPipeline.\n",
    "- \"conversation\": will return a ConversationalPipeline.\n",
    "\n",
    "model will be automatically downloaded in `~/.cache/huggingface/`"
   ]
  },
  {
   "cell_type": "code",
   "execution_count": null,
   "metadata": {},
   "outputs": [],
   "source": [
    "from transformers import pipeline\n",
    "classifier = pipeline(\"sentiment-analysis\", framework=\"pt\")"
   ]
  },
  {
   "cell_type": "code",
   "execution_count": null,
   "metadata": {},
   "outputs": [],
   "source": [
    "sentences = [\n",
    "    \"We are very happy to show you the 🤗 Transformers library.\",\n",
    "    \"I'll go to Apple Store.\",\n",
    "    \"This model covers a lot area. But, I won't use it. Since it is too hard to use.\"\n",
    "]"
   ]
  },
  {
   "cell_type": "code",
   "execution_count": null,
   "metadata": {},
   "outputs": [],
   "source": [
    "results = classifier(sentences)\n",
    "for res in results:\n",
    "    print(f\"label: {res['label']}, with score: {round(res['score'], 4)}\")"
   ]
  },
  {
   "cell_type": "markdown",
   "metadata": {},
   "source": [
    "# Fine-Tuning with Custom Dataset\n",
    "\n",
    "https://huggingface.co/transformers/custom_datasets.html#qa-squad\n"
   ]
  },
  {
   "cell_type": "markdown",
   "metadata": {},
   "source": [
    "## Dataset\n",
    "\n",
    "\n",
    "- 제목(title)\n",
    "- 본문의 카테고리(source)\n",
    "- 본문(context)\n",
    "- 질문 번호(id)\n",
    "- 육하원칙(classtype)\n",
    "- 질문(question)\n",
    "- 정답의 시작위치(answer_start)\n",
    "- 정답(text)"
   ]
  },
  {
   "cell_type": "code",
   "execution_count": 185,
   "metadata": {},
   "outputs": [
    {
     "name": "stdout",
     "output_type": "stream",
     "text": [
      "/home/simonjisu/code/data/AIhub/QA/ko_nia_normal_squad_all.json\n",
      "/home/simonjisu/code/data/AIhub/QA/ko_nia_clue0529_squad_all.json\n",
      "/home/simonjisu/code/data/AIhub/QA/ko_nia_noanswer_squad_all.json\n"
     ]
    }
   ],
   "source": [
    "import json\n",
    "from tqdm import tqdm\n",
    "from pathlib import Path\n",
    "repo_path = Path().absolute().parent\n",
    "data_path = repo_path.parent / \"data\" / \"AIhub\" / \"QA\"\n",
    "for p in data_path.glob(\"*all.json\"):\n",
    "    print(p)"
   ]
  },
  {
   "cell_type": "code",
   "execution_count": 35,
   "metadata": {},
   "outputs": [],
   "source": [
    "n_split = 10\n",
    "processd_length = []\n",
    "for path in data_path.glob(\"*all.json\"):\n",
    "    if path.name == \"ko_nia_normal_squad_all.json\":\n",
    "        state = \"train\"\n",
    "    elif path.name == \"ko_nia_clue0529_squad_all.json\":\n",
    "        state = \"val\"\n",
    "    else:\n",
    "        continue\n",
    "    # read\n",
    "    with open(path, 'rb') as f:\n",
    "        squad_dict = json.load(f)\n",
    "    total_examples = len(squad_dict[\"data\"])\n",
    "    k = len(squad_dict[\"data\"]) // n_split\n",
    "    processed = 0\n",
    "    \n",
    "    for i in range(n_split):\n",
    "        p = data_path / f\"{state}_{i}.json\"\n",
    "        temp_data = dict(\n",
    "            creator=squad_dict[\"creator\"], \n",
    "            version=squad_dict[\"version\"], \n",
    "            data=squad_dict[\"data\"][i:i+k]\n",
    "        )\n",
    "        processed += k\n",
    "        with open(p, \"w\") as f:\n",
    "            json.dump(temp_data, f)\n",
    "            \n",
    "    if processed < total_examples:\n",
    "        p = data_path / f\"{state}_{i+1}.json\"\n",
    "        temp_data = dict(\n",
    "            creator=squad_dict[\"creator\"], \n",
    "            version=squad_dict[\"version\"], \n",
    "            data=squad_dict[\"data\"][processed:]\n",
    "        )\n",
    "        with open(p, \"w\") as f:\n",
    "            json.dump(temp_data, f)"
   ]
  },
  {
   "cell_type": "code",
   "execution_count": 7,
   "metadata": {},
   "outputs": [
    {
     "data": {
      "text/plain": [
       "47314"
      ]
     },
     "execution_count": 7,
     "metadata": {},
     "output_type": "execute_result"
    }
   ],
   "source": [
    "len(squad_dict[\"data\"])"
   ]
  },
  {
   "cell_type": "code",
   "execution_count": 33,
   "metadata": {},
   "outputs": [],
   "source": [
    "path = data_path / f\"ko_nia_normal_squad_{10}.json\"\n",
    "with open(path, 'rb') as f:\n",
    "    squad_dict = json.load(f)"
   ]
  },
  {
   "cell_type": "markdown",
   "metadata": {},
   "source": [
    "## Explore Datset"
   ]
  },
  {
   "cell_type": "code",
   "execution_count": 3,
   "metadata": {},
   "outputs": [],
   "source": [
    "def read_squad(path):\n",
    "    path = Path(path)\n",
    "    with open(path, 'rb') as f:\n",
    "        squad_dict = json.load(f)\n",
    "\n",
    "    contexts = []\n",
    "    questions = []\n",
    "    answers = []\n",
    "    for group in tqdm(squad_dict[\"data\"], total=len(squad_dict[\"data\"]), desc=\"Reading Dataset\"):\n",
    "        for paragraph in group['paragraphs']:\n",
    "            context = paragraph['context']\n",
    "            for qa in paragraph['qas']:\n",
    "                question = qa['question']\n",
    "                for answer in qa['answers']:\n",
    "                    contexts.append(context)\n",
    "                    questions.append(question)\n",
    "                    answers.append(answer)\n",
    "\n",
    "    return contexts, questions, answers"
   ]
  },
  {
   "cell_type": "code",
   "execution_count": 4,
   "metadata": {},
   "outputs": [
    {
     "name": "stderr",
     "output_type": "stream",
     "text": [
      "Reading Dataset: 100%|██████████| 47314/47314 [00:00<00:00, 444901.71it/s]\n",
      "Reading Dataset: 100%|██████████| 34500/34500 [00:00<00:00, 548757.41it/s]\n"
     ]
    }
   ],
   "source": [
    "train_file = \"ko_nia_normal_squad_all.json\"\n",
    "train_path = data_path / train_file\n",
    "val_file = \"ko_nia_clue0529_squad_all.json\"\n",
    "val_path = data_path / val_file\n",
    "\n",
    "train_contexts, train_questions, train_answers = read_squad(train_path)\n",
    "val_contexts, val_questions, val_answers = read_squad(val_path)"
   ]
  },
  {
   "cell_type": "code",
   "execution_count": 5,
   "metadata": {},
   "outputs": [
    {
     "name": "stdout",
     "output_type": "stream",
     "text": [
      "243425 96663\n"
     ]
    }
   ],
   "source": [
    "print(len(train_contexts), len(val_contexts))"
   ]
  },
  {
   "cell_type": "markdown",
   "metadata": {},
   "source": [
    "Let's see some samples"
   ]
  },
  {
   "cell_type": "code",
   "execution_count": 6,
   "metadata": {},
   "outputs": [
    {
     "name": "stdout",
     "output_type": "stream",
     "text": [
      "\u001b[1mContext: \u001b[0m\n",
      "댓글 조작 의혹 사건으로 구속된 김모(48·닉네임 드루킹)씨는 그동안 페이스북을 통해 추미애 더불어민주당 대표, 포털사이트 네이버, 문재인 대통령 핵심 지지자들인 ‘문꿀오소리’ 등을 싸잡아 비판했다. 이밖에도 여론 전문가, 남북 관계 전문가처럼 행세하면서 정치권에 훈수를 두는 일도 마다하지 않았다. 김씨는 자신의 페이스북 계정 ‘Sj Kim(드루킹)’을 통해 \u001b[1m\u001b[31m지난 1월 26일\u001b[0m “그동안 그렇게 하라고 해도 안하더니 네이버에서 드디어 계정 접속관리하고 기사 웹페이지를 손봤다”며 “기존 매크로 같은 것은 이틀 전부터 막혀서 안 될 것”이라고 언급했다. 매크로를 이용한 댓글 추천 조작 방법을 김씨가 명백하게 알고 있었다는 점을 뒷받침하는 글이라는 분석이 많다. 김씨는 이 글에서 추 대표도 비판했다. 그는 “청와대가 압력을 넣어 네이버 웹페이지를 개편하게 하면 뭘 하느냐”며 “‘문재앙’ 단어를 프레임화한 것은 그걸 기사화시킨 추 대표의 작품”이라고 지적했다. 이어 “지지자들은 열심히 댓글 방어하고 있는데 추 대표는 휴가 가셨다죠? 민주당의 앞날이 암울하다”고 썼다. ‘문꿀오소리’에 대한 혹평도 이어졌다. 김씨는 지난해 12월 페이스북 글에서 “자유한국당 댓글부대는 문 대통령 관련 기사에 악플을 단 뒤 순식간에 7000∼8000개의 추천을 찍는 화력”이라며 “문꿀오소리나 달빛기사단(문 대통령 핵심 지지층)은 기껏해야 그 반의 반에도 미치지 못한다”고 했다. 그러면서 “지금까지 문재인 지지자들은 온라인을 완전히 장악하고 있다고 오만에 빠져 있었다”고 썼다. 여론과 남북 관계에 대한 ‘점잖은’ 훈수도 빼놓지 않았다. 김씨는 1월 초 페이스북에서 “온라인 여론 점유율이 대통령 지지율이라고 여러 차례 이야기를 해도 정치인은 알아듣지 못한다”며 “아직도 오프라인 세상이 여론을 좌우한다고 생각하고 있다”고 했다. 이어 “통일은 반드시 이뤄야만 할 숙원”이라며 “그럴 때는 북한에 대한 발언도 예의있게 해야 한다. 요즘 20, 30대는 적대감 일색이라 걱정”이라고 했다. 하지만 김씨는 이 글을 올린 직후인 지난 1월 17일 평창 동계올림픽 여자 아이스하키 남북 단일팀 기사의 비판 댓글에 ‘공감’ 클릭 수를 늘려 구속됐다. 김씨가 집중적으로 ‘공감’을 누른 댓글은 ‘땀 흘린 선수들이 무슨 죄냐’ ‘청와대 여당 다 실수하는 거다. 국민들 뿔났다’ 등 대부분 단일팀 구성을 비판하는 내용이었다. 김씨는 측근들에게는 황당한 언급도 한 것으로 알려졌다. 김씨가 운영한 ‘경제적 공진화 모임’ 회원 중 한 명은 교통방송라디오에 출연해 “김씨가 ‘문 대통령이나 청와대 핵심 멤버들이 제수이트(음모론에 나오는 가톨릭 사제집단)이다’ ‘노무현 전 대통령 죽음에 문 대통령이 관여했다’고 말했다”고 전했다. 또 “안희정 전 충남지사가 낙마하자 ‘청와대의 제수이트가 안 지사를 낙마시켰다’고 말했다”고도 했다. 문동성 기자 theMoon@kmib.co.kr 사진=최현규 기자\n",
      "\u001b[1mQuestion: \u001b[0m\n",
      "김씨는 언제 자신의 페이스북 계정 ‘Sj Kim(드루킹)’을 통해 “기존 매크로 같은 것은 이틀 전부터 막혀서 안 될 것”이라고 언급했나?\n",
      "\u001b[1mAnswer: \u001b[0m\n",
      "  Start: 202, End: 211\n",
      "\n",
      "\u001b[1mContext: \u001b[0m\n",
      "경기도 수원 광교신도시 내 최대 규모의 개발사업인 '에콘힐(Econ hill·조감도)' 조성사업이 결국 무산됐다. 경기도시공사는 25일 오전 임시 이사회를 열고 시행사인 에콘힐의 자산유동화기업어음(ABCP·부동산 관련 자산을 담보로 발행되는 기업어음) 3700억원의 만기연장에 동의하지 않기로 최종 의결했다. 이에 따라 에콘힐은 토지계약 해지 등 파산절차를 밟게 된다. 박순호 도시공사 홍보처장은 \"시행사인 에콘힐측이 자금확보 등 사업정상화 계획을 밝히지 않아 어음의 만기를 연장하지 않기로 했다\"고 말했다. 에콘힐은 광교신도시 남측 42번 국도변 상업용지와 주상복합용지(C3, C4) 11만7000여㎡에 지하 5층·지상 68층의 주상복합건물 5개 동을 비롯해 문화·유통·업무 복합단지를 조성하는 사업이다. 토지비 7900억원을 포함해 총 사업비가 2조1000억원에 달한다. 대우건설·산업은행이 중심이 돼 \u001b[1m\u001b[31m2009년 3월\u001b[0m 특수목적법인(SPC) 에콘힐㈜을 설립, 부지 소유주인 경기도시공사와 7900억원에 토지매매계약을 체결했다. 이후 도시공사가 제공한 토지중도금반환채권을 담보로 산업은행에서 3700억원을 대출받아 중도금을 냈지만 부동산 경기침체 등의 영향으로 추가 재원 확보에 어려움을 겪어왔다. 에콘힐측은 전체 3개 블록 가운데 1곳을 우선 개발하는 방안과 할부이자면제 , 상업시설 대물변제 등을 요구한 것으로 알려졌다. 하지만 도시공사는 계약원칙에 어긋나며 다른 매수자와 형평성 문제 등을 우려해 받아들이지 않았다. 이와 관련 광교신도시 입주민들은 경기도와 경기도시공사에 에콘힐 사업 무산에 따른 대책마련을 촉구했다. 광교신도시 입주자 총연합회는 \"에콘힐 사업은 공사의 과도한 지분참여, 사기업의 과다한 요구, 부동산경기 예측실패 등으로 이미 예고된 재앙이었다\"며 \"사업 무산은 경기도와 경기도시공사의 무능력과 무사안일 탓\"이라고 비판했다. 총연합회는 \"에콘힐이 무산돼 공사측이 해당 부지를 오피스텔 용지로 매각할 경우 주거밀도가 높아지는 등 광교신도시는 명품신도시가 아닌 베드타운으로 전락할 것\"이라고 우려했다. 이에 대해 도시공사 관계자는 \"태스크포스팀을 구성해 3개월 이내에 재공모 계획을 발표할 예정\"이라며 \"주상복합, 상업시설, 백화점 등 기존 개발 콘셉트는 그대로 유지할 것\"이라고 말했다. 공사는 해당 부지에 대해 지주공동사업(경기도시공사가 토지를 제공하고 건설사는 건설비만 부담하는 방식)을 추진하거나 아예 일반매각하는 방안 등을 검토 중이다.\n",
      "\u001b[1mQuestion: \u001b[0m\n",
      "에콘힐(주)는 언제 설립되었어?\n",
      "\u001b[1mAnswer: \u001b[0m\n",
      "  Start: 451, End: 459\n",
      "\n"
     ]
    }
   ],
   "source": [
    "import termcolor\n",
    "\n",
    "for idx in np.random.randint(0, len(train_contexts), size=(2,)):\n",
    "    txt = train_answers[idx][\"text\"]\n",
    "    context = train_contexts[idx].split(txt)\n",
    "    context.insert(1, termcolor.colored(txt, \"red\", attrs=[\"bold\"]))\n",
    "    answer_end = train_answers[idx]['answer_start'] + len(train_answers[idx]['text'])  # not included like python range\n",
    "    print(termcolor.colored(\"Context: \", attrs=[\"bold\"]))\n",
    "    print(\"\".join(context))\n",
    "    print(termcolor.colored(\"Question: \", attrs=[\"bold\"]))\n",
    "    print(train_questions[idx])\n",
    "    print(termcolor.colored(\"Answer: \", attrs=[\"bold\"]))\n",
    "    print(f\"  Start: {train_answers[idx]['answer_start']}, End: {answer_end}\")\n",
    "    print()"
   ]
  },
  {
   "cell_type": "code",
   "execution_count": 7,
   "metadata": {},
   "outputs": [],
   "source": [
    "def add_end_idx(answers, contexts):\n",
    "    for idx, (answer, context) in enumerate(zip(answers, contexts)):\n",
    "        gold_text = answer['text']\n",
    "        start_idx = answer['answer_start']\n",
    "        end_idx = start_idx + len(gold_text)\n",
    "\n",
    "        # sometimes squad answers are off by a character or two – fix this\n",
    "        if context[start_idx:end_idx] == gold_text:\n",
    "            answer['answer_end'] = end_idx\n",
    "        elif context[start_idx-1:end_idx-1] == gold_text:\n",
    "            answer['answer_start'] = start_idx - 1\n",
    "            answer['answer_end'] = end_idx - 1     # When the gold label is off by one character\n",
    "            print(f\"type1: {idx}\")\n",
    "        elif context[start_idx-2:end_idx-2] == gold_text:\n",
    "            answer['answer_start'] = start_idx - 2\n",
    "            answer['answer_end'] = end_idx - 2     # When the gold label is off by two characters\n",
    "            print(f\"type2: {idx}\")"
   ]
  },
  {
   "cell_type": "code",
   "execution_count": 8,
   "metadata": {},
   "outputs": [],
   "source": [
    "add_end_idx(train_answers, train_contexts)\n",
    "add_end_idx(val_answers, val_contexts)"
   ]
  },
  {
   "cell_type": "code",
   "execution_count": 9,
   "metadata": {},
   "outputs": [],
   "source": [
    "from transformers import ElectraModel, ElectraTokenizer, ElectraTokenizerFast, ElectraForQuestionAnswering\n",
    "\n",
    "tokenizer = ElectraTokenizerFast.from_pretrained(\"monologg/koelectra-base-v3-discriminator\")  \n",
    "# Fast 를 써야 ._encodings 속성이 생긴다. \n",
    "# 안에는 Encoding class로 된 데이터가 list롤 있음\n",
    "# train_encodings._encodings[0]\n",
    "# Encoding(num_tokens=365, attributes=[ids, type_ids, tokens, offsets, attention_mask, special_tokens_mask, overflowing])"
   ]
  },
  {
   "cell_type": "code",
   "execution_count": 10,
   "metadata": {},
   "outputs": [],
   "source": [
    "sample_len = 5\n",
    "train_encodings = tokenizer(\n",
    "    train_contexts[:sample_len], train_questions[:sample_len], padding = \"max_length\",\n",
    "    max_length=512, truncation=True\n",
    ")\n",
    "val_encodings = tokenizer(\n",
    "    val_contexts[:sample_len], val_questions[:sample_len], padding = \"max_length\",\n",
    "    max_length=512, truncation=True\n",
    ")"
   ]
  },
  {
   "cell_type": "code",
   "execution_count": 11,
   "metadata": {},
   "outputs": [],
   "source": [
    "def add_token_positions(encodings, answers):\n",
    "    start_positions = []\n",
    "    end_positions = []\n",
    "    for i in range(len(answers)):\n",
    "        start_positions.append(encodings.char_to_token(i, answers[i]['answer_start']))  # char_to_token: 문자가 몇 번째 토큰에 있는지 확인\n",
    "        end_positions.append(encodings.char_to_token(i, answers[i]['answer_end'] - 1))\n",
    "\n",
    "        # if start position is None, the answer passage has been truncated\n",
    "        if start_positions[-1] is None:\n",
    "            start_positions[-1] = tokenizer.model_max_length\n",
    "        if end_positions[-1] is None:\n",
    "            end_positions[-1] = tokenizer.model_max_length\n",
    "\n",
    "    encodings.update({'start_positions': start_positions, 'end_positions': end_positions})\n",
    "\n",
    "add_token_positions(train_encodings, train_answers[:sample_len])\n",
    "add_token_positions(val_encodings, val_answers[:sample_len])"
   ]
  },
  {
   "cell_type": "code",
   "execution_count": 12,
   "metadata": {},
   "outputs": [],
   "source": [
    "class SquadDataset(torch.utils.data.Dataset):\n",
    "    def __init__(self, encodings):\n",
    "        self.encodings = encodings\n",
    "\n",
    "    def __getitem__(self, idx):\n",
    "        return {key: torch.tensor(val[idx]) for key, val in self.encodings.items()}\n",
    "\n",
    "    def __len__(self):\n",
    "        return len(self.encodings.input_ids)\n",
    "\n",
    "train_dataset = SquadDataset(train_encodings)\n",
    "val_dataset = SquadDataset(val_encodings)"
   ]
  },
  {
   "cell_type": "code",
   "execution_count": 13,
   "metadata": {},
   "outputs": [],
   "source": [
    "class ARGS:\n",
    "    def __init__(self, **kwargs):\n",
    "        self.__dict__.update(kwargs)\n",
    "        \n",
    "args_dict = {\n",
    "  \"task\": \"korquad\",\n",
    "  \"data_dir\": \"data\",\n",
    "  \"ckpt_dir\": \"ckpt\",\n",
    "  \"train_file\": \"KorQuAD_v1.0_train.json\",\n",
    "  \"predict_file\": \"KorQuAD_v1.0_dev.json\",\n",
    "  \"threads\": 4,\n",
    "  \"version_2_with_negative\": False,\n",
    "  \"null_score_diff_threshold\": 0.0,\n",
    "  \"max_seq_length\": 512,\n",
    "  \"doc_stride\": 128,\n",
    "  \"max_query_length\": 64,\n",
    "  \"max_answer_length\": 30,\n",
    "  \"n_best_size\": 20,\n",
    "  \"verbose_logging\": True,\n",
    "  \"overwrite_output_dir\": True,\n",
    "  \"evaluate_during_training\": True,\n",
    "  \"eval_all_checkpoints\": True,\n",
    "  \"save_optimizer\": False,\n",
    "  \"do_lower_case\": False,\n",
    "  \"do_train\": True,\n",
    "  \"do_eval\": True,\n",
    "  \"num_train_epochs\": 7,\n",
    "  \"weight_decay\": 0.0,\n",
    "  \"gradient_accumulation_steps\": 1,\n",
    "  \"adam_epsilon\": 1e-8,\n",
    "  \"warmup_proportion\": 0,\n",
    "  \"max_steps\": -1,\n",
    "  \"max_grad_norm\": 1.0,\n",
    "  \"no_cuda\": False,\n",
    "  \"model_type\": \"koelectra-base-v3\",\n",
    "  \"model_name_or_path\": \"monologg/koelectra-base-v3-discriminator\",\n",
    "  \"output_dir\": \"koelectra-base-v3-korquad-ckpt\",\n",
    "  \"seed\": 42,\n",
    "  \"train_batch_size\": 8,\n",
    "  \"eval_batch_size\": 32,\n",
    "  \"logging_steps\": 1000,\n",
    "  \"save_steps\": 1000,\n",
    "  \"learning_rate\": 5e-5\n",
    "}\n",
    "     \n",
    "args = ARGS(**args_dict)"
   ]
  },
  {
   "cell_type": "code",
   "execution_count": 14,
   "metadata": {},
   "outputs": [
    {
     "name": "stderr",
     "output_type": "stream",
     "text": [
      "Some weights of the model checkpoint at monologg/koelectra-base-v3-discriminator were not used when initializing ElectraForQuestionAnswering: ['discriminator_predictions.dense.weight', 'discriminator_predictions.dense.bias', 'discriminator_predictions.dense_prediction.weight', 'discriminator_predictions.dense_prediction.bias']\n",
      "- This IS expected if you are initializing ElectraForQuestionAnswering from the checkpoint of a model trained on another task or with another architecture (e.g. initializing a BertForSequenceClassification model from a BertForPreTraining model).\n",
      "- This IS NOT expected if you are initializing ElectraForQuestionAnswering from the checkpoint of a model that you expect to be exactly identical (initializing a BertForSequenceClassification model from a BertForSequenceClassification model).\n",
      "Some weights of ElectraForQuestionAnswering were not initialized from the model checkpoint at monologg/koelectra-base-v3-discriminator and are newly initialized: ['qa_outputs.weight', 'qa_outputs.bias']\n",
      "You should probably TRAIN this model on a down-stream task to be able to use it for predictions and inference.\n"
     ]
    }
   ],
   "source": [
    "from transformers import ElectraForQuestionAnswering, ElectraConfig\n",
    "config = ElectraConfig.from_pretrained(args.model_name_or_path)\n",
    "model = ElectraForQuestionAnswering.from_pretrained(args.model_name_or_path, config=config)"
   ]
  },
  {
   "cell_type": "code",
   "execution_count": 15,
   "metadata": {},
   "outputs": [],
   "source": [
    "from torch.utils.data import DataLoader\n",
    "from transformers import AdamW\n",
    "\n",
    "device = \"cpu\"\n",
    "\n",
    "model.to(device)\n",
    "model.train()\n",
    "\n",
    "train_loader = DataLoader(train_dataset, batch_size=args.train_batch_size, shuffle=True)\n",
    "\n",
    "optim = AdamW(model.parameters(), lr=5e-5)\n",
    "\n",
    "for batch in train_loader:\n",
    "    optim.zero_grad()\n",
    "    input_ids = batch['input_ids'].to(device)\n",
    "    attention_mask = batch['attention_mask'].to(device)\n",
    "    start_positions = batch['start_positions'].to(device)\n",
    "    end_positions = batch['end_positions'].to(device)\n",
    "    outputs = model(input_ids, attention_mask=attention_mask, start_positions=start_positions, end_positions=end_positions)\n",
    "    loss = outputs[0]\n",
    "    loss.backward()\n",
    "    optim.step()\n",
    "    break"
   ]
  },
  {
   "cell_type": "code",
   "execution_count": 16,
   "metadata": {},
   "outputs": [
    {
     "name": "stdout",
     "output_type": "stream",
     "text": [
      "Inputs torch.Size([5, 512])\n",
      "Start Tokens torch.Size([5])\n",
      "End Tokens torch.Size([5])\n",
      "Loss tensor(6.0529, grad_fn=<DivBackward0>)\n",
      "Start Logits torch.Size([5, 512])\n",
      "End Logits torch.Size([5, 512])\n"
     ]
    }
   ],
   "source": [
    "print(\"Inputs\", input_ids.size())\n",
    "print(\"Start Tokens\", start_positions.size())\n",
    "print(\"End Tokens\", end_positions.size())\n",
    "print(\"Loss\", outputs.loss)\n",
    "print(\"Start Logits\", outputs.start_logits.size())\n",
    "print(\"End Logits\", outputs.end_logits.size())"
   ]
  },
  {
   "cell_type": "markdown",
   "metadata": {},
   "source": [
    "## Is there more Efficient way???..."
   ]
  },
  {
   "cell_type": "code",
   "execution_count": 183,
   "metadata": {},
   "outputs": [],
   "source": [
    "from transformers import squad_convert_examples_to_features\n",
    "from transformers.data.processors.squad import SquadResult, SquadV1Processor, SquadV2Processor"
   ]
  },
  {
   "cell_type": "code",
   "execution_count": 186,
   "metadata": {},
   "outputs": [
    {
     "name": "stderr",
     "output_type": "stream",
     "text": [
      "100%|██████████| 5/5 [00:00<00:00, 314.43it/s]\n"
     ]
    }
   ],
   "source": [
    "processor = SquadV2Processor()\n",
    "examples = processor.get_train_examples(data_dir=data_path, filename=\"test.json\")  # examples은 먼저 whitespace 기반으로 토크나이징함"
   ]
  },
  {
   "cell_type": "code",
   "execution_count": 187,
   "metadata": {},
   "outputs": [],
   "source": [
    "from transformers import ElectraTokenizer, ElectraForQuestionAnswering\n",
    "tokenizer = ElectraTokenizer.from_pretrained(\"monologg/koelectra-base-v3-discriminator\")"
   ]
  },
  {
   "cell_type": "code",
   "execution_count": 6,
   "metadata": {},
   "outputs": [
    {
     "name": "stderr",
     "output_type": "stream",
     "text": [
      "convert squad examples to features: 100%|██████████| 25/25 [00:00<00:00, 84.96it/s]\n",
      "add example index and unique id: 100%|██████████| 25/25 [00:00<00:00, 67216.41it/s]\n"
     ]
    }
   ],
   "source": [
    "features, train_dataset = squad_convert_examples_to_features(\n",
    "    examples=examples,\n",
    "    tokenizer=tokenizer,\n",
    "    max_seq_length=512,\n",
    "    doc_stride=128,\n",
    "    max_query_length=64,\n",
    "    is_training=True,\n",
    "    return_dataset=\"pt\",\n",
    "    threads=4,\n",
    ")"
   ]
  },
  {
   "cell_type": "code",
   "execution_count": 7,
   "metadata": {},
   "outputs": [
    {
     "name": "stdout",
     "output_type": "stream",
     "text": [
      "26 30\n"
     ]
    }
   ],
   "source": [
    "a = features[1]\n",
    "print(a.start_position, a.end_position)"
   ]
  },
  {
   "cell_type": "code",
   "execution_count": 8,
   "metadata": {},
   "outputs": [
    {
     "name": "stdout",
     "output_type": "stream",
     "text": [
      "0 [CLS]\n",
      "1 '\n",
      "2 국제\n",
      "3 청소년\n",
      "4 ##포\n",
      "5 ##럼\n",
      "6 '\n",
      "7 이\n",
      "8 열리\n",
      "9 ##는\n",
      "10 때\n",
      "11 ##는\n",
      "12 ?\n",
      "13 [SEP]\n",
      "14 한국\n",
      "15 ##청\n",
      "16 ##소년단\n",
      "17 ##체\n",
      "18 ##협\n",
      "19 ##의\n",
      "20 ##회\n",
      "21 ##와\n",
      "22 여성\n",
      "23 ##가족\n",
      "24 ##부\n",
      "25 ##는\n",
      "26 22\n",
      "27 ##일\n",
      "28 ##부터\n",
      "29 28\n",
      "30 ##일\n",
      "31 ##까\n",
      "32 ##지\n",
      "33 서울\n",
      "34 ##과\n"
     ]
    }
   ],
   "source": [
    "for i, t in enumerate(a.tokens[:35]):\n",
    "    print(i, t)"
   ]
  },
  {
   "cell_type": "code",
   "execution_count": 178,
   "metadata": {},
   "outputs": [],
   "source": [
    "class ARGS:\n",
    "    def __init__(self, **kwargs):\n",
    "        self.__dict__.update(kwargs)\n",
    "        \n",
    "args_dict = {\n",
    "  \"task\": \"korquad\",\n",
    "  \"data_dir\": \"data\",\n",
    "  \"ckpt_dir\": \"ckpt\",\n",
    "  \"train_file\": \"KorQuAD_v1.0_train.json\",\n",
    "  \"predict_file\": \"KorQuAD_v1.0_dev.json\",\n",
    "  \"threads\": 4,\n",
    "  \"version_2_with_negative\": False,\n",
    "  \"null_score_diff_threshold\": 0.0,\n",
    "  \"max_seq_length\": 512,\n",
    "  \"doc_stride\": 128,\n",
    "  \"max_query_length\": 64,\n",
    "  \"max_answer_length\": 30,\n",
    "  \"n_best_size\": 20,\n",
    "  \"verbose_logging\": True,\n",
    "  \"overwrite_output_dir\": True,\n",
    "  \"evaluate_during_training\": True,\n",
    "  \"eval_all_checkpoints\": True,\n",
    "  \"save_optimizer\": False,\n",
    "  \"do_lower_case\": False,\n",
    "  \"do_train\": True,\n",
    "  \"do_eval\": True,\n",
    "  \"num_train_epochs\": 7,\n",
    "  \"weight_decay\": 0.0,\n",
    "  \"gradient_accumulation_steps\": 1,\n",
    "  \"adam_epsilon\": 1e-8,\n",
    "  \"warmup_proportion\": 0,\n",
    "  \"max_steps\": -1,\n",
    "  \"max_grad_norm\": 1.0,\n",
    "  \"no_cuda\": False,\n",
    "  \"model_type\": \"koelectra-base-v3\",\n",
    "  \"model_name_or_path\": \"monologg/koelectra-base-v3-discriminator\",\n",
    "  \"output_dir\": \"koelectra-base-v3-korquad-ckpt\",\n",
    "  \"seed\": 42,\n",
    "  \"train_batch_size\": 8,\n",
    "  \"eval_batch_size\": 32,\n",
    "  \"logging_steps\": 1000,\n",
    "  \"save_steps\": 1000,\n",
    "  \"learning_rate\": 5e-5\n",
    "}\n",
    "     \n",
    "args = ARGS(**args_dict)\n",
    "\n",
    "def tolist(tensor):\n",
    "    return tensor.detach().cpu().tolist()"
   ]
  },
  {
   "cell_type": "code",
   "execution_count": 179,
   "metadata": {},
   "outputs": [
    {
     "name": "stderr",
     "output_type": "stream",
     "text": [
      "Some weights of the model checkpoint at monologg/koelectra-base-v3-discriminator were not used when initializing ElectraForQuestionAnswering: ['discriminator_predictions.dense.weight', 'discriminator_predictions.dense.bias', 'discriminator_predictions.dense_prediction.weight', 'discriminator_predictions.dense_prediction.bias']\n",
      "- This IS expected if you are initializing ElectraForQuestionAnswering from the checkpoint of a model trained on another task or with another architecture (e.g. initializing a BertForSequenceClassification model from a BertForPreTraining model).\n",
      "- This IS NOT expected if you are initializing ElectraForQuestionAnswering from the checkpoint of a model that you expect to be exactly identical (initializing a BertForSequenceClassification model from a BertForSequenceClassification model).\n",
      "Some weights of ElectraForQuestionAnswering were not initialized from the model checkpoint at monologg/koelectra-base-v3-discriminator and are newly initialized: ['qa_outputs.weight', 'qa_outputs.bias']\n",
      "You should probably TRAIN this model on a down-stream task to be able to use it for predictions and inference.\n"
     ]
    }
   ],
   "source": [
    "from transformers import ElectraForQuestionAnswering, ElectraConfig\n",
    "config = ElectraConfig.from_pretrained(args.model_name_or_path)\n",
    "model = ElectraForQuestionAnswering.from_pretrained(args.model_name_or_path, config=config)"
   ]
  },
  {
   "cell_type": "code",
   "execution_count": 180,
   "metadata": {},
   "outputs": [],
   "source": [
    "device = \"cpu\""
   ]
  },
  {
   "cell_type": "code",
   "execution_count": 12,
   "metadata": {},
   "outputs": [],
   "source": [
    "from torch.utils.data import DataLoader\n",
    "from transformers import AdamW, get_linear_schedule_with_warmup\n",
    "\n",
    "train_dataloader = DataLoader(train_dataset, shuffle=True, batch_size=args.train_batch_size)\n",
    "t_total = len(train_dataloader) // args.gradient_accumulation_steps * args.num_train_epochs\n",
    "no_decay = [\"bias\", \"LayerNorm.weight\"]\n",
    "optimizer_grouped_parameters = [\n",
    "    {\n",
    "        \"params\": [p for n, p in model.named_parameters() if not any(nd in n for nd in no_decay)],\n",
    "        \"weight_decay\": args.weight_decay,\n",
    "    },\n",
    "    {\"params\": [p for n, p in model.named_parameters() if any(nd in n for nd in no_decay)], \"weight_decay\": 0.0},\n",
    "]\n",
    "optimizer = AdamW(optimizer_grouped_parameters, lr=args.learning_rate, eps=args.adam_epsilon)\n",
    "scheduler = get_linear_schedule_with_warmup(\n",
    "    optimizer, num_warmup_steps=int(t_total * args.warmup_proportion), num_training_steps=t_total\n",
    ")\n",
    "\n",
    "global_step = 1\n",
    "epochs_trained = 0\n",
    "steps_trained_in_current_epoch = 0\n",
    "tr_loss, logging_loss = 0.0, 0.0\n",
    "model.zero_grad()"
   ]
  },
  {
   "cell_type": "code",
   "execution_count": 13,
   "metadata": {},
   "outputs": [],
   "source": [
    "model.to(device)\n",
    "model.train()\n",
    "for step, batch in enumerate(train_dataloader):\n",
    "    batch = tuple(t.to(device) for t in batch)\n",
    "\n",
    "    inputs = {\n",
    "        \"input_ids\": batch[0],\n",
    "        \"attention_mask\": batch[1],\n",
    "        \"token_type_ids\": batch[2],\n",
    "        \"start_positions\": batch[3],\n",
    "        \"end_positions\": batch[4],\n",
    "    }\n",
    "    break"
   ]
  },
  {
   "cell_type": "code",
   "execution_count": 14,
   "metadata": {},
   "outputs": [],
   "source": [
    "input_ids=inputs[\"input_ids\"]\n",
    "attention_mask=inputs[\"attention_mask\"]\n",
    "token_type_ids=inputs[\"token_type_ids\"]"
   ]
  },
  {
   "cell_type": "code",
   "execution_count": 15,
   "metadata": {},
   "outputs": [
    {
     "data": {
      "text/plain": [
       "torch.Size([8, 512, 768])"
      ]
     },
     "execution_count": 15,
     "metadata": {},
     "output_type": "execute_result"
    }
   ],
   "source": [
    "o = model.electra.forward(input_ids=input_ids, attention_mask=attention_mask, token_type_ids=token_type_ids)\n",
    "o.last_hidden_state.size()"
   ]
  },
  {
   "cell_type": "code",
   "execution_count": 16,
   "metadata": {},
   "outputs": [
    {
     "data": {
      "text/plain": [
       "torch.Size([8, 512, 2])"
      ]
     },
     "execution_count": 16,
     "metadata": {},
     "output_type": "execute_result"
    }
   ],
   "source": [
    "fin_o = model.qa_outputs(o.last_hidden_state)\n",
    "fin_o.size()"
   ]
  },
  {
   "cell_type": "code",
   "execution_count": 17,
   "metadata": {},
   "outputs": [
    {
     "name": "stdout",
     "output_type": "stream",
     "text": [
      "start predict tensor([257,  92,  26, 461,  28,  28, 468,  86])\n",
      "start answer tensor([  0, 108,  21,  87,  18,  16, 114,  37])\n",
      "start predict tensor([243,  64,  56, 178, 109, 109,  21, 333])\n",
      "start answer tensor([  0, 119,  31,  91,  18,  16, 116,  43])\n"
     ]
    }
   ],
   "source": [
    "outputs = model(**inputs)\n",
    "print(f\"start predict {outputs.start_logits.argmax(1)}\")\n",
    "print(f\"start answer {inputs['start_positions']}\")\n",
    "print(f\"start predict {outputs.end_logits.argmax(1)}\")\n",
    "print(f\"start answer {inputs['end_positions']}\")"
   ]
  },
  {
   "cell_type": "markdown",
   "metadata": {},
   "source": [
    "**eval phase**"
   ]
  },
  {
   "cell_type": "code",
   "execution_count": 188,
   "metadata": {},
   "outputs": [
    {
     "name": "stderr",
     "output_type": "stream",
     "text": [
      "100%|██████████| 5/5 [00:00<00:00, 608.93it/s]\n",
      "convert squad examples to features: 100%|██████████| 25/25 [00:00<00:00, 84.13it/s]\n",
      "add example index and unique id: 100%|██████████| 25/25 [00:00<00:00, 109113.01it/s]\n"
     ]
    }
   ],
   "source": [
    "eval_examples = processor.get_dev_examples(data_dir=data_path, filename=\"test.json\")  # examples은 먼저 whitespace 기반으로 토크나이징함\n",
    "eval_features, eval_dataset = squad_convert_examples_to_features(\n",
    "    examples=eval_examples,\n",
    "    tokenizer=tokenizer,\n",
    "    max_seq_length=512,\n",
    "    doc_stride=128,\n",
    "    max_query_length=64,\n",
    "    is_training=False,\n",
    "    return_dataset=\"pt\",\n",
    "    threads=4,\n",
    ")"
   ]
  },
  {
   "cell_type": "code",
   "execution_count": 189,
   "metadata": {},
   "outputs": [],
   "source": [
    "# for fea in eval_features:\n",
    "#     fea.unique_id -= 1000000000\n",
    "eval_dataloader = DataLoader(eval_dataset, shuffle=False, batch_size=args.train_batch_size)"
   ]
  },
  {
   "cell_type": "code",
   "execution_count": 37,
   "metadata": {},
   "outputs": [],
   "source": [
    "from copy import deepcopy"
   ]
  },
  {
   "cell_type": "code",
   "execution_count": 43,
   "metadata": {},
   "outputs": [
    {
     "name": "stdout",
     "output_type": "stream",
     "text": [
      "before: 1000000000 / 0\n",
      " c: 0 / p: -1 / e: 0\n",
      "after: 1000000000 / 0\n",
      "\n",
      "before: 1000000001 / 1\n",
      " c: 1 / p: 0 / e: 1\n",
      "after: 1000000001 / 1\n",
      "\n",
      "before: 1000000002 / 2\n",
      " c: 2 / p: 1 / e: 2\n",
      "after: 1000000002 / 2\n",
      "\n",
      "before: 1000000003 / 3\n",
      " c: 3 / p: 2 / e: 3\n",
      "after: 1000000003 / 3\n",
      "\n",
      "before: 1000000004 / 4\n",
      " c: 4 / p: 3 / e: 4\n",
      "after: 1000000004 / 4\n",
      "\n",
      "before: 1000000005 / 5\n",
      " c: 5 / p: 4 / e: 5\n",
      "after: 1000000005 / 5\n",
      "\n",
      "before: 1000000006 / 5\n",
      " c: 5 / p: 5 / e: 6\n",
      "after: 1000000006 / 5\n",
      "\n",
      "before: 1000000007 / 6\n",
      " c: 6 / p: 5 / e: 6\n",
      "after: 1000000007 / 6\n",
      "\n",
      "before: 1000000008 / 6\n",
      " c: 6 / p: 6 / e: 7\n",
      "after: 1000000008 / 6\n",
      "\n",
      "before: 1000000009 / 7\n",
      " c: 7 / p: 6 / e: 7\n",
      "after: 1000000009 / 7\n",
      "\n",
      "before: 1000000010 / 7\n",
      " c: 7 / p: 7 / e: 8\n",
      "after: 1000000010 / 7\n",
      "\n",
      "before: 1000000011 / 8\n",
      " c: 8 / p: 7 / e: 8\n",
      "after: 1000000011 / 8\n",
      "\n",
      "before: 1000000012 / 8\n",
      " c: 8 / p: 8 / e: 9\n",
      "after: 1000000012 / 8\n",
      "\n",
      "before: 1000000013 / 9\n",
      " c: 9 / p: 8 / e: 9\n",
      "after: 1000000013 / 9\n",
      "\n",
      "before: 1000000014 / 9\n",
      " c: 9 / p: 9 / e: 10\n",
      "after: 1000000014 / 9\n",
      "\n",
      "before: 1000000015 / 10\n",
      " c: 10 / p: 9 / e: 10\n",
      "after: 1000000015 / 10\n",
      "\n",
      "before: 1000000016 / 10\n",
      " c: 10 / p: 10 / e: 11\n",
      "after: 1000000016 / 10\n",
      "\n",
      "before: 1000000017 / 11\n",
      " c: 11 / p: 10 / e: 11\n",
      "after: 1000000017 / 11\n",
      "\n",
      "before: 1000000018 / 11\n",
      " c: 11 / p: 11 / e: 12\n",
      "after: 1000000018 / 11\n",
      "\n",
      "before: 1000000019 / 12\n",
      " c: 12 / p: 11 / e: 12\n",
      "after: 1000000019 / 12\n",
      "\n",
      "before: 1000000020 / 13\n",
      " c: 13 / p: 12 / e: 13\n",
      "after: 1000000020 / 13\n",
      "\n",
      "before: 1000000021 / 14\n",
      " c: 14 / p: 13 / e: 14\n",
      "after: 1000000021 / 14\n",
      "\n",
      "before: 1000000022 / 15\n",
      " c: 15 / p: 14 / e: 15\n",
      "after: 1000000022 / 15\n",
      "\n",
      "before: 1000000023 / 16\n",
      " c: 16 / p: 15 / e: 16\n",
      "after: 1000000023 / 16\n",
      "\n",
      "before: 1000000024 / 17\n",
      " c: 17 / p: 16 / e: 17\n",
      "after: 1000000024 / 17\n",
      "\n",
      "before: 1000000025 / 18\n",
      " c: 18 / p: 17 / e: 18\n",
      "after: 1000000025 / 18\n",
      "\n",
      "before: 1000000026 / 19\n",
      " c: 19 / p: 18 / e: 19\n",
      "after: 1000000026 / 19\n",
      "\n",
      "before: 1000000027 / 20\n",
      " c: 20 / p: 19 / e: 20\n",
      "after: 1000000027 / 20\n",
      "\n",
      "before: 1000000028 / 21\n",
      " c: 21 / p: 20 / e: 21\n",
      "after: 1000000028 / 21\n",
      "\n",
      "before: 1000000029 / 22\n",
      " c: 22 / p: 21 / e: 22\n",
      "after: 1000000029 / 22\n",
      "\n",
      "before: 1000000030 / 23\n",
      " c: 23 / p: 22 / e: 23\n",
      "after: 1000000030 / 23\n",
      "\n",
      "before: 1000000031 / 24\n",
      " c: 24 / p: 23 / e: 24\n",
      "after: 1000000031 / 24\n",
      "\n"
     ]
    }
   ],
   "source": [
    "features = deepcopy(eval_features)\n",
    "example_index = 0\n",
    "unique_id = 1000000000\n",
    "previous_example_index = -1 \n",
    "for fea in features:\n",
    "    print(f\"before: {fea.unique_id} / {fea.example_index}\")\n",
    "    fea.unique_id = unique_id\n",
    "    unique_id += 1\n",
    "    \n",
    "    current_example_index = fea.example_index\n",
    "    print(f\" c: {current_example_index} / p: {previous_example_index} / e: {example_index}\")\n",
    "    if previous_example_index == current_example_index:\n",
    "        fea.example_index = previous_example_index\n",
    "    else:\n",
    "        previous_example_index = fea.example_index\n",
    "        fea.example_index = example_index\n",
    "        example_index += 1\n",
    "    print(f\"after: {fea.unique_id} / {fea.example_index}\")\n",
    "    print()"
   ]
  },
  {
   "cell_type": "code",
   "execution_count": 44,
   "metadata": {},
   "outputs": [
    {
     "name": "stdout",
     "output_type": "stream",
     "text": [
      "before: 1000000000 / 0\n",
      " c: 0 / p: -1 / e: 25\n",
      "after: 1000000032 / 25\n",
      "\n",
      "before: 1000000001 / 1\n",
      " c: 1 / p: 0 / e: 26\n",
      "after: 1000000033 / 26\n",
      "\n",
      "before: 1000000002 / 2\n",
      " c: 2 / p: 1 / e: 27\n",
      "after: 1000000034 / 27\n",
      "\n",
      "before: 1000000003 / 3\n",
      " c: 3 / p: 2 / e: 28\n",
      "after: 1000000035 / 28\n",
      "\n",
      "before: 1000000004 / 4\n",
      " c: 4 / p: 3 / e: 29\n",
      "after: 1000000036 / 29\n",
      "\n",
      "before: 1000000005 / 5\n",
      " c: 5 / p: 4 / e: 30\n",
      "after: 1000000037 / 30\n",
      "\n",
      "before: 1000000006 / 5\n",
      " c: 5 / p: 5 / e: 31\n",
      "after: 1000000038 / 5\n",
      "\n",
      "before: 1000000007 / 6\n",
      " c: 6 / p: 5 / e: 31\n",
      "after: 1000000039 / 31\n",
      "\n",
      "before: 1000000008 / 6\n",
      " c: 6 / p: 6 / e: 32\n",
      "after: 1000000040 / 6\n",
      "\n",
      "before: 1000000009 / 7\n",
      " c: 7 / p: 6 / e: 32\n",
      "after: 1000000041 / 32\n",
      "\n",
      "before: 1000000010 / 7\n",
      " c: 7 / p: 7 / e: 33\n",
      "after: 1000000042 / 7\n",
      "\n",
      "before: 1000000011 / 8\n",
      " c: 8 / p: 7 / e: 33\n",
      "after: 1000000043 / 33\n",
      "\n",
      "before: 1000000012 / 8\n",
      " c: 8 / p: 8 / e: 34\n",
      "after: 1000000044 / 8\n",
      "\n",
      "before: 1000000013 / 9\n",
      " c: 9 / p: 8 / e: 34\n",
      "after: 1000000045 / 34\n",
      "\n",
      "before: 1000000014 / 9\n",
      " c: 9 / p: 9 / e: 35\n",
      "after: 1000000046 / 9\n",
      "\n",
      "before: 1000000015 / 10\n",
      " c: 10 / p: 9 / e: 35\n",
      "after: 1000000047 / 35\n",
      "\n",
      "before: 1000000016 / 10\n",
      " c: 10 / p: 10 / e: 36\n",
      "after: 1000000048 / 10\n",
      "\n",
      "before: 1000000017 / 11\n",
      " c: 11 / p: 10 / e: 36\n",
      "after: 1000000049 / 36\n",
      "\n",
      "before: 1000000018 / 11\n",
      " c: 11 / p: 11 / e: 37\n",
      "after: 1000000050 / 11\n",
      "\n",
      "before: 1000000019 / 12\n",
      " c: 12 / p: 11 / e: 37\n",
      "after: 1000000051 / 37\n",
      "\n",
      "before: 1000000020 / 13\n",
      " c: 13 / p: 12 / e: 38\n",
      "after: 1000000052 / 38\n",
      "\n",
      "before: 1000000021 / 14\n",
      " c: 14 / p: 13 / e: 39\n",
      "after: 1000000053 / 39\n",
      "\n",
      "before: 1000000022 / 15\n",
      " c: 15 / p: 14 / e: 40\n",
      "after: 1000000054 / 40\n",
      "\n",
      "before: 1000000023 / 16\n",
      " c: 16 / p: 15 / e: 41\n",
      "after: 1000000055 / 41\n",
      "\n",
      "before: 1000000024 / 17\n",
      " c: 17 / p: 16 / e: 42\n",
      "after: 1000000056 / 42\n",
      "\n",
      "before: 1000000025 / 18\n",
      " c: 18 / p: 17 / e: 43\n",
      "after: 1000000057 / 43\n",
      "\n",
      "before: 1000000026 / 19\n",
      " c: 19 / p: 18 / e: 44\n",
      "after: 1000000058 / 44\n",
      "\n",
      "before: 1000000027 / 20\n",
      " c: 20 / p: 19 / e: 45\n",
      "after: 1000000059 / 45\n",
      "\n",
      "before: 1000000028 / 21\n",
      " c: 21 / p: 20 / e: 46\n",
      "after: 1000000060 / 46\n",
      "\n",
      "before: 1000000029 / 22\n",
      " c: 22 / p: 21 / e: 47\n",
      "after: 1000000061 / 47\n",
      "\n",
      "before: 1000000030 / 23\n",
      " c: 23 / p: 22 / e: 48\n",
      "after: 1000000062 / 48\n",
      "\n",
      "before: 1000000031 / 24\n",
      " c: 24 / p: 23 / e: 49\n",
      "after: 1000000063 / 49\n",
      "\n"
     ]
    }
   ],
   "source": [
    "features2 = deepcopy(eval_features)\n",
    "\n",
    "previous_example_index = -1\n",
    "for fea in features2:\n",
    "    print(f\"before: {fea.unique_id} / {fea.example_index}\")\n",
    "    fea.unique_id = unique_id\n",
    "    unique_id += 1\n",
    "    \n",
    "    current_example_index = fea.example_index\n",
    "    print(f\" c: {current_example_index} / p: {previous_example_index} / e: {example_index}\")\n",
    "    if previous_example_index == current_example_index:\n",
    "        fea.example_index = previous_example_index\n",
    "    else:\n",
    "        previous_example_index = fea.example_index\n",
    "        fea.example_index = example_index\n",
    "        example_index += 1\n",
    "    print(f\"after: {fea.unique_id} / {fea.example_index}\")\n",
    "    print()"
   ]
  },
  {
   "cell_type": "code",
   "execution_count": 35,
   "metadata": {},
   "outputs": [
    {
     "name": "stdout",
     "output_type": "stream",
     "text": [
      "previous: 1000000000 / 0\n",
      "previous: 1000000001 / 1\n",
      "previous: 1000000002 / 1\n",
      "previous: 1000000003 / 1\n",
      "previous: 1000000004 / 1\n",
      "previous: 1000000005 / 1\n",
      "previous: 1000000006 / 2\n",
      "previous: 1000000007 / 3\n",
      "previous: 1000000008 / 4\n",
      "previous: 1000000009 / 5\n",
      "previous: 1000000010 / 5\n",
      "previous: 1000000011 / 6\n",
      "previous: 1000000012 / 6\n",
      "previous: 1000000013 / 7\n",
      "previous: 1000000014 / 7\n",
      "previous: 1000000015 / 8\n",
      "previous: 1000000016 / 8\n",
      "previous: 1000000017 / 9\n",
      "previous: 1000000018 / 9\n",
      "previous: 1000000019 / 10\n",
      "previous: 1000000020 / 10\n",
      "previous: 1000000021 / 11\n",
      "previous: 1000000022 / 11\n",
      "previous: 1000000023 / 12\n",
      "previous: 1000000024 / 13\n",
      "previous: 1000000025 / 14\n",
      "previous: 1000000026 / 15\n",
      "previous: 1000000027 / 16\n",
      "previous: 1000000028 / 17\n",
      "previous: 1000000029 / 18\n",
      "previous: 1000000030 / 19\n",
      "previous: 1000000031 / 20\n"
     ]
    }
   ],
   "source": [
    "for fea in features:\n",
    "    print(f\"previous: {fea.unique_id} / {fea.example_index}\")"
   ]
  },
  {
   "cell_type": "code",
   "execution_count": 190,
   "metadata": {},
   "outputs": [],
   "source": [
    "all_results = []\n",
    "for batch in eval_dataloader:\n",
    "    model.eval()\n",
    "    batch = tuple(t.to(device) for t in batch)\n",
    "\n",
    "    with torch.no_grad():\n",
    "        inputs = {\n",
    "            \"input_ids\": batch[0],\n",
    "            \"attention_mask\": batch[1],\n",
    "            \"token_type_ids\": batch[2],\n",
    "        }\n",
    "        example_indices = batch[3]\n",
    "        outputs = model(**inputs)\n",
    "        \n",
    "    for i, example_index in enumerate(example_indices):\n",
    "        eval_feature = eval_features[example_index.item()]\n",
    "        unique_id = int(eval_feature.unique_id)\n",
    "        output = [tolist(o[i]) for o in outputs.values()]\n",
    "        start_logits, end_logits = output\n",
    "        result = SquadResult(unique_id, start_logits, end_logits)\n",
    "        all_results.append(result)"
   ]
  },
  {
   "cell_type": "code",
   "execution_count": 33,
   "metadata": {},
   "outputs": [],
   "source": [
    "from transformers.data.metrics.squad_metrics import (\n",
    "    compute_predictions_logits,\n",
    "    squad_evaluate\n",
    ")"
   ]
  },
  {
   "cell_type": "code",
   "execution_count": 34,
   "metadata": {},
   "outputs": [],
   "source": [
    "output_prediction_file = \"./predictions.json\"\n",
    "output_nbest_file = \"./nbest_predictions.json\"\n",
    "output_null_log_odds_file = \"./null_odds.json\""
   ]
  },
  {
   "cell_type": "code",
   "execution_count": 35,
   "metadata": {},
   "outputs": [],
   "source": [
    "predictions = compute_predictions_logits(\n",
    "    eval_examples,\n",
    "    eval_features,\n",
    "    all_results,\n",
    "    args.n_best_size,\n",
    "    args.max_answer_length,\n",
    "    args.do_lower_case,\n",
    "    output_prediction_file,\n",
    "    output_nbest_file,\n",
    "    output_null_log_odds_file,\n",
    "    args.verbose_logging,\n",
    "    args.version_2_with_negative,\n",
    "    args.null_score_diff_threshold,\n",
    "    tokenizer,\n",
    ")"
   ]
  },
  {
   "cell_type": "code",
   "execution_count": 36,
   "metadata": {},
   "outputs": [
    {
     "name": "stdout",
     "output_type": "stream",
     "text": [
      "c1_57059-1\n",
      "Answer: 한국청소년단체협의회와 여성가족부\n",
      "Predict: 선언문을 전달할 예정이다\n",
      "\n",
      "c1_57060-1\n",
      "Answer: 22일부터 28일\n",
      "Predict: 선언문을 전달할 예정이다\n",
      "\n",
      "c1_57061-1\n",
      "Answer: '청소년과 뉴미디어'\n",
      "Predict: 선언문을 전달할 예정이다\n",
      "\n",
      "c1_57062-1\n",
      "Answer: 기조강연을 시작으로 국가별 주제관련 사례발표, 그룹 토론 및 전체총회, '청소년선언문' 작성 및 채택 등 다양한 프로그램을 운영한다.\n",
      "Predict: 선언문을 전달할 예정이다\n",
      "\n",
      "m5_306705-1\n",
      "Answer: 샐리\n",
      "Predict: 육상 볼링 양궁 리듬체조 에어로빅 선수권대회(이하 아육대)'에서는\n",
      "\n",
      "c1_151305-1\n",
      "Answer: 보조 교통 경찰로 일하는 천중핑\n",
      "Predict: 아이는 죽었을 것”이라며 딸을 구해준 천중핑에게 감사의 뜻을 전했습다\n",
      "\n",
      "c1_151306-1\n",
      "Answer: 지난달 28일\n",
      "Predict: 아이는 죽었을 것”이라며 딸을 구해준 천중핑에게 감사의 뜻을 전했습다\n",
      "\n",
      "c1_151307-1\n",
      "Answer: 구이저우성 카일리시\n",
      "Predict: 아이는 죽었을 것”이라며 딸을 구해준 천중핑에게 감사의 뜻을 전했습다\n",
      "\n",
      "c1_151308-1\n",
      "Answer: ‘중국의 좋은 이웃상’과 함께 상금 1만 위안(약 170만원)을 수여\n",
      "Predict: 아이는 죽었을 것”이라며 딸을 구해준 천중핑에게 감사의 뜻을 전했습다\n",
      "\n",
      "c1_151309-1\n",
      "Answer: 이틀 간의 코마 상태 이후 의식을 회복해 지난 2일부터 중환자실에서 치료를 받고 있습니다\n",
      "Predict: 아이는 죽었을 것”이라며 딸을 구해준 천중핑에게 감사의 뜻을 전했습다\n",
      "\n",
      "c1_151310-1\n",
      "Answer: 열쇠공이 문을 따는 소리에 겁을 먹고 창문 밖으로 도망을 치려다\n",
      "Predict: 회복해 지난\n",
      "\n",
      "c1_151311-1\n",
      "Answer: 아이가 잠든 사이 돌보던 아이의 할머니가 쓰레기를 버리러 나갔다가 문이 잠기는 바람에 열쇠공을 불렀던 것\n",
      "Predict: 아이는 죽었을 것”이라며 딸을 구해준 천중핑에게 감사의 뜻을 전했습다\n",
      "\n",
      "c1_36509-1\n",
      "Answer: 조달청\n",
      "Predict: 소송 결과 인용률(조달청 패소율)은 평균 86%에 달한다.부정당제제\n",
      "\n",
      "c1_36510-1\n",
      "Answer: 2012년\n",
      "Predict: 지방자치단체의 부정당업자\n",
      "\n",
      "c1_36511-1\n",
      "Answer: 소송 제재 자체에 문제가 있었다는 의미\n",
      "Predict: 지방자치단체의 부정당업자\n",
      "\n",
      "c1_36512-1\n",
      "Answer: 계약심사협의회에서 내부 심의를 거쳐 부정당업체로 등록을 하고 제재를 실시\n",
      "Predict: 지방자치단체의 부정당업자\n",
      "\n",
      "c1_36513-1\n",
      "Answer: 지방계약법이 개정되면서 지방자치단체의 부정당업자 제재권한이 조달청으로 이관된 것\n",
      "Predict: 지방자치단체의 부정당업자\n",
      "\n",
      "c1_81296-1\n",
      "Answer: NASA\n",
      "Predict: 화성으로 하강할 때 사용된 열 차폐 방패(heat shield)에 접근하면서 이 암석을 처음 발견했다.\n",
      "\n",
      "c1_81297-1\n",
      "Answer: 2004년 1월\n",
      "Predict: 차폐 방패(heat shield)에 접근하면서 이 암석을 처음 발견했다.\n",
      "\n",
      "c1_81298-1\n",
      "Answer: 화성\n",
      "Predict: 화성으로 하강할 때 사용된 열 차폐 방패(heat shield)에 접근하면서 이 암석을 처음 발견했다.\n",
      "\n",
      "c1_81299-1\n",
      "Answer: 운석으로 보이는 특이한 암석\n",
      "Predict: 화성으로 하강할 때 사용된 열 차폐 방패(heat shield)에 접근하면서 이 암석을 처음 발견했다.\n",
      "\n",
      "c1_81300-1\n",
      "Answer: 화성으로 하강할 때 사용된 열 차폐 방패(heat shield)에 접근하면서\n",
      "Predict: 화성으로 하강할 때 사용된 열 차폐 방패(heat shield)에 접근하면서 이 암석을 처음 발견했다.\n",
      "\n",
      "c1_81301-1\n",
      "Answer: 오퍼튜니티의 적외선 분광계인 Mini-TES의 분석에 따르면, 이 암석에서는 화성 암석에서 나오는 전형적인 열 적외선이 나오지 않았기 때문에\n",
      "Predict: 차폐 방패(heat shield)에 접근하면서 이 암석을 처음 발견했다.\n",
      "\n",
      "c1_81302-1\n",
      "Answer: 이 암석 근처에 머물면서 이것이 운석인지를 확실하게 알아낼 것\n",
      "Predict: 화성으로 하강할 때 사용된 열 차폐 방패(heat shield)에 접근하면서 이 암석을 처음 발견했다.\n",
      "\n",
      "c1_81303-1\n",
      "Answer: 표면이 울퉁불퉁한 홈이 파여 있기 때문에\n",
      "Predict: 차폐 방패(heat shield)에 접근하면서 이 암석을 처음 발견했다.\n",
      "\n"
     ]
    }
   ],
   "source": [
    "for i, j in zip(eval_examples, predictions.items()):\n",
    "    if i.qas_id == j[0]:\n",
    "        print(i.qas_id)\n",
    "        print(f\"Answer: {i.answers[0]['text']}\")\n",
    "        print(f\"Predict: {j[1]}\")\n",
    "        print()\n",
    "    else:\n",
    "        print(i.qas_id, j[0])"
   ]
  },
  {
   "cell_type": "code",
   "execution_count": 37,
   "metadata": {},
   "outputs": [],
   "source": [
    "results = squad_evaluate(eval_examples, predictions)"
   ]
  },
  {
   "cell_type": "code",
   "execution_count": 38,
   "metadata": {},
   "outputs": [
    {
     "data": {
      "text/plain": [
       "OrderedDict([('exact', 0.0),\n",
       "             ('f1', 5.556363636363637),\n",
       "             ('total', 25),\n",
       "             ('HasAns_exact', 0.0),\n",
       "             ('HasAns_f1', 5.556363636363637),\n",
       "             ('HasAns_total', 25),\n",
       "             ('best_exact', 0.0),\n",
       "             ('best_exact_thresh', 0.0),\n",
       "             ('best_f1', 5.556363636363637),\n",
       "             ('best_f1_thresh', 0.0)])"
      ]
     },
     "execution_count": 38,
     "metadata": {},
     "output_type": "execute_result"
    }
   ],
   "source": [
    "results"
   ]
  },
  {
   "cell_type": "markdown",
   "metadata": {},
   "source": [
    "Why there is 0 to predict?"
   ]
  },
  {
   "cell_type": "code",
   "execution_count": 69,
   "metadata": {},
   "outputs": [],
   "source": [
    "vocab_rev = {v: k for k, v in tokenizer.vocab.items()}\n",
    "tostring = lambda x: \" \".join(x).replace(\" ##\", \"\").replace(\"[PAD]\", \"\").strip()\n",
    "def show_original(inputs):\n",
    "    tokens = [vocab_rev[i.item()] for i in inputs[\"input_ids\"]]\n",
    "    s, e = inputs[\"start_positions\"].item(), inputs[\"end_positions\"].item()\n",
    "    print(s, e)\n",
    "    print(\"Answer: \", tostring(tokens[s:(e+1)]))\n",
    "    print(tostring(tokens))"
   ]
  },
  {
   "cell_type": "code",
   "execution_count": 78,
   "metadata": {},
   "outputs": [
    {
     "name": "stdout",
     "output_type": "stream",
     "text": [
      "------------------------------------------------------------------------------------\n",
      "103 112\n",
      "Answer:  보조 교통 경찰로 일하는 천중핑\n",
      "[CLS] 중국에서 아파트에서 추락하던 3세 아이를 살리고 자신은 혼수상태에 빠진 사람은 누구야 ? [SEP] 중국의 한 여성 경찰이 아파트에서 추락하던 3세 아이를 살리고 자신은 혼수상태에 빠졌습니다 . 의인 ( 義 人 ) 의 소식이 알려지자 각박한 중국 사회에 큰 반향을 일으키고 있습니다 . 5일 귀주도시망 등 중국 현지 언론에 따르면 구이저우성 카일리시에 보조 교통 경찰로 일하는 천중핑 ( 49 ) 은 지난달 28일 한 아파트에서 비상 상황이 발생했다는 연락을 받고 현장으로 향했습니다 . 도착했을 때 아파트 4층 창문에서 여자 아이가 매달려 있었습니다 . 곧이어 아이는 손에 힘이 빠지면서 밑으로 추락했습니다 . 천중핑과 다른 세명의 이웃들이 달려갔습니다 . 그리고 아이는 바닥이 아니라 천중핑의 팔에 떨어졌습니다 . 중간 비막이 천막 때문에 속도가 줄기는 했지만 추락의 충격은 천중핑이 고스란히 감당해야 했습니다 . 아이는 즉시 병원으로 옮겨져 치료를 받았습니다 . 다리 골절로 그리 심각한 상황은 아니라고 합니다 . 하지만 생명의 은인이자 영웅은 커다란 댓가를 치러야 했다 . 뇌출혈로 인한 의식불명 상태에 빠진 것이다 . 다행히 이틀 간의 코마 상태 이후 의식을 회복해 지난 2일부터 중환자실에서 치료를 받고 있습니다 . 아이는 열쇠공이 문을 따는 소리에 겁을 먹고 창문 밖으로 도망을 치려다 사고를 당한 것으로 전해졌습니다 . 아이가 잠든 사이 돌보던 아이의 할머니가 쓰레기를 버리러 나갔다가 문이 잠기는 바람에 열쇠공을 불렀던 것입니다 . 아이의 엄마는 “ 천중핑의 도움이 없었다면 아이는 죽었을 것 ” 이라며 딸을 구해준 천중핑에게 감사의 뜻을 전했습다 . 카일리시 정부 대표와 공안부 관계자들도 천중핑이 입원한 병원을 찾아 위로하고 회복될때까지 도움을 아끼지 않겠다고 밝혔습니다 . 천중핑의 선행 사실을 접한 중국 기업 알리바바도 ‘ 중국의 좋은 이웃상 ’ 과 함께 상금 1만 위안 ( 약 170만원 ) 을 수여하기로 했습니다 . [ 아직 살만한 세상 ] 은 점점 각박해지는 세상 [SEP]\n",
      "\n",
      "0 0\n",
      "Answer:  [CLS]\n",
      "[CLS] 중국에서 아파트에서 추락하던 3세 아이를 살리고 자신은 혼수상태에 빠진 사람은 누구야 ? [SEP]니다 . 곧이어 아이는 손에 힘이 빠지면서 밑으로 추락했습니다 . 천중핑과 다른 세명의 이웃들이 달려갔습니다 . 그리고 아이는 바닥이 아니라 천중핑의 팔에 떨어졌습니다 . 중간 비막이 천막 때문에 속도가 줄기는 했지만 추락의 충격은 천중핑이 고스란히 감당해야 했습니다 . 아이는 즉시 병원으로 옮겨져 치료를 받았습니다 . 다리 골절로 그리 심각한 상황은 아니라고 합니다 . 하지만 생명의 은인이자 영웅은 커다란 댓가를 치러야 했다 . 뇌출혈로 인한 의식불명 상태에 빠진 것이다 . 다행히 이틀 간의 코마 상태 이후 의식을 회복해 지난 2일부터 중환자실에서 치료를 받고 있습니다 . 아이는 열쇠공이 문을 따는 소리에 겁을 먹고 창문 밖으로 도망을 치려다 사고를 당한 것으로 전해졌습니다 . 아이가 잠든 사이 돌보던 아이의 할머니가 쓰레기를 버리러 나갔다가 문이 잠기는 바람에 열쇠공을 불렀던 것입니다 . 아이의 엄마는 “ 천중핑의 도움이 없었다면 아이는 죽었을 것 ” 이라며 딸을 구해준 천중핑에게 감사의 뜻을 전했습다 . 카일리시 정부 대표와 공안부 관계자들도 천중핑이 입원한 병원을 찾아 위로하고 회복될때까지 도움을 아끼지 않겠다고 밝혔습니다 . 천중핑의 선행 사실을 접한 중국 기업 알리바바도 ‘ 중국의 좋은 이웃상 ’ 과 함께 상금 1만 위안 ( 약 170만원 ) 을 수여하기로 했습니다 . [ 아직 살만한 세상 ] 은 점점 각박해지는 세상에 희망과 믿음을 주는 이들의 이야기입니다 . 힘들고 지칠 때 아직 살만한 세상을 만들어가는 ‘ 아살세 ’ 사람들의 목소리를 들어보세요 . 따뜻한 세상을 꿈꾸는 독자 여러분의 제보를 기다립니다 . 맹경환 기자 khmaeng @ kmib . co . kr [SEP]\n",
      "\n",
      "------------------------------------------------------------------------------------\n",
      "114 116\n",
      "Answer:  지난달 28일\n",
      "[CLS] 천중핑씨가 추락하는 아이를 구하고 뇌출혈로 인한 의식불명 상태에 빠진건 언제야 ? [SEP] 중국의 한 여성 경찰이 아파트에서 추락하던 3세 아이를 살리고 자신은 혼수상태에 빠졌습니다 . 의인 ( 義 人 ) 의 소식이 알려지자 각박한 중국 사회에 큰 반향을 일으키고 있습니다 . 5일 귀주도시망 등 중국 현지 언론에 따르면 구이저우성 카일리시에 보조 교통 경찰로 일하는 천중핑 ( 49 ) 은 지난달 28일 한 아파트에서 비상 상황이 발생했다는 연락을 받고 현장으로 향했습니다 . 도착했을 때 아파트 4층 창문에서 여자 아이가 매달려 있었습니다 . 곧이어 아이는 손에 힘이 빠지면서 밑으로 추락했습니다 . 천중핑과 다른 세명의 이웃들이 달려갔습니다 . 그리고 아이는 바닥이 아니라 천중핑의 팔에 떨어졌습니다 . 중간 비막이 천막 때문에 속도가 줄기는 했지만 추락의 충격은 천중핑이 고스란히 감당해야 했습니다 . 아이는 즉시 병원으로 옮겨져 치료를 받았습니다 . 다리 골절로 그리 심각한 상황은 아니라고 합니다 . 하지만 생명의 은인이자 영웅은 커다란 댓가를 치러야 했다 . 뇌출혈로 인한 의식불명 상태에 빠진 것이다 . 다행히 이틀 간의 코마 상태 이후 의식을 회복해 지난 2일부터 중환자실에서 치료를 받고 있습니다 . 아이는 열쇠공이 문을 따는 소리에 겁을 먹고 창문 밖으로 도망을 치려다 사고를 당한 것으로 전해졌습니다 . 아이가 잠든 사이 돌보던 아이의 할머니가 쓰레기를 버리러 나갔다가 문이 잠기는 바람에 열쇠공을 불렀던 것입니다 . 아이의 엄마는 “ 천중핑의 도움이 없었다면 아이는 죽었을 것 ” 이라며 딸을 구해준 천중핑에게 감사의 뜻을 전했습다 . 카일리시 정부 대표와 공안부 관계자들도 천중핑이 입원한 병원을 찾아 위로하고 회복될때까지 도움을 아끼지 않겠다고 밝혔습니다 . 천중핑의 선행 사실을 접한 중국 기업 알리바바도 ‘ 중국의 좋은 이웃상 ’ 과 함께 상금 1만 위안 ( 약 170만원 ) 을 수여하기로 했습니다 . [ 아직 살만한 세상 ] 은 점점 각박해지는 세상에 희망과 [SEP]\n",
      "\n",
      "0 0\n",
      "Answer:  [CLS]\n",
      "[CLS] 천중핑씨가 추락하는 아이를 구하고 뇌출혈로 인한 의식불명 상태에 빠진건 언제야 ? [SEP]니다 . 곧이어 아이는 손에 힘이 빠지면서 밑으로 추락했습니다 . 천중핑과 다른 세명의 이웃들이 달려갔습니다 . 그리고 아이는 바닥이 아니라 천중핑의 팔에 떨어졌습니다 . 중간 비막이 천막 때문에 속도가 줄기는 했지만 추락의 충격은 천중핑이 고스란히 감당해야 했습니다 . 아이는 즉시 병원으로 옮겨져 치료를 받았습니다 . 다리 골절로 그리 심각한 상황은 아니라고 합니다 . 하지만 생명의 은인이자 영웅은 커다란 댓가를 치러야 했다 . 뇌출혈로 인한 의식불명 상태에 빠진 것이다 . 다행히 이틀 간의 코마 상태 이후 의식을 회복해 지난 2일부터 중환자실에서 치료를 받고 있습니다 . 아이는 열쇠공이 문을 따는 소리에 겁을 먹고 창문 밖으로 도망을 치려다 사고를 당한 것으로 전해졌습니다 . 아이가 잠든 사이 돌보던 아이의 할머니가 쓰레기를 버리러 나갔다가 문이 잠기는 바람에 열쇠공을 불렀던 것입니다 . 아이의 엄마는 “ 천중핑의 도움이 없었다면 아이는 죽었을 것 ” 이라며 딸을 구해준 천중핑에게 감사의 뜻을 전했습다 . 카일리시 정부 대표와 공안부 관계자들도 천중핑이 입원한 병원을 찾아 위로하고 회복될때까지 도움을 아끼지 않겠다고 밝혔습니다 . 천중핑의 선행 사실을 접한 중국 기업 알리바바도 ‘ 중국의 좋은 이웃상 ’ 과 함께 상금 1만 위안 ( 약 170만원 ) 을 수여하기로 했습니다 . [ 아직 살만한 세상 ] 은 점점 각박해지는 세상에 희망과 믿음을 주는 이들의 이야기입니다 . 힘들고 지칠 때 아직 살만한 세상을 만들어가는 ‘ 아살세 ’ 사람들의 목소리를 들어보세요 . 따뜻한 세상을 꿈꾸는 독자 여러분의 제보를 기다립니다 . 맹경환 기자 khmaeng @ kmib . co . kr [SEP]\n",
      "\n",
      "------------------------------------------------------------------------------------\n",
      "87 91\n",
      "Answer:  구이저우성 카일리시\n",
      "[CLS] 천중핑씨가 보조 교통 경찰로 일하는 곳은 어디야 ? [SEP] 중국의 한 여성 경찰이 아파트에서 추락하던 3세 아이를 살리고 자신은 혼수상태에 빠졌습니다 . 의인 ( 義 人 ) 의 소식이 알려지자 각박한 중국 사회에 큰 반향을 일으키고 있습니다 . 5일 귀주도시망 등 중국 현지 언론에 따르면 구이저우성 카일리시에 보조 교통 경찰로 일하는 천중핑 ( 49 ) 은 지난달 28일 한 아파트에서 비상 상황이 발생했다는 연락을 받고 현장으로 향했습니다 . 도착했을 때 아파트 4층 창문에서 여자 아이가 매달려 있었습니다 . 곧이어 아이는 손에 힘이 빠지면서 밑으로 추락했습니다 . 천중핑과 다른 세명의 이웃들이 달려갔습니다 . 그리고 아이는 바닥이 아니라 천중핑의 팔에 떨어졌습니다 . 중간 비막이 천막 때문에 속도가 줄기는 했지만 추락의 충격은 천중핑이 고스란히 감당해야 했습니다 . 아이는 즉시 병원으로 옮겨져 치료를 받았습니다 . 다리 골절로 그리 심각한 상황은 아니라고 합니다 . 하지만 생명의 은인이자 영웅은 커다란 댓가를 치러야 했다 . 뇌출혈로 인한 의식불명 상태에 빠진 것이다 . 다행히 이틀 간의 코마 상태 이후 의식을 회복해 지난 2일부터 중환자실에서 치료를 받고 있습니다 . 아이는 열쇠공이 문을 따는 소리에 겁을 먹고 창문 밖으로 도망을 치려다 사고를 당한 것으로 전해졌습니다 . 아이가 잠든 사이 돌보던 아이의 할머니가 쓰레기를 버리러 나갔다가 문이 잠기는 바람에 열쇠공을 불렀던 것입니다 . 아이의 엄마는 “ 천중핑의 도움이 없었다면 아이는 죽었을 것 ” 이라며 딸을 구해준 천중핑에게 감사의 뜻을 전했습다 . 카일리시 정부 대표와 공안부 관계자들도 천중핑이 입원한 병원을 찾아 위로하고 회복될때까지 도움을 아끼지 않겠다고 밝혔습니다 . 천중핑의 선행 사실을 접한 중국 기업 알리바바도 ‘ 중국의 좋은 이웃상 ’ 과 함께 상금 1만 위안 ( 약 170만원 ) 을 수여하기로 했습니다 . [ 아직 살만한 세상 ] 은 점점 각박해지는 세상에 희망과 믿음을 주는 이들의 이야기 [SEP]\n",
      "\n",
      "0 0\n",
      "Answer:  [CLS]\n",
      "[CLS] 천중핑씨가 보조 교통 경찰로 일하는 곳은 어디야 ? [SEP]니다 . 곧이어 아이는 손에 힘이 빠지면서 밑으로 추락했습니다 . 천중핑과 다른 세명의 이웃들이 달려갔습니다 . 그리고 아이는 바닥이 아니라 천중핑의 팔에 떨어졌습니다 . 중간 비막이 천막 때문에 속도가 줄기는 했지만 추락의 충격은 천중핑이 고스란히 감당해야 했습니다 . 아이는 즉시 병원으로 옮겨져 치료를 받았습니다 . 다리 골절로 그리 심각한 상황은 아니라고 합니다 . 하지만 생명의 은인이자 영웅은 커다란 댓가를 치러야 했다 . 뇌출혈로 인한 의식불명 상태에 빠진 것이다 . 다행히 이틀 간의 코마 상태 이후 의식을 회복해 지난 2일부터 중환자실에서 치료를 받고 있습니다 . 아이는 열쇠공이 문을 따는 소리에 겁을 먹고 창문 밖으로 도망을 치려다 사고를 당한 것으로 전해졌습니다 . 아이가 잠든 사이 돌보던 아이의 할머니가 쓰레기를 버리러 나갔다가 문이 잠기는 바람에 열쇠공을 불렀던 것입니다 . 아이의 엄마는 “ 천중핑의 도움이 없었다면 아이는 죽었을 것 ” 이라며 딸을 구해준 천중핑에게 감사의 뜻을 전했습다 . 카일리시 정부 대표와 공안부 관계자들도 천중핑이 입원한 병원을 찾아 위로하고 회복될때까지 도움을 아끼지 않겠다고 밝혔습니다 . 천중핑의 선행 사실을 접한 중국 기업 알리바바도 ‘ 중국의 좋은 이웃상 ’ 과 함께 상금 1만 위안 ( 약 170만원 ) 을 수여하기로 했습니다 . [ 아직 살만한 세상 ] 은 점점 각박해지는 세상에 희망과 믿음을 주는 이들의 이야기입니다 . 힘들고 지칠 때 아직 살만한 세상을 만들어가는 ‘ 아살세 ’ 사람들의 목소리를 들어보세요 . 따뜻한 세상을 꿈꾸는 독자 여러분의 제보를 기다립니다 . 맹경환 기자 khmaeng @ kmib . co . kr [SEP]\n",
      "\n"
     ]
    }
   ],
   "source": [
    "idxes = [5, 6, 7, 8, 9, 10]\n",
    "for i, idx in enumerate(idxes):\n",
    "    batch = train_dataset[idx]\n",
    "    inputs = {\n",
    "        \"input_ids\": batch[0],\n",
    "        \"attention_mask\": batch[1],\n",
    "        \"token_type_ids\": batch[2],\n",
    "        \"start_positions\": batch[3],\n",
    "        \"end_positions\": batch[4],\n",
    "    }\n",
    "    if i % 2 == 0:\n",
    "        print(\"----------------------------\"*3)\n",
    "    show_original(inputs)\n",
    "    print()"
   ]
  },
  {
   "cell_type": "markdown",
   "metadata": {},
   "source": [
    "If over 512 tokens, it will generate sentences from the back like: `tokens[-512:]`"
   ]
  },
  {
   "cell_type": "code",
   "execution_count": 1,
   "metadata": {},
   "outputs": [],
   "source": [
    "from pathlib import Path\n",
    "import torch\n",
    "from torch.utils.data import TensorDataset, DataLoader\n",
    "import pytorch_lightning as pl\n",
    "import torchmetrics\n",
    "from tqdm import tqdm\n",
    "from transformers import (\n",
    "    ElectraForQuestionAnswering, \n",
    "    ElectraConfig, \n",
    "    ElectraTokenizer,\n",
    "    AdamW,\n",
    "    squad_convert_examples_to_features,\n",
    "    get_linear_schedule_with_warmup\n",
    ")\n",
    "\n",
    "from transformers.data.processors.squad import SquadResult, SquadV2Processor\n",
    "from transformers.data.metrics.squad_metrics import (\n",
    "    compute_predictions_logits,\n",
    "    squad_evaluate\n",
    ")\n",
    "# typing\n",
    "from transformers.data.processors import SquadFeatures\n",
    "from typing import List"
   ]
  },
  {
   "cell_type": "code",
   "execution_count": 3,
   "metadata": {},
   "outputs": [],
   "source": [
    "train_file = \"test_train*.json\"\n",
    "val_file = \"test_val*.json\"\n",
    "repo_path = Path().absolute().parent\n",
    "data_path = repo_path.parent / \"data\" / \"AIhub\" / \"QA\"\n",
    "ckpt_path = repo_path.parent / \"ckpt\"\n",
    "\n",
    "args_dict = {\n",
    "    \"task\": \"AIHub_QA\",\n",
    "    \"data_path\": data_path,\n",
    "    \"ckpt_path\": ckpt_path,\n",
    "    \"train_file\": train_file,\n",
    "    \"val_file\": val_file,\n",
    "    \"cache_file\": \"test_{}_cache_{}\",\n",
    "    \"random_seed\": 77,\n",
    "    \"threads\": 4,\n",
    "    \"version_2_with_negative\": False,\n",
    "    \"null_score_diff_threshold\": 0.0,\n",
    "    \"max_seq_length\": 512,\n",
    "    \"doc_stride\": 128,\n",
    "    \"max_query_length\": 64,\n",
    "    \"max_answer_length\": 30,\n",
    "    \"n_best_size\": 20,\n",
    "    \"verbose_logging\": True,\n",
    "    \"do_lower_case\": False,\n",
    "    \"num_train_epochs\": 10,\n",
    "    \"weight_decay\": 0.0,\n",
    "    \"adam_epsilon\": 1e-8,\n",
    "    \"warmup_proportion\": 0,\n",
    "    \"model_type\": \"koelectra-base-v3\",\n",
    "    \"model_name_or_path\": \"monologg/koelectra-base-v3-discriminator\",\n",
    "    \"output_dir\": \"koelectra-base-v3-korquad-ckpt\",\n",
    "    \"seed\": 42,\n",
    "    \"train_batch_size\": 2,\n",
    "    \"eval_batch_size\": 3,\n",
    "    \"learning_rate\": 5e-5,\n",
    "    \"output_prediction_file\": \"predictions/predictions_{}.json\",\n",
    "    \"output_nbest_file\": \"nbest_predictions/nbest_predictions_{}.json\",\n",
    "    \"output_null_log_odds_file\": \"null_odds/null_odds_{}.json\",\n",
    "}\n",
    "\n",
    "for arg in [\"output_prediction_file\", \"output_nbest_file\", \"output_null_log_odds_file\"]:\n",
    "    p = args_dict[\"ckpt_path\"] / args_dict[arg]\n",
    "    if not p.parent.exists():\n",
    "        p.mkdir(parents=True)"
   ]
  },
  {
   "cell_type": "code",
   "execution_count": 12,
   "metadata": {},
   "outputs": [],
   "source": [
    "\n",
    "def flatten(li):\n",
    "    for ele in li:\n",
    "        if isinstance(ele, list):\n",
    "            yield from flatten(ele)\n",
    "        else:\n",
    "            yield ele\n",
    "\n",
    "class Model(pl.LightningModule):\n",
    "    def __init__(self, **kwargs):\n",
    "        super().__init__()\n",
    "        self.save_hyperparameters() \n",
    "        self.config = ElectraConfig.from_pretrained(self.hparams.model_name_or_path)\n",
    "        self.model = ElectraForQuestionAnswering.from_pretrained(\n",
    "            self.hparams.model_name_or_path, \n",
    "            config=self.config\n",
    "        )\n",
    "        self.tokenizer = ElectraTokenizer.from_pretrained(self.hparams.model_name_or_path)\n",
    "        # create dataset and cache it\n",
    "        self.train_files = []\n",
    "        self.val_files = []\n",
    "        self.create_dataset_all(state=\"train\")\n",
    "        self.create_dataset_all(state=\"val\")\n",
    "\n",
    "        # \n",
    "        self.all_examples, self.all_features = [], []\n",
    "\n",
    "        # function\n",
    "        self.tolist = lambda x: x.detach().cpu().tolist()\n",
    "\n",
    "    def create_dataset_all(self, state:str):\n",
    "        self.example_index = 0\n",
    "        self.unique_id = 1000000000\n",
    "        if state == \"train\":\n",
    "            file_str = self.hparams.train_file\n",
    "        elif state == \"val\":\n",
    "            file_str = self.hparams.val_file\n",
    "        else:\n",
    "            raise ValueError(\"state should be train or val\")\n",
    "        \n",
    "        file_iter = sorted(self.hparams.data_path.glob(file_str), key=lambda x: int(x.name.strip(\".json\").split(\"_\")[-1]))\n",
    "        for path in file_iter:\n",
    "            filename = path.name\n",
    "            idx = int(filename.strip(\".json\").split(\"_\")[-1])\n",
    "            self.create_dataset(path.name, idx, state)\n",
    "\n",
    "    def create_dataset(self, filename:str, idx:int, state:str):\n",
    "        cache_file = self.hparams.cache_file.format(state, idx)\n",
    "        print(f\"[INFO] Processing: {filename} | Cache file name: {cache_file}\")\n",
    "        processed_file = self.hparams.ckpt_path / cache_file\n",
    "        if processed_file.exists():\n",
    "            print(f\"[INFO] cache file already exists! passing the procedure\")\n",
    "            print(f\"[INFO] Path: {processed_file}\")\n",
    "            if state == \"train\":\n",
    "                self.train_files.append(cache_file)\n",
    "            elif state == \"val\":\n",
    "                self.val_files.append(cache_file)\n",
    "            else:\n",
    "                raise ValueError(\"state should be train or val\")\n",
    "            return None\n",
    "        else:\n",
    "            processor = SquadV2Processor()\n",
    "            if state == \"train\":\n",
    "                process_fn = processor.get_train_examples\n",
    "                is_training = True\n",
    "                self.train_files.append(cache_file)\n",
    "            elif state == \"val\":\n",
    "                process_fn = processor.get_dev_examples\n",
    "                is_training = False\n",
    "                self.val_files.append(cache_file)\n",
    "            else:\n",
    "                raise ValueError(\"state should be train or val\")\n",
    "\n",
    "            examples = process_fn(\n",
    "                data_dir=self.hparams.data_path, \n",
    "                filename=filename\n",
    "            )\n",
    "\n",
    "            features = squad_convert_examples_to_features(\n",
    "                examples=examples,\n",
    "                tokenizer=self.tokenizer,\n",
    "                max_seq_length=self.hparams.max_seq_length,\n",
    "                doc_stride=self.hparams.doc_stride,\n",
    "                max_query_length=self.hparams.max_query_length,\n",
    "                is_training=is_training,\n",
    "                return_dataset=False,\n",
    "                threads=self.hparams.threads,\n",
    "            )\n",
    "            # need to fix all `example_index` and `unique_id` since splitted the dataset only on validation dataset\n",
    "            self.fix_unique_id(features, state)\n",
    "            dataset = self.convert_to_tensor(state, features)\n",
    "            cache = dict(dataset=dataset, examples=examples, features=features)\n",
    "            torch.save(cache, processed_file)\n",
    "            print(f\"[INFO] cache file saved! {processed_file}\")\n",
    "\n",
    "    def convert_to_tensor(self, state:str, features:List[SquadFeatures]):\n",
    "        \"\"\"\n",
    "        Reference: https://github.com/huggingface/transformers/blob/master/src/transformers/data/processors/squad.py\n",
    "        Arguments:\n",
    "            state {str} -- [description]\n",
    "        \"\"\"        \n",
    "        all_input_ids = torch.tensor([f.input_ids for f in features], dtype=torch.long)\n",
    "        all_attention_masks = torch.tensor([f.attention_mask for f in features], dtype=torch.long)\n",
    "        all_token_type_ids = torch.tensor([f.token_type_ids for f in features], dtype=torch.long)\n",
    "        \n",
    "        if state == \"train\":\n",
    "            all_start_positions = torch.tensor([f.start_position for f in features], dtype=torch.long)\n",
    "            all_end_positions = torch.tensor([f.end_position for f in features], dtype=torch.long)\n",
    "            dataset = TensorDataset(\n",
    "                all_input_ids, all_attention_masks, all_token_type_ids, all_start_positions, all_end_positions\n",
    "            )\n",
    "        elif state == \"val\":\n",
    "            all_unique_ids = torch.tensor([f.unique_id for f in features], dtype=torch.long)\n",
    "            dataset = TensorDataset(\n",
    "                all_input_ids, all_attention_masks, all_token_type_ids, all_unique_ids\n",
    "            )\n",
    "        else:\n",
    "            raise ValueError(\"state should be train or val\")\n",
    "        return dataset\n",
    "\n",
    "    def fix_unique_id(self, features:list, state:str=\"val\"):\n",
    "        if state == \"val\":\n",
    "            previous_example_index = -1 \n",
    "            for fea in tqdm(features, total=len(features), desc=\"fixing index and ids\"):\n",
    "                fea.unique_id = self.unique_id\n",
    "                self.unique_id += 1\n",
    "                \n",
    "                current_example_index = fea.example_index\n",
    "                if previous_example_index == current_example_index:\n",
    "                    fea.example_index = previous_example_index\n",
    "                else:\n",
    "                    previous_example_index = fea.example_index\n",
    "                    fea.example_index = self.example_index\n",
    "                    self.example_index += 1\n",
    "        else:\n",
    "            return None\n",
    "\n",
    "    def load_cache(self, filename:str, return_dataset:bool=True):\n",
    "        processed_file = self.hparams.ckpt_path / filename\n",
    "        cache = torch.load(processed_file)\n",
    "        dataset, examples, features = cache[\"dataset\"], cache[\"examples\"], cache[\"features\"]\n",
    "\n",
    "        if return_dataset:\n",
    "            return dataset\n",
    "        else:\n",
    "            return examples, features\n",
    "\n",
    "    def create_dataloader(self, state:str=\"train\"):\n",
    "        if state == \"train\":\n",
    "            shuffle = True\n",
    "            batch_size = self.hparams.train_batch_size\n",
    "            file_list = self.train_files\n",
    "        elif state == \"val\":\n",
    "            shuffle = False\n",
    "            batch_size = self.hparams.eval_batch_size\n",
    "            file_list = self.val_files\n",
    "        else:\n",
    "            raise ValueError(\"state should be train or val\")\n",
    "\n",
    "        file_loader = (self.load_cache(filename=file, return_dataset=True) for file in file_list)\n",
    "        loaders = []\n",
    "        self.val_dataset_length = []\n",
    "        for dataset in file_loader: \n",
    "            dataloader = DataLoader(\n",
    "                dataset=dataset,\n",
    "                batch_size=batch_size,\n",
    "                shuffle=shuffle,\n",
    "                num_workers=self.hparams.threads\n",
    "            )\n",
    "            loaders.append(dataloader)\n",
    "            self.val_dataset_length.append(len(dataset))\n",
    "        return loaders\n",
    "\n",
    "    def train_dataloader(self):\n",
    "        return self.create_dataloader(state=\"train\")\n",
    "\n",
    "    def val_dataloader(self):\n",
    "        return self.create_dataloader(state=\"val\")\n",
    "\n",
    "    def forward(self, **kwargs):\n",
    "        return self.model(**kwargs)\n",
    "\n",
    "    def training_step(self, batch, batch_idx):\n",
    "        batch = list(map(torch.cat, zip(*batch)))\n",
    "        inputs_ids, attention_mask, token_type_ids, start_positions, end_positions = batch\n",
    "\n",
    "        outputs = self(\n",
    "            input_ids=inputs_ids, \n",
    "            attention_mask=attention_mask,\n",
    "            token_type_ids=token_type_ids,\n",
    "            start_positions=start_positions,\n",
    "            end_positions=end_positions\n",
    "        )\n",
    "\n",
    "        loss = outputs.loss\n",
    "        return  {'loss': loss}\n",
    "\n",
    "    def validation_step(self, batch, batch_idx, dataloader_idx):\n",
    "        # batch = single dataloader batch not multiple dataloader\n",
    "        inputs_ids, attention_mask, token_type_ids, data_unique_ids = batch\n",
    "        outputs = self(\n",
    "            input_ids=inputs_ids, \n",
    "            attention_mask=attention_mask,\n",
    "            token_type_ids=token_type_ids,\n",
    "            start_positions=None,\n",
    "            end_positions=None\n",
    "        )\n",
    "\n",
    "        # outputs.values: [(B, H), (B, H)] > batch_results: (B, 2, H)\n",
    "        # B = len(datasets) * batch_size\n",
    "        batch_results = []\n",
    "        for i, unique_id in enumerate(data_unique_ids.detach().cpu().tolist()):\n",
    "            output = [self.tolist(o[i]) for o in outputs.values()]\n",
    "            start_logits, end_logits = output\n",
    "            result = SquadResult(unique_id, start_logits, end_logits)\n",
    "            batch_results.append(result)\n",
    "\n",
    "        # for i, example_index in enumerate(example_indices):\n",
    "        #     eval_feature = self.eval_features[example_index.item()]\n",
    "        #     unique_id = int(eval_feature.unique_id)\n",
    "        #     output = [self.tolist(o[i]) for o in outputs.values()]\n",
    "        #     start_logits, end_logits = output\n",
    "        #     result = SquadResult(unique_id, start_logits, end_logits)\n",
    "        #     batch_results.append(result)\n",
    "            \n",
    "        return batch_results\n",
    "    \n",
    "    def train_epoch_end(self, outputs):\n",
    "        loss = torch.tensor(0, dtype=torch.float)\n",
    "        for out in outputs:\n",
    "            loss += out[\"loss\"].detach().cpu()\n",
    "        loss = loss / len(outputs)\n",
    "\n",
    "        return {'loss': loss}\n",
    "\n",
    "    def validation_epoch_end(self, outputs):\n",
    "        if (self.all_examples == []) or (self.all_features == []):\n",
    "            for file in self.val_files:\n",
    "                examples, features = self.load_cache(filename=file, return_dataset=False)\n",
    "                self.all_examples.extend(examples)\n",
    "                self.all_features.extend(features)\n",
    "                del examples\n",
    "                del features\n",
    "\n",
    "        all_results = list(flatten(outputs))\n",
    "        # TODO: See if needed?\n",
    "        # outputs: [(B, 2, H)] : start_logits, end_logits list\n",
    "        # B = len(datasets) * batch_size\n",
    "        # all_results = []\n",
    "        # for res in outputs:  # res: (B, 2, H)\n",
    "        #     start_logits, end_logits = res\n",
    "        #     idx = torch.arange(self.hparams.train_batch_size).repeat(len(self.val_files), 1)  # len(dataset), batch_size\n",
    "        #     example_idx_to_add = torch.LongTensor([0] + self.val_dataset_length[:-1]).unsqueeze(1)\n",
    "        #     idx = (idx + example_idx_to_add).view(-1)  # B\n",
    "        #     for k in idx:\n",
    "        #         unique_id = self.all_features[k].unique_id\n",
    "        #         result = SquadResult(unique_id, start_logits, end_logits)\n",
    "        #     all_results.append(result)\n",
    "        \n",
    "        # https://huggingface.co/transformers/_modules/transformers/data/processors/squad.html\n",
    "        # TODO: Cannot find the key unique_id\n",
    "        # BUG: must set argument of `trainer: num_sanity_val_steps=0` to avoid error.\n",
    "\n",
    "        predictions = compute_predictions_logits(\n",
    "            self.all_examples,\n",
    "            self.all_features,\n",
    "            all_results,\n",
    "            self.hparams.n_best_size,\n",
    "            self.hparams.max_answer_length,\n",
    "            self.hparams.do_lower_case,\n",
    "            self.hparams.ckpt_path / self.hparams.output_prediction_file.format(self.global_step),\n",
    "            self.hparams.ckpt_path / self.hparams.output_nbest_file.format(self.global_step),\n",
    "            self.hparams.ckpt_path / self.hparams.output_null_log_odds_file.format(self.global_step),\n",
    "            self.hparams.verbose_logging,\n",
    "            self.hparams.version_2_with_negative,\n",
    "            self.hparams.null_score_diff_threshold,\n",
    "            self.tokenizer,\n",
    "        )\n",
    "        results = squad_evaluate(self.all_examples, predictions)\n",
    "        accuracy = results[\"exact\"]\n",
    "        f1 = results[\"f1\"]\n",
    "        self.log(\"accuracy\", accuracy, on_epoch=True, prog_bar=True)\n",
    "        self.log(\"f1\", f1, on_epoch=True, prog_bar=True)\n",
    "\n",
    "    def configure_optimizers(self):\n",
    "        t_total = self.total_steps()\n",
    "        \n",
    "        no_decay = [\"bias\", \"LayerNorm.weight\"]\n",
    "        optimizer_grouped_parameters = [\n",
    "            {\n",
    "                \"params\": [p for n, p in self.model.named_parameters() if not any(nd in n for nd in no_decay)],\n",
    "                \"weight_decay\": self.hparams.weight_decay,\n",
    "            },\n",
    "            {\n",
    "                \"params\": [p for n, p in self.model.named_parameters() if any(nd in n for nd in no_decay)], \n",
    "                \"weight_decay\": 0.0\n",
    "            },\n",
    "        ]\n",
    "        optimizer = AdamW(\n",
    "            params=optimizer_grouped_parameters, \n",
    "            lr=self.hparams.learning_rate, \n",
    "            eps=self.hparams.adam_epsilon\n",
    "        )\n",
    "        scheduler = get_linear_schedule_with_warmup(\n",
    "            optimizer=optimizer, \n",
    "            num_warmup_steps=int(t_total * self.hparams.warmup_proportion), \n",
    "            num_training_steps=t_total\n",
    "        )\n",
    "        \n",
    "        return {\n",
    "            'optimizer': optimizer,\n",
    "            'scheduler': scheduler,\n",
    "        }\n",
    "\n",
    "    def total_steps(self):\n",
    "        r\"\"\"\n",
    "        source: https://github.com/PyTorchLightning/pytorch-lightning/issues/1038\n",
    "        \"\"\"\n",
    "        return len(self.train_dataloader()) * self.hparams.num_train_epochs"
   ]
  },
  {
   "cell_type": "code",
   "execution_count": 13,
   "metadata": {},
   "outputs": [],
   "source": [
    "def main(args_dict):\n",
    "    print(\"[INFO] Using PyTorch Ver\", torch.__version__)\n",
    "    print(\"[INFO] Seed:\", args_dict[\"random_seed\"])\n",
    "    checkpoint_callback = pl.callbacks.ModelCheckpoint(\n",
    "        filename=\"epoch{epoch}-f1{f1:.4f}\",\n",
    "        monitor=\"f1\",\n",
    "        save_top_k=3,\n",
    "        mode=\"max\",\n",
    "    )\n",
    "    pl.seed_everything(args_dict[\"random_seed\"])\n",
    "    model = Model(**args_dict)\n",
    "    \n",
    "    print(\"[INFO] Start FineTuning\")\n",
    "    trainer = pl.Trainer(\n",
    "        callbacks=[checkpoint_callback],\n",
    "        max_epochs=args_dict[\"num_train_epochs\"],\n",
    "        deterministic=torch.cuda.is_available(),\n",
    "        gpus=-1 if torch.cuda.is_available() else None,\n",
    "        num_sanity_val_steps=0\n",
    "    )\n",
    "    trainer.fit(model)\n",
    "    return model"
   ]
  },
  {
   "cell_type": "code",
   "execution_count": 14,
   "metadata": {},
   "outputs": [
    {
     "name": "stderr",
     "output_type": "stream",
     "text": [
      "Global seed set to 77\n"
     ]
    },
    {
     "name": "stdout",
     "output_type": "stream",
     "text": [
      "[INFO] Using PyTorch Ver 1.6.0\n",
      "[INFO] Seed: 77\n"
     ]
    },
    {
     "name": "stderr",
     "output_type": "stream",
     "text": [
      "Some weights of the model checkpoint at monologg/koelectra-base-v3-discriminator were not used when initializing ElectraForQuestionAnswering: ['discriminator_predictions.dense.weight', 'discriminator_predictions.dense.bias', 'discriminator_predictions.dense_prediction.weight', 'discriminator_predictions.dense_prediction.bias']\n",
      "- This IS expected if you are initializing ElectraForQuestionAnswering from the checkpoint of a model trained on another task or with another architecture (e.g. initializing a BertForSequenceClassification model from a BertForPreTraining model).\n",
      "- This IS NOT expected if you are initializing ElectraForQuestionAnswering from the checkpoint of a model that you expect to be exactly identical (initializing a BertForSequenceClassification model from a BertForSequenceClassification model).\n",
      "Some weights of ElectraForQuestionAnswering were not initialized from the model checkpoint at monologg/koelectra-base-v3-discriminator and are newly initialized: ['qa_outputs.weight', 'qa_outputs.bias']\n",
      "You should probably TRAIN this model on a down-stream task to be able to use it for predictions and inference.\n",
      "GPU available: True, used: True\n",
      "TPU available: None, using: 0 TPU cores\n",
      "\n",
      "  | Name  | Type                        | Params\n",
      "------------------------------------------------------\n",
      "0 | model | ElectraForQuestionAnswering | 112 M \n",
      "------------------------------------------------------\n",
      "112 M     Trainable params\n",
      "0         Non-trainable params\n",
      "112 M     Total params\n",
      "449.329   Total estimated model params size (MB)\n"
     ]
    },
    {
     "name": "stdout",
     "output_type": "stream",
     "text": [
      "[INFO] Processing: test_train_0.json | Cache file name: test_train_cache_0\n",
      "[INFO] cache file already exists! passing the procedure\n",
      "[INFO] Path: /home/simonjisu/code/ckpt/test_train_cache_0\n",
      "[INFO] Processing: test_train_1.json | Cache file name: test_train_cache_1\n",
      "[INFO] cache file already exists! passing the procedure\n",
      "[INFO] Path: /home/simonjisu/code/ckpt/test_train_cache_1\n",
      "[INFO] Processing: test_val_0.json | Cache file name: test_val_cache_0\n",
      "[INFO] cache file already exists! passing the procedure\n",
      "[INFO] Path: /home/simonjisu/code/ckpt/test_val_cache_0\n",
      "[INFO] Processing: test_val_1.json | Cache file name: test_val_cache_1\n",
      "[INFO] cache file already exists! passing the procedure\n",
      "[INFO] Path: /home/simonjisu/code/ckpt/test_val_cache_1\n",
      "[INFO] Start FineTuning\n"
     ]
    },
    {
     "data": {
      "application/vnd.jupyter.widget-view+json": {
       "model_id": "2967ba1984254c26b83549e16b516c75",
       "version_major": 2,
       "version_minor": 0
      },
      "text/plain": [
       "HBox(children=(FloatProgress(value=1.0, bar_style='info', description='Training', layout=Layout(flex='2'), max…"
      ]
     },
     "metadata": {},
     "output_type": "display_data"
    },
    {
     "data": {
      "application/vnd.jupyter.widget-view+json": {
       "model_id": "",
       "version_major": 2,
       "version_minor": 0
      },
      "text/plain": [
       "HBox(children=(FloatProgress(value=1.0, bar_style='info', description='Validating', layout=Layout(flex='2'), m…"
      ]
     },
     "metadata": {},
     "output_type": "display_data"
    },
    {
     "data": {
      "application/vnd.jupyter.widget-view+json": {
       "model_id": "",
       "version_major": 2,
       "version_minor": 0
      },
      "text/plain": [
       "HBox(children=(FloatProgress(value=1.0, bar_style='info', description='Validating', layout=Layout(flex='2'), m…"
      ]
     },
     "metadata": {},
     "output_type": "display_data"
    },
    {
     "data": {
      "application/vnd.jupyter.widget-view+json": {
       "model_id": "",
       "version_major": 2,
       "version_minor": 0
      },
      "text/plain": [
       "HBox(children=(FloatProgress(value=1.0, bar_style='info', description='Validating', layout=Layout(flex='2'), m…"
      ]
     },
     "metadata": {},
     "output_type": "display_data"
    },
    {
     "data": {
      "application/vnd.jupyter.widget-view+json": {
       "model_id": "",
       "version_major": 2,
       "version_minor": 0
      },
      "text/plain": [
       "HBox(children=(FloatProgress(value=1.0, bar_style='info', description='Validating', layout=Layout(flex='2'), m…"
      ]
     },
     "metadata": {},
     "output_type": "display_data"
    },
    {
     "data": {
      "application/vnd.jupyter.widget-view+json": {
       "model_id": "",
       "version_major": 2,
       "version_minor": 0
      },
      "text/plain": [
       "HBox(children=(FloatProgress(value=1.0, bar_style='info', description='Validating', layout=Layout(flex='2'), m…"
      ]
     },
     "metadata": {},
     "output_type": "display_data"
    },
    {
     "data": {
      "application/vnd.jupyter.widget-view+json": {
       "model_id": "",
       "version_major": 2,
       "version_minor": 0
      },
      "text/plain": [
       "HBox(children=(FloatProgress(value=1.0, bar_style='info', description='Validating', layout=Layout(flex='2'), m…"
      ]
     },
     "metadata": {},
     "output_type": "display_data"
    },
    {
     "data": {
      "application/vnd.jupyter.widget-view+json": {
       "model_id": "",
       "version_major": 2,
       "version_minor": 0
      },
      "text/plain": [
       "HBox(children=(FloatProgress(value=1.0, bar_style='info', description='Validating', layout=Layout(flex='2'), m…"
      ]
     },
     "metadata": {},
     "output_type": "display_data"
    },
    {
     "data": {
      "application/vnd.jupyter.widget-view+json": {
       "model_id": "",
       "version_major": 2,
       "version_minor": 0
      },
      "text/plain": [
       "HBox(children=(FloatProgress(value=1.0, bar_style='info', description='Validating', layout=Layout(flex='2'), m…"
      ]
     },
     "metadata": {},
     "output_type": "display_data"
    },
    {
     "data": {
      "application/vnd.jupyter.widget-view+json": {
       "model_id": "",
       "version_major": 2,
       "version_minor": 0
      },
      "text/plain": [
       "HBox(children=(FloatProgress(value=1.0, bar_style='info', description='Validating', layout=Layout(flex='2'), m…"
      ]
     },
     "metadata": {},
     "output_type": "display_data"
    },
    {
     "data": {
      "application/vnd.jupyter.widget-view+json": {
       "model_id": "",
       "version_major": 2,
       "version_minor": 0
      },
      "text/plain": [
       "HBox(children=(FloatProgress(value=1.0, bar_style='info', description='Validating', layout=Layout(flex='2'), m…"
      ]
     },
     "metadata": {},
     "output_type": "display_data"
    },
    {
     "name": "stdout",
     "output_type": "stream",
     "text": [
      "\n"
     ]
    },
    {
     "data": {
      "text/plain": [
       "Model(\n",
       "  (model): ElectraForQuestionAnswering(\n",
       "    (electra): ElectraModel(\n",
       "      (embeddings): ElectraEmbeddings(\n",
       "        (word_embeddings): Embedding(35000, 768, padding_idx=0)\n",
       "        (position_embeddings): Embedding(512, 768)\n",
       "        (token_type_embeddings): Embedding(2, 768)\n",
       "        (LayerNorm): LayerNorm((768,), eps=1e-12, elementwise_affine=True)\n",
       "        (dropout): Dropout(p=0.1, inplace=False)\n",
       "      )\n",
       "      (encoder): ElectraEncoder(\n",
       "        (layer): ModuleList(\n",
       "          (0): ElectraLayer(\n",
       "            (attention): ElectraAttention(\n",
       "              (self): ElectraSelfAttention(\n",
       "                (query): Linear(in_features=768, out_features=768, bias=True)\n",
       "                (key): Linear(in_features=768, out_features=768, bias=True)\n",
       "                (value): Linear(in_features=768, out_features=768, bias=True)\n",
       "                (dropout): Dropout(p=0.1, inplace=False)\n",
       "              )\n",
       "              (output): ElectraSelfOutput(\n",
       "                (dense): Linear(in_features=768, out_features=768, bias=True)\n",
       "                (LayerNorm): LayerNorm((768,), eps=1e-12, elementwise_affine=True)\n",
       "                (dropout): Dropout(p=0.1, inplace=False)\n",
       "              )\n",
       "            )\n",
       "            (intermediate): ElectraIntermediate(\n",
       "              (dense): Linear(in_features=768, out_features=3072, bias=True)\n",
       "            )\n",
       "            (output): ElectraOutput(\n",
       "              (dense): Linear(in_features=3072, out_features=768, bias=True)\n",
       "              (LayerNorm): LayerNorm((768,), eps=1e-12, elementwise_affine=True)\n",
       "              (dropout): Dropout(p=0.1, inplace=False)\n",
       "            )\n",
       "          )\n",
       "          (1): ElectraLayer(\n",
       "            (attention): ElectraAttention(\n",
       "              (self): ElectraSelfAttention(\n",
       "                (query): Linear(in_features=768, out_features=768, bias=True)\n",
       "                (key): Linear(in_features=768, out_features=768, bias=True)\n",
       "                (value): Linear(in_features=768, out_features=768, bias=True)\n",
       "                (dropout): Dropout(p=0.1, inplace=False)\n",
       "              )\n",
       "              (output): ElectraSelfOutput(\n",
       "                (dense): Linear(in_features=768, out_features=768, bias=True)\n",
       "                (LayerNorm): LayerNorm((768,), eps=1e-12, elementwise_affine=True)\n",
       "                (dropout): Dropout(p=0.1, inplace=False)\n",
       "              )\n",
       "            )\n",
       "            (intermediate): ElectraIntermediate(\n",
       "              (dense): Linear(in_features=768, out_features=3072, bias=True)\n",
       "            )\n",
       "            (output): ElectraOutput(\n",
       "              (dense): Linear(in_features=3072, out_features=768, bias=True)\n",
       "              (LayerNorm): LayerNorm((768,), eps=1e-12, elementwise_affine=True)\n",
       "              (dropout): Dropout(p=0.1, inplace=False)\n",
       "            )\n",
       "          )\n",
       "          (2): ElectraLayer(\n",
       "            (attention): ElectraAttention(\n",
       "              (self): ElectraSelfAttention(\n",
       "                (query): Linear(in_features=768, out_features=768, bias=True)\n",
       "                (key): Linear(in_features=768, out_features=768, bias=True)\n",
       "                (value): Linear(in_features=768, out_features=768, bias=True)\n",
       "                (dropout): Dropout(p=0.1, inplace=False)\n",
       "              )\n",
       "              (output): ElectraSelfOutput(\n",
       "                (dense): Linear(in_features=768, out_features=768, bias=True)\n",
       "                (LayerNorm): LayerNorm((768,), eps=1e-12, elementwise_affine=True)\n",
       "                (dropout): Dropout(p=0.1, inplace=False)\n",
       "              )\n",
       "            )\n",
       "            (intermediate): ElectraIntermediate(\n",
       "              (dense): Linear(in_features=768, out_features=3072, bias=True)\n",
       "            )\n",
       "            (output): ElectraOutput(\n",
       "              (dense): Linear(in_features=3072, out_features=768, bias=True)\n",
       "              (LayerNorm): LayerNorm((768,), eps=1e-12, elementwise_affine=True)\n",
       "              (dropout): Dropout(p=0.1, inplace=False)\n",
       "            )\n",
       "          )\n",
       "          (3): ElectraLayer(\n",
       "            (attention): ElectraAttention(\n",
       "              (self): ElectraSelfAttention(\n",
       "                (query): Linear(in_features=768, out_features=768, bias=True)\n",
       "                (key): Linear(in_features=768, out_features=768, bias=True)\n",
       "                (value): Linear(in_features=768, out_features=768, bias=True)\n",
       "                (dropout): Dropout(p=0.1, inplace=False)\n",
       "              )\n",
       "              (output): ElectraSelfOutput(\n",
       "                (dense): Linear(in_features=768, out_features=768, bias=True)\n",
       "                (LayerNorm): LayerNorm((768,), eps=1e-12, elementwise_affine=True)\n",
       "                (dropout): Dropout(p=0.1, inplace=False)\n",
       "              )\n",
       "            )\n",
       "            (intermediate): ElectraIntermediate(\n",
       "              (dense): Linear(in_features=768, out_features=3072, bias=True)\n",
       "            )\n",
       "            (output): ElectraOutput(\n",
       "              (dense): Linear(in_features=3072, out_features=768, bias=True)\n",
       "              (LayerNorm): LayerNorm((768,), eps=1e-12, elementwise_affine=True)\n",
       "              (dropout): Dropout(p=0.1, inplace=False)\n",
       "            )\n",
       "          )\n",
       "          (4): ElectraLayer(\n",
       "            (attention): ElectraAttention(\n",
       "              (self): ElectraSelfAttention(\n",
       "                (query): Linear(in_features=768, out_features=768, bias=True)\n",
       "                (key): Linear(in_features=768, out_features=768, bias=True)\n",
       "                (value): Linear(in_features=768, out_features=768, bias=True)\n",
       "                (dropout): Dropout(p=0.1, inplace=False)\n",
       "              )\n",
       "              (output): ElectraSelfOutput(\n",
       "                (dense): Linear(in_features=768, out_features=768, bias=True)\n",
       "                (LayerNorm): LayerNorm((768,), eps=1e-12, elementwise_affine=True)\n",
       "                (dropout): Dropout(p=0.1, inplace=False)\n",
       "              )\n",
       "            )\n",
       "            (intermediate): ElectraIntermediate(\n",
       "              (dense): Linear(in_features=768, out_features=3072, bias=True)\n",
       "            )\n",
       "            (output): ElectraOutput(\n",
       "              (dense): Linear(in_features=3072, out_features=768, bias=True)\n",
       "              (LayerNorm): LayerNorm((768,), eps=1e-12, elementwise_affine=True)\n",
       "              (dropout): Dropout(p=0.1, inplace=False)\n",
       "            )\n",
       "          )\n",
       "          (5): ElectraLayer(\n",
       "            (attention): ElectraAttention(\n",
       "              (self): ElectraSelfAttention(\n",
       "                (query): Linear(in_features=768, out_features=768, bias=True)\n",
       "                (key): Linear(in_features=768, out_features=768, bias=True)\n",
       "                (value): Linear(in_features=768, out_features=768, bias=True)\n",
       "                (dropout): Dropout(p=0.1, inplace=False)\n",
       "              )\n",
       "              (output): ElectraSelfOutput(\n",
       "                (dense): Linear(in_features=768, out_features=768, bias=True)\n",
       "                (LayerNorm): LayerNorm((768,), eps=1e-12, elementwise_affine=True)\n",
       "                (dropout): Dropout(p=0.1, inplace=False)\n",
       "              )\n",
       "            )\n",
       "            (intermediate): ElectraIntermediate(\n",
       "              (dense): Linear(in_features=768, out_features=3072, bias=True)\n",
       "            )\n",
       "            (output): ElectraOutput(\n",
       "              (dense): Linear(in_features=3072, out_features=768, bias=True)\n",
       "              (LayerNorm): LayerNorm((768,), eps=1e-12, elementwise_affine=True)\n",
       "              (dropout): Dropout(p=0.1, inplace=False)\n",
       "            )\n",
       "          )\n",
       "          (6): ElectraLayer(\n",
       "            (attention): ElectraAttention(\n",
       "              (self): ElectraSelfAttention(\n",
       "                (query): Linear(in_features=768, out_features=768, bias=True)\n",
       "                (key): Linear(in_features=768, out_features=768, bias=True)\n",
       "                (value): Linear(in_features=768, out_features=768, bias=True)\n",
       "                (dropout): Dropout(p=0.1, inplace=False)\n",
       "              )\n",
       "              (output): ElectraSelfOutput(\n",
       "                (dense): Linear(in_features=768, out_features=768, bias=True)\n",
       "                (LayerNorm): LayerNorm((768,), eps=1e-12, elementwise_affine=True)\n",
       "                (dropout): Dropout(p=0.1, inplace=False)\n",
       "              )\n",
       "            )\n",
       "            (intermediate): ElectraIntermediate(\n",
       "              (dense): Linear(in_features=768, out_features=3072, bias=True)\n",
       "            )\n",
       "            (output): ElectraOutput(\n",
       "              (dense): Linear(in_features=3072, out_features=768, bias=True)\n",
       "              (LayerNorm): LayerNorm((768,), eps=1e-12, elementwise_affine=True)\n",
       "              (dropout): Dropout(p=0.1, inplace=False)\n",
       "            )\n",
       "          )\n",
       "          (7): ElectraLayer(\n",
       "            (attention): ElectraAttention(\n",
       "              (self): ElectraSelfAttention(\n",
       "                (query): Linear(in_features=768, out_features=768, bias=True)\n",
       "                (key): Linear(in_features=768, out_features=768, bias=True)\n",
       "                (value): Linear(in_features=768, out_features=768, bias=True)\n",
       "                (dropout): Dropout(p=0.1, inplace=False)\n",
       "              )\n",
       "              (output): ElectraSelfOutput(\n",
       "                (dense): Linear(in_features=768, out_features=768, bias=True)\n",
       "                (LayerNorm): LayerNorm((768,), eps=1e-12, elementwise_affine=True)\n",
       "                (dropout): Dropout(p=0.1, inplace=False)\n",
       "              )\n",
       "            )\n",
       "            (intermediate): ElectraIntermediate(\n",
       "              (dense): Linear(in_features=768, out_features=3072, bias=True)\n",
       "            )\n",
       "            (output): ElectraOutput(\n",
       "              (dense): Linear(in_features=3072, out_features=768, bias=True)\n",
       "              (LayerNorm): LayerNorm((768,), eps=1e-12, elementwise_affine=True)\n",
       "              (dropout): Dropout(p=0.1, inplace=False)\n",
       "            )\n",
       "          )\n",
       "          (8): ElectraLayer(\n",
       "            (attention): ElectraAttention(\n",
       "              (self): ElectraSelfAttention(\n",
       "                (query): Linear(in_features=768, out_features=768, bias=True)\n",
       "                (key): Linear(in_features=768, out_features=768, bias=True)\n",
       "                (value): Linear(in_features=768, out_features=768, bias=True)\n",
       "                (dropout): Dropout(p=0.1, inplace=False)\n",
       "              )\n",
       "              (output): ElectraSelfOutput(\n",
       "                (dense): Linear(in_features=768, out_features=768, bias=True)\n",
       "                (LayerNorm): LayerNorm((768,), eps=1e-12, elementwise_affine=True)\n",
       "                (dropout): Dropout(p=0.1, inplace=False)\n",
       "              )\n",
       "            )\n",
       "            (intermediate): ElectraIntermediate(\n",
       "              (dense): Linear(in_features=768, out_features=3072, bias=True)\n",
       "            )\n",
       "            (output): ElectraOutput(\n",
       "              (dense): Linear(in_features=3072, out_features=768, bias=True)\n",
       "              (LayerNorm): LayerNorm((768,), eps=1e-12, elementwise_affine=True)\n",
       "              (dropout): Dropout(p=0.1, inplace=False)\n",
       "            )\n",
       "          )\n",
       "          (9): ElectraLayer(\n",
       "            (attention): ElectraAttention(\n",
       "              (self): ElectraSelfAttention(\n",
       "                (query): Linear(in_features=768, out_features=768, bias=True)\n",
       "                (key): Linear(in_features=768, out_features=768, bias=True)\n",
       "                (value): Linear(in_features=768, out_features=768, bias=True)\n",
       "                (dropout): Dropout(p=0.1, inplace=False)\n",
       "              )\n",
       "              (output): ElectraSelfOutput(\n",
       "                (dense): Linear(in_features=768, out_features=768, bias=True)\n",
       "                (LayerNorm): LayerNorm((768,), eps=1e-12, elementwise_affine=True)\n",
       "                (dropout): Dropout(p=0.1, inplace=False)\n",
       "              )\n",
       "            )\n",
       "            (intermediate): ElectraIntermediate(\n",
       "              (dense): Linear(in_features=768, out_features=3072, bias=True)\n",
       "            )\n",
       "            (output): ElectraOutput(\n",
       "              (dense): Linear(in_features=3072, out_features=768, bias=True)\n",
       "              (LayerNorm): LayerNorm((768,), eps=1e-12, elementwise_affine=True)\n",
       "              (dropout): Dropout(p=0.1, inplace=False)\n",
       "            )\n",
       "          )\n",
       "          (10): ElectraLayer(\n",
       "            (attention): ElectraAttention(\n",
       "              (self): ElectraSelfAttention(\n",
       "                (query): Linear(in_features=768, out_features=768, bias=True)\n",
       "                (key): Linear(in_features=768, out_features=768, bias=True)\n",
       "                (value): Linear(in_features=768, out_features=768, bias=True)\n",
       "                (dropout): Dropout(p=0.1, inplace=False)\n",
       "              )\n",
       "              (output): ElectraSelfOutput(\n",
       "                (dense): Linear(in_features=768, out_features=768, bias=True)\n",
       "                (LayerNorm): LayerNorm((768,), eps=1e-12, elementwise_affine=True)\n",
       "                (dropout): Dropout(p=0.1, inplace=False)\n",
       "              )\n",
       "            )\n",
       "            (intermediate): ElectraIntermediate(\n",
       "              (dense): Linear(in_features=768, out_features=3072, bias=True)\n",
       "            )\n",
       "            (output): ElectraOutput(\n",
       "              (dense): Linear(in_features=3072, out_features=768, bias=True)\n",
       "              (LayerNorm): LayerNorm((768,), eps=1e-12, elementwise_affine=True)\n",
       "              (dropout): Dropout(p=0.1, inplace=False)\n",
       "            )\n",
       "          )\n",
       "          (11): ElectraLayer(\n",
       "            (attention): ElectraAttention(\n",
       "              (self): ElectraSelfAttention(\n",
       "                (query): Linear(in_features=768, out_features=768, bias=True)\n",
       "                (key): Linear(in_features=768, out_features=768, bias=True)\n",
       "                (value): Linear(in_features=768, out_features=768, bias=True)\n",
       "                (dropout): Dropout(p=0.1, inplace=False)\n",
       "              )\n",
       "              (output): ElectraSelfOutput(\n",
       "                (dense): Linear(in_features=768, out_features=768, bias=True)\n",
       "                (LayerNorm): LayerNorm((768,), eps=1e-12, elementwise_affine=True)\n",
       "                (dropout): Dropout(p=0.1, inplace=False)\n",
       "              )\n",
       "            )\n",
       "            (intermediate): ElectraIntermediate(\n",
       "              (dense): Linear(in_features=768, out_features=3072, bias=True)\n",
       "            )\n",
       "            (output): ElectraOutput(\n",
       "              (dense): Linear(in_features=3072, out_features=768, bias=True)\n",
       "              (LayerNorm): LayerNorm((768,), eps=1e-12, elementwise_affine=True)\n",
       "              (dropout): Dropout(p=0.1, inplace=False)\n",
       "            )\n",
       "          )\n",
       "        )\n",
       "      )\n",
       "    )\n",
       "    (qa_outputs): Linear(in_features=768, out_features=2, bias=True)\n",
       "  )\n",
       ")"
      ]
     },
     "execution_count": 14,
     "metadata": {},
     "output_type": "execute_result"
    }
   ],
   "source": [
    "main(args_dict)"
   ]
  },
  {
   "cell_type": "markdown",
   "metadata": {},
   "source": [
    "---"
   ]
  }
 ],
 "metadata": {
  "kernelspec": {
   "display_name": "Python 3",
   "language": "python",
   "name": "python3"
  },
  "language_info": {
   "codemirror_mode": {
    "name": "ipython",
    "version": 3
   },
   "file_extension": ".py",
   "mimetype": "text/x-python",
   "name": "python",
   "nbconvert_exporter": "python",
   "pygments_lexer": "ipython3",
   "version": "3.7.9"
  }
 },
 "nbformat": 4,
 "nbformat_minor": 4
}
